{
 "cells": [
  {
   "cell_type": "markdown",
   "metadata": {},
   "source": [
    "# Purpose"
   ]
  },
  {
   "cell_type": "code",
   "execution_count": null,
   "metadata": {},
   "outputs": [],
   "source": []
  },
  {
   "cell_type": "markdown",
   "metadata": {},
   "source": [
    "This notebook demonstrates the model experimentation and finalization. It covers EDA, outlier treatment, transformation, training, model evaluation and comparison across models."
   ]
  },
  {
   "cell_type": "markdown",
   "metadata": {},
   "source": [
    "## Imports"
   ]
  },
  {
   "cell_type": "code",
   "execution_count": 61,
   "metadata": {},
   "outputs": [],
   "source": [
    "import os\n",
    "import os.path as op\n",
    "import shutil\n",
    "\n",
    "# standard third party imports\n",
    "import numpy as np\n",
    "import pandas as pd\n",
    "from matplotlib import pyplot as plt\n",
    "from sklearn.pipeline import Pipeline\n",
    "from sklearn.feature_selection import SelectFromModel\n",
    "from sklearn.model_selection import GridSearchCV\n",
    "from sklearn.preprocessing import FunctionTransformer\n",
    "from sklearn.compose import ColumnTransformer\n",
    "import logging\n",
    "import os\n",
    "import os.path as op\n",
    "import tarfile\n",
    "from scipy.stats import randint\n",
    "from six.moves import urllib\n",
    "from sklearn.base import BaseEstimator, TransformerMixin\n",
    "from sklearn.compose import ColumnTransformer\n",
    "from sklearn.ensemble import RandomForestRegressor\n",
    "from sklearn.impute import SimpleImputer\n",
    "from sklearn.linear_model import LinearRegression\n",
    "from sklearn.metrics import mean_absolute_error, mean_squared_error\n",
    "from sklearn.model_selection import (GridSearchCV, RandomizedSearchCV,\n",
    "                                     StratifiedShuffleSplit, train_test_split)\n",
    "from sklearn.pipeline import Pipeline\n",
    "from sklearn.preprocessing import OneHotEncoder, StandardScaler\n",
    "from sklearn.tree import DecisionTreeRegressor\n",
    "# impute missing values\n",
    "from sklearn.experimental import enable_iterative_imputer  # noqa\n",
    "from sklearn.impute import KNNImputer, IterativeImputer, SimpleImputer\n",
    "from sklearn.tree import DecisionTreeRegressor\n",
    "from category_encoders import TargetEncoder\n"
   ]
  },
  {
   "cell_type": "code",
   "execution_count": 62,
   "metadata": {},
   "outputs": [
    {
     "name": "stdout",
     "output_type": "stream",
     "text": [
      "The autoreload extension is already loaded. To reload it, use:\n",
      "  %reload_ext autoreload\n"
     ]
    }
   ],
   "source": [
    "%load_ext autoreload\n",
    "%autoreload 2"
   ]
  },
  {
   "cell_type": "code",
   "execution_count": 63,
   "metadata": {},
   "outputs": [],
   "source": [
    "import warnings\n",
    "\n",
    "warnings.filterwarnings('ignore', message=\"pandas.Int64Index is deprecated and will be removed from pandas in a future version. Use pandas.Index with the appropriate dtype instead.\", \n",
    "                        category=FutureWarning)\n",
    "warnings.filterwarnings('ignore', message=\"pandas.Float64Index is deprecated and will be removed from pandas in a future version. Use pandas.Index with the appropriate dtype instead.\",\n",
    "                        category=FutureWarning)"
   ]
  },
  {
   "cell_type": "code",
   "execution_count": 64,
   "metadata": {},
   "outputs": [],
   "source": [
    "# standard code-template imports\n",
    "from ta_lib.core.api import (\n",
    "    create_context, get_dataframe, get_feature_names_from_column_transformer, string_cleaning,\n",
    "    get_package_path, display_as_tabs, save_pipeline, load_pipeline, initialize_environment,\n",
    "    load_dataset, save_dataset, DEFAULT_ARTIFACTS_PATH\n",
    ")\n",
    "\n",
    "import ta_lib.eda.api as eda\n",
    "from xgboost import XGBRegressor\n",
    "from ta_lib.regression.api import SKLStatsmodelOLS\n",
    "from ta_lib.regression.api import RegressionComparison, RegressionReport\n",
    "import ta_lib.reports.api as reports\n",
    "from ta_lib.data_processing.api import Outlier\n",
    "from ta_lib.housing import data_prep  as dp\n",
    "\n",
    "initialize_environment(debug=False, hide_warnings=True)"
   ]
  },
  {
   "cell_type": "markdown",
   "metadata": {},
   "source": [
    "# Initialization"
   ]
  },
  {
   "cell_type": "code",
   "execution_count": 65,
   "metadata": {},
   "outputs": [],
   "source": [
    "artifacts_folder = DEFAULT_ARTIFACTS_PATH"
   ]
  },
  {
   "cell_type": "code",
   "execution_count": 73,
   "metadata": {},
   "outputs": [],
   "source": [
    "config_path = op.join('conf', 'config.yml')\n",
    "context = create_context(config_path)"
   ]
  },
  {
   "cell_type": "code",
   "execution_count": 74,
   "metadata": {},
   "outputs": [
    {
     "data": {
      "text/plain": [
       "{'parameters': {'XGBoost': {'gamma': [0.03],\n",
       "   'min_child_weight': [6],\n",
       "   'learning_rate': [0.1],\n",
       "   'max_depth': [3],\n",
       "   'n_estimators': [500]}}}"
      ]
     },
     "execution_count": 74,
     "metadata": {},
     "output_type": "execute_result"
    }
   ],
   "source": [
    "context.config[\"params\"]"
   ]
  },
  {
   "cell_type": "markdown",
   "metadata": {},
   "source": [
    "# 3 Feature Engineering\n",
    "\n",
    "The focus here is the `Pipeline` and not the model. Though the model would inform the pipeline that is needed to train the model, our focus is to set it up in such a way that it can be saved/loaded, tweaked for different model choices and so on."
   ]
  },
  {
   "cell_type": "markdown",
   "metadata": {},
   "source": [
    "## 3.1 Read the Train and Test Data"
   ]
  },
  {
   "cell_type": "code",
   "execution_count": 75,
   "metadata": {},
   "outputs": [
    {
     "name": "stdout",
     "output_type": "stream",
     "text": [
      "(4128, 10) (4128, 1)\n",
      "(4128, 10) (4128, 1)\n"
     ]
    }
   ],
   "source": [
    "train_X = load_dataset(context, 'train/housing/features')\n",
    "train_y = load_dataset(context, 'train/housing/target')\n",
    "print(train_X.shape, train_y.shape)\n",
    "\n",
    "test_X = load_dataset(context, 'test/housing/features')\n",
    "test_y = load_dataset(context, 'test/housing/target')\n",
    "print(test_X.shape, test_y.shape)"
   ]
  },
  {
   "cell_type": "markdown",
   "metadata": {},
   "source": [
    "## 3.2 Feature Engineering Pipelines\n"
   ]
  },
  {
   "cell_type": "markdown",
   "metadata": {},
   "source": [
    "**Dev NOTES**\n",
    "\n",
    "For Feature Engineering and Model Building sklearn.pipeline.Pipeline are leveraged because of the following advantages\n",
    "<details>\n",
    "    \n",
    "1. It helps in automating workflows and are easier to read and comprehend.\n",
    "2. Right Sequence can be ensured and (for example always encodes before imputing)\n",
    "3. Reproducibility is very convenient with pipelines\n",
    "4. Pipelines help you prevent data leakage in your test data\n",
    "5. Code is near implementation ready"
   ]
  },
  {
   "cell_type": "markdown",
   "metadata": {},
   "source": [
    "#### General Steps in the Feature Transformation are as follows\n",
    " - Outlier Treatment\n",
    " - Encoding of Categorical Columns\n",
    " - Missing Values Imputation"
   ]
  },
  {
   "cell_type": "code",
   "execution_count": 76,
   "metadata": {},
   "outputs": [],
   "source": [
    "# collecting different types of columns for transformations\n",
    "cat_columns = train_X.select_dtypes('object').columns\n",
    "num_columns = train_X.select_dtypes('number').columns"
   ]
  },
  {
   "cell_type": "markdown",
   "metadata": {},
   "source": [
    "#### Outlier Handling\n",
    "- A Custom Transformer is used to handle outliers. It is not included as part of the pipeline as outliers handling are optional for test data\n",
    "- An option to either drop or cap the outliers can be passed during the transform call\n",
    "- If we want to treat outliers for some columns them we can pass cols argument to the Transformer\n",
    "- This will go into production code"
   ]
  },
  {
   "cell_type": "code",
   "execution_count": 77,
   "metadata": {},
   "outputs": [
    {
     "name": "stdout",
     "output_type": "stream",
     "text": [
      "(4128, 10)\n",
      "(4128, 10)\n"
     ]
    }
   ],
   "source": [
    "outlier_transformer = Outlier(method='mean')\n",
    "print(train_X.shape)\n",
    "train_X = outlier_transformer.fit_transform(train_X)\n",
    "print(train_X.shape)"
   ]
  },
  {
   "cell_type": "markdown",
   "metadata": {},
   "source": [
    "#### Encoding\n"
   ]
  },
  {
   "cell_type": "markdown",
   "metadata": {},
   "source": [
    "Some sample pipelines showcasing how to create column specific pipelines and integrating them overall is presented below\n",
    "\n",
    "- Commonly target encoding is done for categorical variables with too many levels.\n",
    "- We also group sparse levels. For fewer levels one hot encoding/label encoding is preferred.\n",
    "- If there is one dominant level, we can use binary encoding.\n",
    "- This will go into production code"
   ]
  },
  {
   "cell_type": "code",
   "execution_count": 78,
   "metadata": {},
   "outputs": [],
   "source": [
    "save_dataset(context, train_X, 'processed/housing/features')\n",
    "save_dataset(context, train_y, 'processed/housing/target')"
   ]
  },
  {
   "cell_type": "code",
   "execution_count": 79,
   "metadata": {},
   "outputs": [],
   "source": [
    "housing=train_X.copy()\n",
    "housing_num = housing.drop(\"ocean_proximity\", axis=1)\n",
    "num_attribs = list(housing_num)\n",
    "cat_attribs = [\"ocean_proximity\"]"
   ]
  },
  {
   "cell_type": "code",
   "execution_count": 80,
   "metadata": {},
   "outputs": [],
   "source": [
    "housing_prepared=dp.data_prep(train_X)"
   ]
  },
  {
   "cell_type": "code",
   "execution_count": 81,
   "metadata": {},
   "outputs": [
    {
     "data": {
      "text/html": [
       "<div>\n",
       "<style scoped>\n",
       "    .dataframe tbody tr th:only-of-type {\n",
       "        vertical-align: middle;\n",
       "    }\n",
       "\n",
       "    .dataframe tbody tr th {\n",
       "        vertical-align: top;\n",
       "    }\n",
       "\n",
       "    .dataframe thead th {\n",
       "        text-align: right;\n",
       "    }\n",
       "</style>\n",
       "<table border=\"1\" class=\"dataframe\">\n",
       "  <thead>\n",
       "    <tr style=\"text-align: right;\">\n",
       "      <th></th>\n",
       "      <th>longitude</th>\n",
       "      <th>latitude</th>\n",
       "      <th>housing_median_age</th>\n",
       "      <th>total_rooms</th>\n",
       "      <th>total_bedrooms</th>\n",
       "      <th>population</th>\n",
       "      <th>households</th>\n",
       "      <th>median_income</th>\n",
       "      <th>income_cat</th>\n",
       "      <th>rooms_per_household</th>\n",
       "      <th>bedrooms_per_room</th>\n",
       "      <th>population_per_household</th>\n",
       "      <th>ocean_proximity_&lt;1H OCEAN</th>\n",
       "      <th>ocean_proximity_INLAND</th>\n",
       "      <th>ocean_proximity_ISLAND</th>\n",
       "      <th>ocean_proximity_NEAR BAY</th>\n",
       "      <th>ocean_proximity_NEAR OCEAN</th>\n",
       "    </tr>\n",
       "  </thead>\n",
       "  <tbody>\n",
       "    <tr>\n",
       "      <th>0</th>\n",
       "      <td>0.575070</td>\n",
       "      <td>-0.696573</td>\n",
       "      <td>0.032956</td>\n",
       "      <td>2.155858</td>\n",
       "      <td>1.324706</td>\n",
       "      <td>0.817501</td>\n",
       "      <td>1.404346</td>\n",
       "      <td>2.565291</td>\n",
       "      <td>1.890326</td>\n",
       "      <td>0.745801</td>\n",
       "      <td>-0.437913</td>\n",
       "      <td>-0.892368</td>\n",
       "      <td>1.0</td>\n",
       "      <td>0.0</td>\n",
       "      <td>0.0</td>\n",
       "      <td>0.0</td>\n",
       "      <td>0.0</td>\n",
       "    </tr>\n",
       "    <tr>\n",
       "      <th>1</th>\n",
       "      <td>-0.434801</td>\n",
       "      <td>-0.334668</td>\n",
       "      <td>-0.362981</td>\n",
       "      <td>-0.322671</td>\n",
       "      <td>-0.623843</td>\n",
       "      <td>-0.587521</td>\n",
       "      <td>-0.645584</td>\n",
       "      <td>0.685576</td>\n",
       "      <td>0.942177</td>\n",
       "      <td>0.980252</td>\n",
       "      <td>0.034493</td>\n",
       "      <td>-0.970250</td>\n",
       "      <td>1.0</td>\n",
       "      <td>0.0</td>\n",
       "      <td>0.0</td>\n",
       "      <td>0.0</td>\n",
       "      <td>0.0</td>\n",
       "    </tr>\n",
       "    <tr>\n",
       "      <th>2</th>\n",
       "      <td>0.545222</td>\n",
       "      <td>-0.635472</td>\n",
       "      <td>0.587268</td>\n",
       "      <td>-0.640115</td>\n",
       "      <td>-0.726107</td>\n",
       "      <td>-0.637210</td>\n",
       "      <td>-0.669807</td>\n",
       "      <td>0.325915</td>\n",
       "      <td>-0.005972</td>\n",
       "      <td>-0.049426</td>\n",
       "      <td>-0.018065</td>\n",
       "      <td>-0.442271</td>\n",
       "      <td>1.0</td>\n",
       "      <td>0.0</td>\n",
       "      <td>0.0</td>\n",
       "      <td>0.0</td>\n",
       "      <td>0.0</td>\n",
       "    </tr>\n",
       "    <tr>\n",
       "      <th>3</th>\n",
       "      <td>0.719338</td>\n",
       "      <td>-0.795274</td>\n",
       "      <td>0.508081</td>\n",
       "      <td>-0.528142</td>\n",
       "      <td>-0.574093</td>\n",
       "      <td>-0.358108</td>\n",
       "      <td>-0.591080</td>\n",
       "      <td>-0.313603</td>\n",
       "      <td>-0.005972</td>\n",
       "      <td>0.066115</td>\n",
       "      <td>0.376521</td>\n",
       "      <td>-0.273937</td>\n",
       "      <td>1.0</td>\n",
       "      <td>0.0</td>\n",
       "      <td>0.0</td>\n",
       "      <td>0.0</td>\n",
       "      <td>0.0</td>\n",
       "    </tr>\n",
       "    <tr>\n",
       "      <th>4</th>\n",
       "      <td>1.231735</td>\n",
       "      <td>-1.331081</td>\n",
       "      <td>0.745643</td>\n",
       "      <td>0.662134</td>\n",
       "      <td>0.224674</td>\n",
       "      <td>0.089088</td>\n",
       "      <td>0.356671</td>\n",
       "      <td>0.308104</td>\n",
       "      <td>-0.005972</td>\n",
       "      <td>0.434315</td>\n",
       "      <td>-0.336713</td>\n",
       "      <td>-0.806490</td>\n",
       "      <td>0.0</td>\n",
       "      <td>0.0</td>\n",
       "      <td>0.0</td>\n",
       "      <td>0.0</td>\n",
       "      <td>1.0</td>\n",
       "    </tr>\n",
       "    <tr>\n",
       "      <th>...</th>\n",
       "      <td>...</td>\n",
       "      <td>...</td>\n",
       "      <td>...</td>\n",
       "      <td>...</td>\n",
       "      <td>...</td>\n",
       "      <td>...</td>\n",
       "      <td>...</td>\n",
       "      <td>...</td>\n",
       "      <td>...</td>\n",
       "      <td>...</td>\n",
       "      <td>...</td>\n",
       "      <td>...</td>\n",
       "      <td>...</td>\n",
       "      <td>...</td>\n",
       "      <td>...</td>\n",
       "      <td>...</td>\n",
       "      <td>...</td>\n",
       "    </tr>\n",
       "    <tr>\n",
       "      <th>4123</th>\n",
       "      <td>1.122291</td>\n",
       "      <td>-0.884575</td>\n",
       "      <td>-0.758918</td>\n",
       "      <td>-0.195021</td>\n",
       "      <td>-0.292175</td>\n",
       "      <td>-0.215386</td>\n",
       "      <td>-0.388207</td>\n",
       "      <td>-0.574328</td>\n",
       "      <td>-0.954121</td>\n",
       "      <td>0.408755</td>\n",
       "      <td>0.198264</td>\n",
       "      <td>-0.377928</td>\n",
       "      <td>1.0</td>\n",
       "      <td>0.0</td>\n",
       "      <td>0.0</td>\n",
       "      <td>0.0</td>\n",
       "      <td>0.0</td>\n",
       "    </tr>\n",
       "    <tr>\n",
       "      <th>4124</th>\n",
       "      <td>0.649691</td>\n",
       "      <td>-0.757673</td>\n",
       "      <td>0.349706</td>\n",
       "      <td>-0.958119</td>\n",
       "      <td>-0.659774</td>\n",
       "      <td>-0.148782</td>\n",
       "      <td>-0.648612</td>\n",
       "      <td>-0.950938</td>\n",
       "      <td>-0.954121</td>\n",
       "      <td>-1.240797</td>\n",
       "      <td>0.972937</td>\n",
       "      <td>1.841447</td>\n",
       "      <td>1.0</td>\n",
       "      <td>0.0</td>\n",
       "      <td>0.0</td>\n",
       "      <td>0.0</td>\n",
       "      <td>0.0</td>\n",
       "    </tr>\n",
       "    <tr>\n",
       "      <th>4125</th>\n",
       "      <td>-0.086570</td>\n",
       "      <td>-0.546171</td>\n",
       "      <td>1.141580</td>\n",
       "      <td>-0.456479</td>\n",
       "      <td>-0.527106</td>\n",
       "      <td>-0.790504</td>\n",
       "      <td>-0.418487</td>\n",
       "      <td>0.507526</td>\n",
       "      <td>0.942177</td>\n",
       "      <td>-0.220898</td>\n",
       "      <td>-0.705735</td>\n",
       "      <td>-0.345473</td>\n",
       "      <td>1.0</td>\n",
       "      <td>0.0</td>\n",
       "      <td>0.0</td>\n",
       "      <td>0.0</td>\n",
       "      <td>0.0</td>\n",
       "    </tr>\n",
       "    <tr>\n",
       "      <th>4126</th>\n",
       "      <td>0.813858</td>\n",
       "      <td>-0.926876</td>\n",
       "      <td>0.112144</td>\n",
       "      <td>-0.294118</td>\n",
       "      <td>-0.333634</td>\n",
       "      <td>-0.348593</td>\n",
       "      <td>-0.254977</td>\n",
       "      <td>0.629616</td>\n",
       "      <td>0.942177</td>\n",
       "      <td>-0.192111</td>\n",
       "      <td>-0.217103</td>\n",
       "      <td>-0.237657</td>\n",
       "      <td>1.0</td>\n",
       "      <td>0.0</td>\n",
       "      <td>0.0</td>\n",
       "      <td>0.0</td>\n",
       "      <td>0.0</td>\n",
       "    </tr>\n",
       "    <tr>\n",
       "      <th>4127</th>\n",
       "      <td>0.490500</td>\n",
       "      <td>-0.663672</td>\n",
       "      <td>0.587268</td>\n",
       "      <td>0.002052</td>\n",
       "      <td>-0.253480</td>\n",
       "      <td>-0.174155</td>\n",
       "      <td>-0.212585</td>\n",
       "      <td>0.169181</td>\n",
       "      <td>-0.005972</td>\n",
       "      <td>0.405751</td>\n",
       "      <td>-0.026485</td>\n",
       "      <td>-0.695120</td>\n",
       "      <td>1.0</td>\n",
       "      <td>0.0</td>\n",
       "      <td>0.0</td>\n",
       "      <td>0.0</td>\n",
       "      <td>0.0</td>\n",
       "    </tr>\n",
       "  </tbody>\n",
       "</table>\n",
       "<p>4128 rows × 17 columns</p>\n",
       "</div>"
      ],
      "text/plain": [
       "      longitude  latitude  housing_median_age  total_rooms  total_bedrooms  \\\n",
       "0      0.575070 -0.696573            0.032956     2.155858        1.324706   \n",
       "1     -0.434801 -0.334668           -0.362981    -0.322671       -0.623843   \n",
       "2      0.545222 -0.635472            0.587268    -0.640115       -0.726107   \n",
       "3      0.719338 -0.795274            0.508081    -0.528142       -0.574093   \n",
       "4      1.231735 -1.331081            0.745643     0.662134        0.224674   \n",
       "...         ...       ...                 ...          ...             ...   \n",
       "4123   1.122291 -0.884575           -0.758918    -0.195021       -0.292175   \n",
       "4124   0.649691 -0.757673            0.349706    -0.958119       -0.659774   \n",
       "4125  -0.086570 -0.546171            1.141580    -0.456479       -0.527106   \n",
       "4126   0.813858 -0.926876            0.112144    -0.294118       -0.333634   \n",
       "4127   0.490500 -0.663672            0.587268     0.002052       -0.253480   \n",
       "\n",
       "      population  households  median_income  income_cat  rooms_per_household  \\\n",
       "0       0.817501    1.404346       2.565291    1.890326             0.745801   \n",
       "1      -0.587521   -0.645584       0.685576    0.942177             0.980252   \n",
       "2      -0.637210   -0.669807       0.325915   -0.005972            -0.049426   \n",
       "3      -0.358108   -0.591080      -0.313603   -0.005972             0.066115   \n",
       "4       0.089088    0.356671       0.308104   -0.005972             0.434315   \n",
       "...          ...         ...            ...         ...                  ...   \n",
       "4123   -0.215386   -0.388207      -0.574328   -0.954121             0.408755   \n",
       "4124   -0.148782   -0.648612      -0.950938   -0.954121            -1.240797   \n",
       "4125   -0.790504   -0.418487       0.507526    0.942177            -0.220898   \n",
       "4126   -0.348593   -0.254977       0.629616    0.942177            -0.192111   \n",
       "4127   -0.174155   -0.212585       0.169181   -0.005972             0.405751   \n",
       "\n",
       "      bedrooms_per_room  population_per_household  ocean_proximity_<1H OCEAN  \\\n",
       "0             -0.437913                 -0.892368                        1.0   \n",
       "1              0.034493                 -0.970250                        1.0   \n",
       "2             -0.018065                 -0.442271                        1.0   \n",
       "3              0.376521                 -0.273937                        1.0   \n",
       "4             -0.336713                 -0.806490                        0.0   \n",
       "...                 ...                       ...                        ...   \n",
       "4123           0.198264                 -0.377928                        1.0   \n",
       "4124           0.972937                  1.841447                        1.0   \n",
       "4125          -0.705735                 -0.345473                        1.0   \n",
       "4126          -0.217103                 -0.237657                        1.0   \n",
       "4127          -0.026485                 -0.695120                        1.0   \n",
       "\n",
       "      ocean_proximity_INLAND  ocean_proximity_ISLAND  \\\n",
       "0                        0.0                     0.0   \n",
       "1                        0.0                     0.0   \n",
       "2                        0.0                     0.0   \n",
       "3                        0.0                     0.0   \n",
       "4                        0.0                     0.0   \n",
       "...                      ...                     ...   \n",
       "4123                     0.0                     0.0   \n",
       "4124                     0.0                     0.0   \n",
       "4125                     0.0                     0.0   \n",
       "4126                     0.0                     0.0   \n",
       "4127                     0.0                     0.0   \n",
       "\n",
       "      ocean_proximity_NEAR BAY  ocean_proximity_NEAR OCEAN  \n",
       "0                          0.0                         0.0  \n",
       "1                          0.0                         0.0  \n",
       "2                          0.0                         0.0  \n",
       "3                          0.0                         0.0  \n",
       "4                          0.0                         1.0  \n",
       "...                        ...                         ...  \n",
       "4123                       0.0                         0.0  \n",
       "4124                       0.0                         0.0  \n",
       "4125                       0.0                         0.0  \n",
       "4126                       0.0                         0.0  \n",
       "4127                       0.0                         0.0  \n",
       "\n",
       "[4128 rows x 17 columns]"
      ]
     },
     "execution_count": 81,
     "metadata": {},
     "output_type": "execute_result"
    }
   ],
   "source": [
    "housing_prepared"
   ]
  },
  {
   "cell_type": "code",
   "execution_count": 14,
   "metadata": {},
   "outputs": [],
   "source": [
    "##housing_prepared = housing_prepared.rename_column(\"ocean_proximity_<1H OCEAN\",\"ocean_proximity_L1H OCEAN\")"
   ]
  },
  {
   "cell_type": "markdown",
   "metadata": {},
   "source": [
    "- we create some sample data to analyze that we assume represent the population\n",
    "- train the features transformer and do the analysis as below"
   ]
  },
  {
   "cell_type": "markdown",
   "metadata": {},
   "source": [
    "### 3.2.1 Univariate\n",
    "\n",
    "\n",
    "- Look at each variable independently. This is useful if your models have assumptions on the distribution and/or bounds on the features/target"
   ]
  },
  {
   "cell_type": "code",
   "execution_count": 15,
   "metadata": {},
   "outputs": [
    {
     "name": "stderr",
     "output_type": "stream",
     "text": [
      "this method is deprecated in favour of `Styler.to_html()`\n"
     ]
    }
   ],
   "source": [
    "reports.feature_analysis(housing_prepared,'./reports/model_experimenting/feature_analysis_report.html')"
   ]
  },
  {
   "cell_type": "markdown",
   "metadata": {},
   "source": [
    "### 3.2.2 Bivariate - mutual interactions"
   ]
  },
  {
   "cell_type": "markdown",
   "metadata": {},
   "source": [
    "- Find columns with high correlations and drop them"
   ]
  },
  {
   "cell_type": "code",
   "execution_count": 16,
   "metadata": {},
   "outputs": [
    {
     "data": {
      "text/html": [
       "<div>\n",
       "<style scoped>\n",
       "    .dataframe tbody tr th:only-of-type {\n",
       "        vertical-align: middle;\n",
       "    }\n",
       "\n",
       "    .dataframe tbody tr th {\n",
       "        vertical-align: top;\n",
       "    }\n",
       "\n",
       "    .dataframe thead th {\n",
       "        text-align: right;\n",
       "    }\n",
       "</style>\n",
       "<table border=\"1\" class=\"dataframe\">\n",
       "  <thead>\n",
       "    <tr style=\"text-align: right;\">\n",
       "      <th></th>\n",
       "      <th>Variable 1</th>\n",
       "      <th>Variable 2</th>\n",
       "      <th>Corr Coef</th>\n",
       "      <th>Abs Corr Coef</th>\n",
       "    </tr>\n",
       "  </thead>\n",
       "  <tbody>\n",
       "    <tr>\n",
       "      <th>0</th>\n",
       "      <td>households</td>\n",
       "      <td>total_bedrooms</td>\n",
       "      <td>0.975869</td>\n",
       "      <td>0.975869</td>\n",
       "    </tr>\n",
       "    <tr>\n",
       "      <th>1</th>\n",
       "      <td>income_cat</td>\n",
       "      <td>median_income</td>\n",
       "      <td>0.941349</td>\n",
       "      <td>0.941349</td>\n",
       "    </tr>\n",
       "    <tr>\n",
       "      <th>2</th>\n",
       "      <td>latitude</td>\n",
       "      <td>longitude</td>\n",
       "      <td>-0.925426</td>\n",
       "      <td>0.925426</td>\n",
       "    </tr>\n",
       "    <tr>\n",
       "      <th>3</th>\n",
       "      <td>total_bedrooms</td>\n",
       "      <td>total_rooms</td>\n",
       "      <td>0.918777</td>\n",
       "      <td>0.918777</td>\n",
       "    </tr>\n",
       "    <tr>\n",
       "      <th>4</th>\n",
       "      <td>households</td>\n",
       "      <td>total_rooms</td>\n",
       "      <td>0.918387</td>\n",
       "      <td>0.918387</td>\n",
       "    </tr>\n",
       "    <tr>\n",
       "      <th>5</th>\n",
       "      <td>households</td>\n",
       "      <td>population</td>\n",
       "      <td>0.911955</td>\n",
       "      <td>0.911955</td>\n",
       "    </tr>\n",
       "    <tr>\n",
       "      <th>6</th>\n",
       "      <td>population</td>\n",
       "      <td>total_bedrooms</td>\n",
       "      <td>0.879341</td>\n",
       "      <td>0.879341</td>\n",
       "    </tr>\n",
       "    <tr>\n",
       "      <th>7</th>\n",
       "      <td>population</td>\n",
       "      <td>total_rooms</td>\n",
       "      <td>0.850422</td>\n",
       "      <td>0.850422</td>\n",
       "    </tr>\n",
       "    <tr>\n",
       "      <th>8</th>\n",
       "      <td>ocean_proximity_&lt;1H OCEAN</td>\n",
       "      <td>ocean_proximity_INLAND</td>\n",
       "      <td>-0.609911</td>\n",
       "      <td>0.609911</td>\n",
       "    </tr>\n",
       "  </tbody>\n",
       "</table>\n",
       "</div>"
      ],
      "text/plain": [
       "                  Variable 1              Variable 2  Corr Coef  Abs Corr Coef\n",
       "0                 households          total_bedrooms   0.975869       0.975869\n",
       "1                 income_cat           median_income   0.941349       0.941349\n",
       "2                   latitude               longitude  -0.925426       0.925426\n",
       "3             total_bedrooms             total_rooms   0.918777       0.918777\n",
       "4                 households             total_rooms   0.918387       0.918387\n",
       "5                 households              population   0.911955       0.911955\n",
       "6                 population          total_bedrooms   0.879341       0.879341\n",
       "7                 population             total_rooms   0.850422       0.850422\n",
       "8  ocean_proximity_<1H OCEAN  ocean_proximity_INLAND  -0.609911       0.609911"
      ]
     },
     "execution_count": 16,
     "metadata": {},
     "output_type": "execute_result"
    }
   ],
   "source": [
    "out = eda.get_correlation_table(housing_prepared)\n",
    "out[out[\"Abs Corr Coef\"] > 0.6]"
   ]
  },
  {
   "cell_type": "code",
   "execution_count": 17,
   "metadata": {},
   "outputs": [
    {
     "data": {},
     "metadata": {},
     "output_type": "display_data"
    },
    {
     "data": {
      "application/vnd.holoviews_exec.v0+json": "",
      "text/html": [
       "<div id='13112'>\n",
       "  <div class=\"bk-root\" id=\"ec6dbf55-7f01-4993-b0b0-72c0c1501540\" data-root-id=\"13112\"></div>\n",
       "</div>\n",
       "<script type=\"application/javascript\">(function(root) {\n",
       "  function embed_document(root) {\n",
       "    var docs_json = {\"52d8a9fe-c8ed-4c7e-9c1c-6bdb3e9176c0\":{\"defs\":[{\"extends\":null,\"module\":null,\"name\":\"ReactiveHTML1\",\"overrides\":[],\"properties\":[]},{\"extends\":null,\"module\":null,\"name\":\"FlexBox1\",\"overrides\":[],\"properties\":[{\"default\":\"flex-start\",\"kind\":null,\"name\":\"align_content\"},{\"default\":\"flex-start\",\"kind\":null,\"name\":\"align_items\"},{\"default\":\"row\",\"kind\":null,\"name\":\"flex_direction\"},{\"default\":\"wrap\",\"kind\":null,\"name\":\"flex_wrap\"},{\"default\":\"flex-start\",\"kind\":null,\"name\":\"justify_content\"}]},{\"extends\":null,\"module\":null,\"name\":\"GridStack1\",\"overrides\":[],\"properties\":[{\"default\":\"warn\",\"kind\":null,\"name\":\"mode\"},{\"default\":null,\"kind\":null,\"name\":\"ncols\"},{\"default\":null,\"kind\":null,\"name\":\"nrows\"},{\"default\":true,\"kind\":null,\"name\":\"allow_resize\"},{\"default\":true,\"kind\":null,\"name\":\"allow_drag\"},{\"default\":[],\"kind\":null,\"name\":\"state\"}]},{\"extends\":null,\"module\":null,\"name\":\"click1\",\"overrides\":[],\"properties\":[{\"default\":\"\",\"kind\":null,\"name\":\"terminal_output\"},{\"default\":\"\",\"kind\":null,\"name\":\"debug_name\"},{\"default\":0,\"kind\":null,\"name\":\"clears\"}]},{\"extends\":null,\"module\":null,\"name\":\"NotificationAreaBase1\",\"overrides\":[],\"properties\":[{\"default\":\"bottom-right\",\"kind\":null,\"name\":\"position\"},{\"default\":0,\"kind\":null,\"name\":\"_clear\"}]},{\"extends\":null,\"module\":null,\"name\":\"NotificationArea1\",\"overrides\":[],\"properties\":[{\"default\":[],\"kind\":null,\"name\":\"notifications\"},{\"default\":\"bottom-right\",\"kind\":null,\"name\":\"position\"},{\"default\":0,\"kind\":null,\"name\":\"_clear\"},{\"default\":[{\"background\":\"#ffc107\",\"icon\":{\"className\":\"fas fa-exclamation-triangle\",\"color\":\"white\",\"tagName\":\"i\"},\"type\":\"warning\"},{\"background\":\"#007bff\",\"icon\":{\"className\":\"fas fa-info-circle\",\"color\":\"white\",\"tagName\":\"i\"},\"type\":\"info\"}],\"kind\":null,\"name\":\"types\"}]},{\"extends\":null,\"module\":null,\"name\":\"Notification\",\"overrides\":[],\"properties\":[{\"default\":null,\"kind\":null,\"name\":\"background\"},{\"default\":3000,\"kind\":null,\"name\":\"duration\"},{\"default\":null,\"kind\":null,\"name\":\"icon\"},{\"default\":\"\",\"kind\":null,\"name\":\"message\"},{\"default\":null,\"kind\":null,\"name\":\"notification_type\"},{\"default\":false,\"kind\":null,\"name\":\"_destroyed\"}]},{\"extends\":null,\"module\":null,\"name\":\"TemplateActions1\",\"overrides\":[],\"properties\":[{\"default\":0,\"kind\":null,\"name\":\"open_modal\"},{\"default\":0,\"kind\":null,\"name\":\"close_modal\"}]},{\"extends\":null,\"module\":null,\"name\":\"MaterialTemplateActions1\",\"overrides\":[],\"properties\":[{\"default\":0,\"kind\":null,\"name\":\"open_modal\"},{\"default\":0,\"kind\":null,\"name\":\"close_modal\"}]}],\"roots\":{\"references\":[{\"attributes\":{},\"id\":\"13160\",\"type\":\"BasicTickFormatter\"},{\"attributes\":{},\"id\":\"13158\",\"type\":\"AllLabels\"},{\"attributes\":{\"margin\":[5,5,5,5],\"name\":\"HSpacer28568\",\"sizing_mode\":\"stretch_width\"},\"id\":\"13113\",\"type\":\"Spacer\"},{\"attributes\":{\"fill_alpha\":{\"value\":0.1},\"fill_color\":{\"value\":\"#30a2da\"},\"hatch_alpha\":{\"value\":0.1},\"hatch_color\":{\"value\":\"#30a2da\"},\"line_alpha\":{\"value\":0.1},\"line_color\":{\"value\":\"#30a2da\"},\"size\":{\"value\":5.477225575051661},\"x\":{\"field\":\"rooms_per_household\"},\"y\":{\"field\":\"latitude\"}},\"id\":\"13151\",\"type\":\"Scatter\"},{\"attributes\":{},\"id\":\"13131\",\"type\":\"BasicTicker\"},{\"attributes\":{},\"id\":\"13169\",\"type\":\"UnionRenderers\"},{\"attributes\":{\"overlay\":{\"id\":\"13139\"}},\"id\":\"13137\",\"type\":\"BoxZoomTool\"},{\"attributes\":{},\"id\":\"13161\",\"type\":\"AllLabels\"},{\"attributes\":{\"axis_label\":\"rooms_per_household\",\"coordinates\":null,\"formatter\":{\"id\":\"13157\"},\"group\":null,\"major_label_policy\":{\"id\":\"13158\"},\"ticker\":{\"id\":\"13127\"}},\"id\":\"13126\",\"type\":\"LinearAxis\"},{\"attributes\":{\"angle\":{\"value\":0.0},\"fill_alpha\":{\"value\":1.0},\"fill_color\":{\"value\":\"#30a2da\"},\"hatch_alpha\":{\"value\":1.0},\"hatch_color\":{\"value\":\"#30a2da\"},\"hatch_scale\":{\"value\":12.0},\"hatch_weight\":{\"value\":1.0},\"line_alpha\":{\"value\":1.0},\"line_cap\":{\"value\":\"butt\"},\"line_color\":{\"value\":\"#30a2da\"},\"line_dash\":{\"value\":[]},\"line_dash_offset\":{\"value\":0},\"line_join\":{\"value\":\"bevel\"},\"line_width\":{\"value\":1},\"marker\":{\"value\":\"circle\"},\"size\":{\"value\":5.477225575051661},\"x\":{\"field\":\"rooms_per_household\"},\"y\":{\"field\":\"latitude\"}},\"id\":\"13155\",\"type\":\"Scatter\"},{\"attributes\":{},\"id\":\"13136\",\"type\":\"WheelZoomTool\"},{\"attributes\":{\"fill_alpha\":{\"value\":0.2},\"fill_color\":{\"value\":\"#30a2da\"},\"hatch_alpha\":{\"value\":0.2},\"hatch_color\":{\"value\":\"#30a2da\"},\"line_alpha\":{\"value\":0.2},\"line_color\":{\"value\":\"#30a2da\"},\"size\":{\"value\":5.477225575051661},\"x\":{\"field\":\"rooms_per_household\"},\"y\":{\"field\":\"latitude\"}},\"id\":\"13152\",\"type\":\"Scatter\"},{\"attributes\":{\"axis_label\":\"latitude\",\"coordinates\":null,\"formatter\":{\"id\":\"13160\"},\"group\":null,\"major_label_policy\":{\"id\":\"13161\"},\"ticker\":{\"id\":\"13131\"}},\"id\":\"13130\",\"type\":\"LinearAxis\"},{\"attributes\":{\"children\":[{\"id\":\"13113\"},{\"id\":\"13117\"},{\"id\":\"13172\"}],\"margin\":[0,0,0,0],\"name\":\"Row28564\",\"tags\":[\"embedded\"]},\"id\":\"13112\",\"type\":\"Row\"},{\"attributes\":{\"below\":[{\"id\":\"13126\"}],\"center\":[{\"id\":\"13129\"},{\"id\":\"13133\"}],\"height\":300,\"left\":[{\"id\":\"13130\"}],\"margin\":[5,5,5,5],\"min_border_bottom\":10,\"min_border_left\":10,\"min_border_right\":10,\"min_border_top\":10,\"renderers\":[{\"id\":\"13153\"}],\"sizing_mode\":\"fixed\",\"title\":{\"id\":\"13118\"},\"toolbar\":{\"id\":\"13140\"},\"x_range\":{\"id\":\"13114\"},\"x_scale\":{\"id\":\"13122\"},\"y_range\":{\"id\":\"13115\"},\"y_scale\":{\"id\":\"13124\"}},\"id\":\"13117\",\"subtype\":\"Figure\",\"type\":\"Plot\"},{\"attributes\":{\"end\":3.4253824807270234,\"reset_end\":3.4253824807270234,\"reset_start\":-1.8762882634787015,\"start\":-1.8762882634787015,\"tags\":[[[\"latitude\",\"latitude\",null]]]},\"id\":\"13115\",\"type\":\"Range1d\"},{\"attributes\":{\"coordinates\":null,\"data_source\":{\"id\":\"13147\"},\"glyph\":{\"id\":\"13150\"},\"group\":null,\"hover_glyph\":null,\"muted_glyph\":{\"id\":\"13152\"},\"nonselection_glyph\":{\"id\":\"13151\"},\"selection_glyph\":{\"id\":\"13155\"},\"view\":{\"id\":\"13154\"}},\"id\":\"13153\",\"type\":\"GlyphRenderer\"},{\"attributes\":{},\"id\":\"13157\",\"type\":\"BasicTickFormatter\"},{\"attributes\":{\"axis\":{\"id\":\"13126\"},\"coordinates\":null,\"grid_line_color\":null,\"group\":null,\"ticker\":null},\"id\":\"13129\",\"type\":\"Grid\"},{\"attributes\":{},\"id\":\"13134\",\"type\":\"SaveTool\"},{\"attributes\":{},\"id\":\"13124\",\"type\":\"LinearScale\"},{\"attributes\":{\"end\":18.60451505201374,\"reset_end\":18.60451505201374,\"reset_start\":-3.5193223929939617,\"start\":-3.5193223929939617,\"tags\":[[[\"rooms_per_household\",\"rooms_per_household\",null]]]},\"id\":\"13114\",\"type\":\"Range1d\"},{\"attributes\":{\"margin\":[5,5,5,5],\"name\":\"HSpacer28569\",\"sizing_mode\":\"stretch_width\"},\"id\":\"13172\",\"type\":\"Spacer\"},{\"attributes\":{\"tools\":[{\"id\":\"13116\"},{\"id\":\"13134\"},{\"id\":\"13135\"},{\"id\":\"13136\"},{\"id\":\"13137\"},{\"id\":\"13138\"}]},\"id\":\"13140\",\"type\":\"Toolbar\"},{\"attributes\":{\"coordinates\":null,\"group\":null,\"text\":\"Correlation: 0.111\",\"text_color\":\"black\",\"text_font_size\":\"12pt\"},\"id\":\"13118\",\"type\":\"Title\"},{\"attributes\":{},\"id\":\"13127\",\"type\":\"BasicTicker\"},{\"attributes\":{},\"id\":\"13148\",\"type\":\"Selection\"},{\"attributes\":{\"axis\":{\"id\":\"13130\"},\"coordinates\":null,\"dimension\":1,\"grid_line_color\":null,\"group\":null,\"ticker\":null},\"id\":\"13133\",\"type\":\"Grid\"},{\"attributes\":{\"data\":{\"latitude\":{\"__ndarray__\":\"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\",\"dtype\":\"float64\",\"order\":\"little\",\"shape\":[4128]},\"rooms_per_household\":{\"__ndarray__\":\"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\",\"dtype\":\"float64\",\"order\":\"little\",\"shape\":[4128]}},\"selected\":{\"id\":\"13148\"},\"selection_policy\":{\"id\":\"13169\"}},\"id\":\"13147\",\"type\":\"ColumnDataSource\"},{\"attributes\":{\"fill_color\":{\"value\":\"#30a2da\"},\"hatch_color\":{\"value\":\"#30a2da\"},\"line_color\":{\"value\":\"#30a2da\"},\"size\":{\"value\":5.477225575051661},\"x\":{\"field\":\"rooms_per_household\"},\"y\":{\"field\":\"latitude\"}},\"id\":\"13150\",\"type\":\"Scatter\"},{\"attributes\":{\"callback\":null,\"renderers\":[{\"id\":\"13153\"}],\"tags\":[\"hv_created\"],\"tooltips\":[[\"rooms_per_household\",\"@{rooms_per_household}\"],[\"latitude\",\"@{latitude}\"]]},\"id\":\"13116\",\"type\":\"HoverTool\"},{\"attributes\":{},\"id\":\"13122\",\"type\":\"LinearScale\"},{\"attributes\":{\"source\":{\"id\":\"13147\"}},\"id\":\"13154\",\"type\":\"CDSView\"},{\"attributes\":{},\"id\":\"13135\",\"type\":\"PanTool\"},{\"attributes\":{\"bottom_units\":\"screen\",\"coordinates\":null,\"fill_alpha\":0.5,\"fill_color\":\"lightgrey\",\"group\":null,\"left_units\":\"screen\",\"level\":\"overlay\",\"line_alpha\":1.0,\"line_color\":\"black\",\"line_dash\":[4,4],\"line_width\":2,\"right_units\":\"screen\",\"syncable\":false,\"top_units\":\"screen\"},\"id\":\"13139\",\"type\":\"BoxAnnotation\"},{\"attributes\":{},\"id\":\"13138\",\"type\":\"ResetTool\"}],\"root_ids\":[\"13112\"]},\"title\":\"Bokeh Application\",\"version\":\"2.4.3\"}};\n",
       "    var render_items = [{\"docid\":\"52d8a9fe-c8ed-4c7e-9c1c-6bdb3e9176c0\",\"root_ids\":[\"13112\"],\"roots\":{\"13112\":\"ec6dbf55-7f01-4993-b0b0-72c0c1501540\"}}];\n",
       "    root.Bokeh.embed.embed_items_notebook(docs_json, render_items);\n",
       "  }\n",
       "  if (root.Bokeh !== undefined && root.Bokeh.Panel !== undefined) {\n",
       "    embed_document(root);\n",
       "  } else {\n",
       "    var attempts = 0;\n",
       "    var timer = setInterval(function(root) {\n",
       "      if (root.Bokeh !== undefined && root.Bokeh.Panel !== undefined) {\n",
       "        clearInterval(timer);\n",
       "        embed_document(root);\n",
       "      } else if (document.readyState == \"complete\") {\n",
       "        attempts++;\n",
       "        if (attempts > 200) {\n",
       "          clearInterval(timer);\n",
       "          console.log(\"Bokeh: ERROR: Unable to run BokehJS code because BokehJS library is missing\");\n",
       "        }\n",
       "      }\n",
       "    }, 25, root)\n",
       "  }\n",
       "})(window);</script>"
      ],
      "text/plain": [
       ":Scatter   [rooms_per_household]   (latitude)"
      ]
     },
     "execution_count": 17,
     "metadata": {
      "application/vnd.holoviews_exec.v0+json": {
       "id": "13112"
      }
     },
     "output_type": "execute_result"
    }
   ],
   "source": [
    "out = eda.get_bivariate_plots(housing_prepared, x_cols=[\"rooms_per_household\"], y_cols=list(num_columns)[1])\n",
    "out"
   ]
  },
  {
   "cell_type": "code",
   "execution_count": 18,
   "metadata": {},
   "outputs": [
    {
     "name": "stdout",
     "output_type": "stream",
     "text": [
      "CPU times: user 15.1 s, sys: 0 ns, total: 15.1 s\n",
      "Wall time: 15.1 s\n"
     ]
    }
   ],
   "source": [
    "%%time\n",
    "# create reports as needed\n",
    "cols = housing_prepared.columns.to_list()\n",
    "all_plots = {}\n",
    "for ii, col1 in enumerate(cols): \n",
    "    for jj in range(ii+1, len(cols)):\n",
    "        col2 = cols[jj]\n",
    "        out = eda.get_bivariate_plots(housing_prepared, x_cols=[col1], y_cols=[col2])\n",
    "        all_plots.update({f'{col2} vs {col1}': out})\n",
    "\n",
    "reports.create_report(all_plots, name='./reports/model_experimenting/feature_analysis_bivariate')"
   ]
  },
  {
   "cell_type": "markdown",
   "metadata": {},
   "source": [
    "A report containing the bivariate plot is available [here](https://drive.google.com/file/d/1WSGT3586tY-rOmZ57xGILbmL5ll9cSVT/view?usp=sharing)\n",
    "\n",
    "Alternatively, the above plots can be generated as a single html as below. The output from this is available [here](https://drive.google.com/file/d/1A2fz_bjYv8I3iaFDT75JQSDKeJEXxCtp/view?usp=sharing)"
   ]
  },
  {
   "cell_type": "code",
   "execution_count": 19,
   "metadata": {},
   "outputs": [
    {
     "name": "stderr",
     "output_type": "stream",
     "text": [
      "this method is deprecated in favour of `Styler.to_html()`\n"
     ]
    }
   ],
   "source": [
    "reports.feature_interactions(housing_prepared,'.reports/model_experimenting/feature_interaction_report.html')"
   ]
  },
  {
   "cell_type": "markdown",
   "metadata": {},
   "source": [
    "### 3.2.3 Key Drivers - Interaction with Target variable"
   ]
  },
  {
   "cell_type": "code",
   "execution_count": 20,
   "metadata": {},
   "outputs": [
    {
     "data": {},
     "metadata": {},
     "output_type": "display_data"
    },
    {
     "data": {},
     "metadata": {},
     "output_type": "display_data"
    },
    {
     "data": {
      "application/vnd.holoviews_exec.v0+json": "",
      "text/html": [
       "<div id='35630'>\n",
       "  <div class=\"bk-root\" id=\"47d4aef0-ead0-4356-a662-8c42bd65d910\" data-root-id=\"35630\"></div>\n",
       "</div>\n",
       "<script type=\"application/javascript\">(function(root) {\n",
       "  function embed_document(root) {\n",
       "    var docs_json = {\"6c28ca9c-e3fa-4681-9224-11aee5fe36f5\":{\"defs\":[{\"extends\":null,\"module\":null,\"name\":\"ReactiveHTML1\",\"overrides\":[],\"properties\":[]},{\"extends\":null,\"module\":null,\"name\":\"FlexBox1\",\"overrides\":[],\"properties\":[{\"default\":\"flex-start\",\"kind\":null,\"name\":\"align_content\"},{\"default\":\"flex-start\",\"kind\":null,\"name\":\"align_items\"},{\"default\":\"row\",\"kind\":null,\"name\":\"flex_direction\"},{\"default\":\"wrap\",\"kind\":null,\"name\":\"flex_wrap\"},{\"default\":\"flex-start\",\"kind\":null,\"name\":\"justify_content\"}]},{\"extends\":null,\"module\":null,\"name\":\"GridStack1\",\"overrides\":[],\"properties\":[{\"default\":\"warn\",\"kind\":null,\"name\":\"mode\"},{\"default\":null,\"kind\":null,\"name\":\"ncols\"},{\"default\":null,\"kind\":null,\"name\":\"nrows\"},{\"default\":true,\"kind\":null,\"name\":\"allow_resize\"},{\"default\":true,\"kind\":null,\"name\":\"allow_drag\"},{\"default\":[],\"kind\":null,\"name\":\"state\"}]},{\"extends\":null,\"module\":null,\"name\":\"click1\",\"overrides\":[],\"properties\":[{\"default\":\"\",\"kind\":null,\"name\":\"terminal_output\"},{\"default\":\"\",\"kind\":null,\"name\":\"debug_name\"},{\"default\":0,\"kind\":null,\"name\":\"clears\"}]},{\"extends\":null,\"module\":null,\"name\":\"NotificationAreaBase1\",\"overrides\":[],\"properties\":[{\"default\":\"bottom-right\",\"kind\":null,\"name\":\"position\"},{\"default\":0,\"kind\":null,\"name\":\"_clear\"}]},{\"extends\":null,\"module\":null,\"name\":\"NotificationArea1\",\"overrides\":[],\"properties\":[{\"default\":[],\"kind\":null,\"name\":\"notifications\"},{\"default\":\"bottom-right\",\"kind\":null,\"name\":\"position\"},{\"default\":0,\"kind\":null,\"name\":\"_clear\"},{\"default\":[{\"background\":\"#ffc107\",\"icon\":{\"className\":\"fas fa-exclamation-triangle\",\"color\":\"white\",\"tagName\":\"i\"},\"type\":\"warning\"},{\"background\":\"#007bff\",\"icon\":{\"className\":\"fas fa-info-circle\",\"color\":\"white\",\"tagName\":\"i\"},\"type\":\"info\"}],\"kind\":null,\"name\":\"types\"}]},{\"extends\":null,\"module\":null,\"name\":\"Notification\",\"overrides\":[],\"properties\":[{\"default\":null,\"kind\":null,\"name\":\"background\"},{\"default\":3000,\"kind\":null,\"name\":\"duration\"},{\"default\":null,\"kind\":null,\"name\":\"icon\"},{\"default\":\"\",\"kind\":null,\"name\":\"message\"},{\"default\":null,\"kind\":null,\"name\":\"notification_type\"},{\"default\":false,\"kind\":null,\"name\":\"_destroyed\"}]},{\"extends\":null,\"module\":null,\"name\":\"TemplateActions1\",\"overrides\":[],\"properties\":[{\"default\":0,\"kind\":null,\"name\":\"open_modal\"},{\"default\":0,\"kind\":null,\"name\":\"close_modal\"}]},{\"extends\":null,\"module\":null,\"name\":\"MaterialTemplateActions1\",\"overrides\":[],\"properties\":[{\"default\":0,\"kind\":null,\"name\":\"open_modal\"},{\"default\":0,\"kind\":null,\"name\":\"close_modal\"}]}],\"roots\":{\"references\":[{\"attributes\":{},\"id\":\"35674\",\"type\":\"AllLabels\"},{\"attributes\":{\"axis\":{\"id\":\"35643\"},\"coordinates\":null,\"grid_line_color\":null,\"group\":null,\"ticker\":null},\"id\":\"35646\",\"type\":\"Grid\"},{\"attributes\":{},\"id\":\"35664\",\"type\":\"Selection\"},{\"attributes\":{\"coordinates\":null,\"data_source\":{\"id\":\"35663\"},\"glyph\":{\"id\":\"35666\"},\"group\":null,\"hover_glyph\":null,\"muted_glyph\":{\"id\":\"35668\"},\"nonselection_glyph\":{\"id\":\"35667\"},\"selection_glyph\":{\"id\":\"35671\"},\"view\":{\"id\":\"35670\"}},\"id\":\"35669\",\"type\":\"GlyphRenderer\"},{\"attributes\":{\"coordinates\":null,\"group\":null,\"text\":\"Feature Correlation with Target Function\",\"text_color\":\"black\",\"text_font_size\":\"12pt\"},\"id\":\"35635\",\"type\":\"Title\"},{\"attributes\":{\"axis_label\":\"\",\"coordinates\":null,\"formatter\":{\"id\":\"35676\"},\"group\":null,\"major_label_policy\":{\"id\":\"35677\"},\"ticker\":{\"id\":\"35648\"}},\"id\":\"35647\",\"type\":\"CategoricalAxis\"},{\"attributes\":{\"tools\":[{\"id\":\"35633\"},{\"id\":\"35650\"},{\"id\":\"35651\"},{\"id\":\"35652\"},{\"id\":\"35653\"},{\"id\":\"35654\"}]},\"id\":\"35656\",\"type\":\"Toolbar\"},{\"attributes\":{\"source\":{\"id\":\"35663\"}},\"id\":\"35670\",\"type\":\"CDSView\"},{\"attributes\":{\"fill_alpha\":{\"value\":0.2},\"fill_color\":{\"value\":\"#30a2da\"},\"hatch_alpha\":{\"value\":0.2},\"hatch_color\":{\"value\":\"#30a2da\"},\"height\":{\"value\":0.8},\"line_alpha\":{\"value\":0.2},\"right\":{\"field\":\"Pearson_correlation_with_Target\"},\"y\":{\"field\":\"index\"}},\"id\":\"35668\",\"type\":\"HBar\"},{\"attributes\":{\"fill_alpha\":{\"value\":0.1},\"fill_color\":{\"value\":\"#30a2da\"},\"hatch_alpha\":{\"value\":0.1},\"hatch_color\":{\"value\":\"#30a2da\"},\"height\":{\"value\":0.8},\"line_alpha\":{\"value\":0.1},\"right\":{\"field\":\"Pearson_correlation_with_Target\"},\"y\":{\"field\":\"index\"}},\"id\":\"35667\",\"type\":\"HBar\"},{\"attributes\":{\"callback\":null,\"renderers\":[{\"id\":\"35669\"}],\"tags\":[\"hv_created\"],\"tooltips\":[[\"index\",\"@{index}\"],[\"Pearson_correlation_with_Target\",\"@{Pearson_correlation_with_Target}\"]]},\"id\":\"35633\",\"type\":\"HoverTool\"},{\"attributes\":{},\"id\":\"35648\",\"type\":\"CategoricalTicker\"},{\"attributes\":{\"overlay\":{\"id\":\"35655\"}},\"id\":\"35653\",\"type\":\"BoxZoomTool\"},{\"attributes\":{},\"id\":\"35639\",\"type\":\"LinearScale\"},{\"attributes\":{},\"id\":\"35644\",\"type\":\"BasicTicker\"},{\"attributes\":{},\"id\":\"35654\",\"type\":\"ResetTool\"},{\"attributes\":{\"below\":[{\"id\":\"35643\"}],\"center\":[{\"id\":\"35646\"},{\"id\":\"35649\"}],\"height\":300,\"left\":[{\"id\":\"35647\"}],\"margin\":[5,5,5,5],\"min_border_bottom\":10,\"min_border_left\":10,\"min_border_right\":10,\"min_border_top\":10,\"renderers\":[{\"id\":\"35669\"}],\"sizing_mode\":\"fixed\",\"title\":{\"id\":\"35635\"},\"toolbar\":{\"id\":\"35656\"},\"width\":700,\"x_range\":{\"id\":\"35631\"},\"x_scale\":{\"id\":\"35639\"},\"y_range\":{\"id\":\"35632\"},\"y_scale\":{\"id\":\"35641\"}},\"id\":\"35634\",\"subtype\":\"Figure\",\"type\":\"Plot\"},{\"attributes\":{},\"id\":\"35677\",\"type\":\"AllLabels\"},{\"attributes\":{},\"id\":\"35651\",\"type\":\"PanTool\"},{\"attributes\":{},\"id\":\"35673\",\"type\":\"BasicTickFormatter\"},{\"attributes\":{\"axis\":{\"id\":\"35647\"},\"coordinates\":null,\"dimension\":1,\"grid_line_color\":null,\"group\":null,\"ticker\":null},\"id\":\"35649\",\"type\":\"Grid\"},{\"attributes\":{\"client_comm_id\":\"58a9d98374d54b48bba34d3266f02d99\",\"comm_id\":\"be3aa0efeb83430bbc2b8ec660107b82\",\"plot_id\":\"35630\"},\"id\":\"35719\",\"type\":\"panel.models.comm_manager.CommManager\"},{\"attributes\":{\"fill_alpha\":{\"value\":1.0},\"fill_color\":{\"value\":\"#30a2da\"},\"hatch_alpha\":{\"value\":1.0},\"hatch_color\":{\"value\":\"#30a2da\"},\"hatch_scale\":{\"value\":12.0},\"hatch_weight\":{\"value\":1.0},\"height\":{\"value\":0.8},\"left\":{\"value\":0},\"line_alpha\":{\"value\":1.0},\"line_cap\":{\"value\":\"butt\"},\"line_color\":{\"value\":\"black\"},\"line_dash\":{\"value\":[]},\"line_dash_offset\":{\"value\":0},\"line_join\":{\"value\":\"bevel\"},\"line_width\":{\"value\":1},\"right\":{\"field\":\"Pearson_correlation_with_Target\"},\"y\":{\"field\":\"index\"}},\"id\":\"35671\",\"type\":\"HBar\"},{\"attributes\":{},\"id\":\"35641\",\"type\":\"CategoricalScale\"},{\"attributes\":{\"data\":{\"Pearson_correlation_with_Target\":{\"__ndarray__\":\"pSXq8QuQ3781r6MnmU3Nv4e8Hv4zPsO/lK9/RnwYwb8DGOQa5makv1Zy6TgpOJS/O7rko7Zupz+k6j2A0jKwP7FHpcHJOrI/zK2gV69wtD8s6sZ0k8PDPx46x6XMgcQ/AJyORMlZxT/YjR/uNE7IPwhrPyliXc8/koFXdIrR5D/bIBqkPmLmPw==\",\"dtype\":\"float64\",\"order\":\"little\",\"shape\":[17]},\"index\":[\"ocean_proximity_INLAND\",\"population_per_household\",\"latitude\",\"bedrooms_per_room\",\"longitude\",\"population\",\"ocean_proximity_ISLAND\",\"total_bedrooms\",\"housing_median_age\",\"households\",\"total_rooms\",\"ocean_proximity_NEAR OCEAN\",\"ocean_proximity_NEAR BAY\",\"rooms_per_household\",\"ocean_proximity_<1H OCEAN\",\"income_cat\",\"median_income\"]},\"selected\":{\"id\":\"35664\"},\"selection_policy\":{\"id\":\"35685\"}},\"id\":\"35663\",\"type\":\"ColumnDataSource\"},{\"attributes\":{},\"id\":\"35676\",\"type\":\"CategoricalTickFormatter\"},{\"attributes\":{\"end\":0.8187587272524872,\"reset_end\":0.8187587272524872,\"reset_start\":-0.6124328774646981,\"start\":-0.6124328774646981,\"tags\":[[[\"Pearson_correlation_with_Target\",\"Pearson_correlation_with_Target\",null]]]},\"id\":\"35631\",\"type\":\"Range1d\"},{\"attributes\":{\"factors\":[\"ocean_proximity_INLAND\",\"population_per_household\",\"latitude\",\"bedrooms_per_room\",\"longitude\",\"population\",\"ocean_proximity_ISLAND\",\"total_bedrooms\",\"housing_median_age\",\"households\",\"total_rooms\",\"ocean_proximity_NEAR OCEAN\",\"ocean_proximity_NEAR BAY\",\"rooms_per_household\",\"ocean_proximity_<1H OCEAN\",\"income_cat\",\"median_income\"],\"tags\":[[[\"index\",\"index\",null]]]},\"id\":\"35632\",\"type\":\"FactorRange\"},{\"attributes\":{\"margin\":[0,0,0,0],\"tabs\":[{\"id\":\"35688\"}]},\"id\":\"35630\",\"type\":\"panel.models.tabs.Tabs\"},{\"attributes\":{},\"id\":\"35650\",\"type\":\"SaveTool\"},{\"attributes\":{},\"id\":\"35685\",\"type\":\"UnionRenderers\"},{\"attributes\":{\"child\":{\"id\":\"35634\"},\"name\":\"feature_correlation\",\"title\":\"feature_correlation\"},\"id\":\"35688\",\"type\":\"Panel\"},{\"attributes\":{\"bottom_units\":\"screen\",\"coordinates\":null,\"fill_alpha\":0.5,\"fill_color\":\"lightgrey\",\"group\":null,\"left_units\":\"screen\",\"level\":\"overlay\",\"line_alpha\":1.0,\"line_color\":\"black\",\"line_dash\":[4,4],\"line_width\":2,\"right_units\":\"screen\",\"syncable\":false,\"top_units\":\"screen\"},\"id\":\"35655\",\"type\":\"BoxAnnotation\"},{\"attributes\":{},\"id\":\"35652\",\"type\":\"WheelZoomTool\"},{\"attributes\":{\"fill_color\":{\"value\":\"#30a2da\"},\"hatch_color\":{\"value\":\"#30a2da\"},\"height\":{\"value\":0.8},\"right\":{\"field\":\"Pearson_correlation_with_Target\"},\"y\":{\"field\":\"index\"}},\"id\":\"35666\",\"type\":\"HBar\"},{\"attributes\":{\"axis_label\":\"Pearson_correlation_with_Target\",\"coordinates\":null,\"formatter\":{\"id\":\"35673\"},\"group\":null,\"major_label_policy\":{\"id\":\"35674\"},\"ticker\":{\"id\":\"35644\"}},\"id\":\"35643\",\"type\":\"LinearAxis\"}],\"root_ids\":[\"35630\",\"35719\"]},\"title\":\"Bokeh Application\",\"version\":\"2.4.3\"}};\n",
       "    var render_items = [{\"docid\":\"6c28ca9c-e3fa-4681-9224-11aee5fe36f5\",\"root_ids\":[\"35630\"],\"roots\":{\"35630\":\"47d4aef0-ead0-4356-a662-8c42bd65d910\"}}];\n",
       "    root.Bokeh.embed.embed_items_notebook(docs_json, render_items);\n",
       "  }\n",
       "  if (root.Bokeh !== undefined && root.Bokeh.Panel !== undefined) {\n",
       "    embed_document(root);\n",
       "  } else {\n",
       "    var attempts = 0;\n",
       "    var timer = setInterval(function(root) {\n",
       "      if (root.Bokeh !== undefined && root.Bokeh.Panel !== undefined) {\n",
       "        clearInterval(timer);\n",
       "        embed_document(root);\n",
       "      } else if (document.readyState == \"complete\") {\n",
       "        attempts++;\n",
       "        if (attempts > 200) {\n",
       "          clearInterval(timer);\n",
       "          console.log(\"Bokeh: ERROR: Unable to run BokehJS code because BokehJS library is missing\");\n",
       "        }\n",
       "      }\n",
       "    }, 25, root)\n",
       "  }\n",
       "})(window);</script>"
      ],
      "text/plain": [
       "Tabs\n",
       "    [0] HoloViews(Bars, name='feature_correlation')"
      ]
     },
     "execution_count": 20,
     "metadata": {
      "application/vnd.holoviews_exec.v0+json": {
       "id": "35630"
      }
     },
     "output_type": "execute_result"
    }
   ],
   "source": [
    "out = eda.get_target_correlation(housing_prepared, train_y, y_continuous=True)\n",
    "display_as_tabs([(k, v) for k,v in out.items()])"
   ]
  },
  {
   "cell_type": "markdown",
   "metadata": {},
   "source": [
    "Key drivers report like feature importance, bivariate plots can be obtained as below"
   ]
  },
  {
   "cell_type": "code",
   "execution_count": 21,
   "metadata": {},
   "outputs": [],
   "source": [
    "reports.key_drivers(housing_prepared,train_y, './reports/model_experimenting/key_drivers_report.html', y_continuous=True)"
   ]
  },
  {
   "cell_type": "markdown",
   "metadata": {},
   "source": [
    "\n",
    "All the plots like feature analysis, interaction, key drivers can be obtained as a single plot using data exploration method as shown below. The output from this is available [here](https://drive.google.com/file/d/1209MzmSSEhiTYuPfHpaVXFXUVbkaJm0B/view?usp=sharing)"
   ]
  },
  {
   "cell_type": "code",
   "execution_count": 22,
   "metadata": {},
   "outputs": [
    {
     "name": "stderr",
     "output_type": "stream",
     "text": [
      "this method is deprecated in favour of `Styler.to_html()`\n"
     ]
    }
   ],
   "source": [
    "reports.data_exploration(housing_prepared,train_y,'./reports/model_experimenting/data_exploration_report.html', y_continuous=True)"
   ]
  },
  {
   "cell_type": "markdown",
   "metadata": {},
   "source": [
    "## 4.1 Modelling - Linear Regression"
   ]
  },
  {
   "cell_type": "markdown",
   "metadata": {},
   "source": [
    "### 4.1.1 Feature Selection(Specific to Regression)\n",
    "\n",
    "- Selecting Features specific to regression\n",
    "- VIF : measure of the amount of multi-collinearity in a set of multiple regressor variables. \n",
    "- On a case to case basis VIF thresholds change. Generally 5 or 10 are acceptable levels.\n",
    "- Usually on a recursive basis when removing the most collinear variable, there can be shuffle in VIF. \n",
    "- Often this section will not be part of the production code."
   ]
  },
  {
   "cell_type": "code",
   "execution_count": 23,
   "metadata": {},
   "outputs": [],
   "source": [
    "##housing_prepared = housing_prepared.rename_column(\"ocean_proximity_<1H OCEAN\",\"ocean_proximity_L1H OCEAN\")\n",
    "cols = list(housing_prepared.columns)\n",
    "vif = eda.calc_vif(housing_prepared)\n",
    "while max(vif.VIF) > 15:\n",
    "    #removing the largest variable from VIF\n",
    "    cols.remove(vif[(vif.VIF==vif.VIF.max())].variables.tolist()[0])\n",
    "    vif = eda.calc_vif(housing_prepared[cols])"
   ]
  },
  {
   "cell_type": "code",
   "execution_count": 24,
   "metadata": {},
   "outputs": [],
   "source": [
    "reg_vars = vif.query('VIF < 15').variables\n",
    "reg_vars = list(reg_vars)"
   ]
  },
  {
   "cell_type": "markdown",
   "metadata": {},
   "source": [
    "### 4.1.2 Data transformations"
   ]
  },
  {
   "cell_type": "code",
   "execution_count": 25,
   "metadata": {},
   "outputs": [],
   "source": [
    "# Custom Transformations like these can be utilised\n",
    "def _custom_data_transform(df, cols2keep=None):\n",
    "    \"\"\"Transformation to drop some columns in the data\n",
    "    \n",
    "    Parameters\n",
    "    ----------\n",
    "        df - pd.DataFrame\n",
    "        cols2keep - columns to keep in the dataframe\n",
    "    \"\"\"\n",
    "    cols2keep = cols2keep or []\n",
    "    if len(cols2keep):\n",
    "        return (df\n",
    "                .select_columns(cols2keep))\n",
    "    else:\n",
    "        return df"
   ]
  },
  {
   "cell_type": "markdown",
   "metadata": {},
   "source": [
    "### 4.1.3 Model training pipeline\n",
    "\n",
    "- Here we focus on creating a collection of pipelines that can be used for training respective models.\n",
    "- Each model pipeline will essentially be of the form\n",
    "```\n",
    "[\n",
    "('preprocessing', preprocessing_pipeline),\n",
    "('feature_selection', feature_selection_pipeline),\n",
    "('estimator', estimator),\n",
    "]\n",
    "```"
   ]
  },
  {
   "cell_type": "markdown",
   "metadata": {},
   "source": [
    "### 4.1.4 Model Pipeline Build\n",
    "\n",
    "- This will be part of the production code (training only)."
   ]
  },
  {
   "cell_type": "code",
   "execution_count": 26,
   "metadata": {},
   "outputs": [
    {
     "data": {
      "text/html": [
       "<style>#sk-container-id-1 {color: black;background-color: white;}#sk-container-id-1 pre{padding: 0;}#sk-container-id-1 div.sk-toggleable {background-color: white;}#sk-container-id-1 label.sk-toggleable__label {cursor: pointer;display: block;width: 100%;margin-bottom: 0;padding: 0.3em;box-sizing: border-box;text-align: center;}#sk-container-id-1 label.sk-toggleable__label-arrow:before {content: \"▸\";float: left;margin-right: 0.25em;color: #696969;}#sk-container-id-1 label.sk-toggleable__label-arrow:hover:before {color: black;}#sk-container-id-1 div.sk-estimator:hover label.sk-toggleable__label-arrow:before {color: black;}#sk-container-id-1 div.sk-toggleable__content {max-height: 0;max-width: 0;overflow: hidden;text-align: left;background-color: #f0f8ff;}#sk-container-id-1 div.sk-toggleable__content pre {margin: 0.2em;color: black;border-radius: 0.25em;background-color: #f0f8ff;}#sk-container-id-1 input.sk-toggleable__control:checked~div.sk-toggleable__content {max-height: 200px;max-width: 100%;overflow: auto;}#sk-container-id-1 input.sk-toggleable__control:checked~label.sk-toggleable__label-arrow:before {content: \"▾\";}#sk-container-id-1 div.sk-estimator input.sk-toggleable__control:checked~label.sk-toggleable__label {background-color: #d4ebff;}#sk-container-id-1 div.sk-label input.sk-toggleable__control:checked~label.sk-toggleable__label {background-color: #d4ebff;}#sk-container-id-1 input.sk-hidden--visually {border: 0;clip: rect(1px 1px 1px 1px);clip: rect(1px, 1px, 1px, 1px);height: 1px;margin: -1px;overflow: hidden;padding: 0;position: absolute;width: 1px;}#sk-container-id-1 div.sk-estimator {font-family: monospace;background-color: #f0f8ff;border: 1px dotted black;border-radius: 0.25em;box-sizing: border-box;margin-bottom: 0.5em;}#sk-container-id-1 div.sk-estimator:hover {background-color: #d4ebff;}#sk-container-id-1 div.sk-parallel-item::after {content: \"\";width: 100%;border-bottom: 1px solid gray;flex-grow: 1;}#sk-container-id-1 div.sk-label:hover label.sk-toggleable__label {background-color: #d4ebff;}#sk-container-id-1 div.sk-serial::before {content: \"\";position: absolute;border-left: 1px solid gray;box-sizing: border-box;top: 0;bottom: 0;left: 50%;z-index: 0;}#sk-container-id-1 div.sk-serial {display: flex;flex-direction: column;align-items: center;background-color: white;padding-right: 0.2em;padding-left: 0.2em;position: relative;}#sk-container-id-1 div.sk-item {position: relative;z-index: 1;}#sk-container-id-1 div.sk-parallel {display: flex;align-items: stretch;justify-content: center;background-color: white;position: relative;}#sk-container-id-1 div.sk-item::before, #sk-container-id-1 div.sk-parallel-item::before {content: \"\";position: absolute;border-left: 1px solid gray;box-sizing: border-box;top: 0;bottom: 0;left: 50%;z-index: -1;}#sk-container-id-1 div.sk-parallel-item {display: flex;flex-direction: column;z-index: 1;position: relative;background-color: white;}#sk-container-id-1 div.sk-parallel-item:first-child::after {align-self: flex-end;width: 50%;}#sk-container-id-1 div.sk-parallel-item:last-child::after {align-self: flex-start;width: 50%;}#sk-container-id-1 div.sk-parallel-item:only-child::after {width: 0;}#sk-container-id-1 div.sk-dashed-wrapped {border: 1px dashed gray;margin: 0 0.4em 0.5em 0.4em;box-sizing: border-box;padding-bottom: 0.4em;background-color: white;}#sk-container-id-1 div.sk-label label {font-family: monospace;font-weight: bold;display: inline-block;line-height: 1.2em;}#sk-container-id-1 div.sk-label-container {text-align: center;}#sk-container-id-1 div.sk-container {/* jupyter's `normalize.less` sets `[hidden] { display: none; }` but bootstrap.min.css set `[hidden] { display: none !important; }` so we also need the `!important` here to be able to override the default hidden behavior on the sphinx rendered scikit-learn.org. See: https://github.com/scikit-learn/scikit-learn/issues/21755 */display: inline-block !important;position: relative;}#sk-container-id-1 div.sk-text-repr-fallback {display: none;}</style><div id=\"sk-container-id-1\" class=\"sk-top-container\"><div class=\"sk-text-repr-fallback\"><pre>Pipeline(steps=[(&#x27;&#x27;,\n",
       "                 FunctionTransformer(func=&lt;function _custom_data_transform at 0x7f18a13a19d0&gt;,\n",
       "                                     kw_args={&#x27;cols2keep&#x27;: [&#x27;longitude&#x27;,\n",
       "                                                            &#x27;housing_median_age&#x27;,\n",
       "                                                            &#x27;total_bedrooms&#x27;,\n",
       "                                                            &#x27;population&#x27;,\n",
       "                                                            &#x27;median_income&#x27;,\n",
       "                                                            &#x27;income_cat&#x27;,\n",
       "                                                            &#x27;rooms_per_household&#x27;,\n",
       "                                                            &#x27;bedrooms_per_room&#x27;,\n",
       "                                                            &#x27;population_per_household&#x27;,\n",
       "                                                            &#x27;ocean_proximity_&lt;1H &#x27;\n",
       "                                                            &#x27;OCEAN&#x27;,\n",
       "                                                            &#x27;ocean_proximity_INLAND&#x27;,\n",
       "                                                            &#x27;ocean_proximity_ISLAND&#x27;,\n",
       "                                                            &#x27;ocean_proximity_NEAR &#x27;\n",
       "                                                            &#x27;BAY&#x27;,\n",
       "                                                            &#x27;ocean_proximity_NEAR &#x27;\n",
       "                                                            &#x27;OCEAN&#x27;]})),\n",
       "                (&#x27;estimator&#x27;, SKLStatsmodelOLS())])</pre><b>In a Jupyter environment, please rerun this cell to show the HTML representation or trust the notebook. <br />On GitHub, the HTML representation is unable to render, please try loading this page with nbviewer.org.</b></div><div class=\"sk-container\" hidden><div class=\"sk-item sk-dashed-wrapped\"><div class=\"sk-label-container\"><div class=\"sk-label sk-toggleable\"><input class=\"sk-toggleable__control sk-hidden--visually\" id=\"sk-estimator-id-1\" type=\"checkbox\" ><label for=\"sk-estimator-id-1\" class=\"sk-toggleable__label sk-toggleable__label-arrow\">Pipeline</label><div class=\"sk-toggleable__content\"><pre>Pipeline(steps=[(&#x27;&#x27;,\n",
       "                 FunctionTransformer(func=&lt;function _custom_data_transform at 0x7f18a13a19d0&gt;,\n",
       "                                     kw_args={&#x27;cols2keep&#x27;: [&#x27;longitude&#x27;,\n",
       "                                                            &#x27;housing_median_age&#x27;,\n",
       "                                                            &#x27;total_bedrooms&#x27;,\n",
       "                                                            &#x27;population&#x27;,\n",
       "                                                            &#x27;median_income&#x27;,\n",
       "                                                            &#x27;income_cat&#x27;,\n",
       "                                                            &#x27;rooms_per_household&#x27;,\n",
       "                                                            &#x27;bedrooms_per_room&#x27;,\n",
       "                                                            &#x27;population_per_household&#x27;,\n",
       "                                                            &#x27;ocean_proximity_&lt;1H &#x27;\n",
       "                                                            &#x27;OCEAN&#x27;,\n",
       "                                                            &#x27;ocean_proximity_INLAND&#x27;,\n",
       "                                                            &#x27;ocean_proximity_ISLAND&#x27;,\n",
       "                                                            &#x27;ocean_proximity_NEAR &#x27;\n",
       "                                                            &#x27;BAY&#x27;,\n",
       "                                                            &#x27;ocean_proximity_NEAR &#x27;\n",
       "                                                            &#x27;OCEAN&#x27;]})),\n",
       "                (&#x27;estimator&#x27;, SKLStatsmodelOLS())])</pre></div></div></div><div class=\"sk-serial\"><div class=\"sk-item\"><div class=\"sk-estimator sk-toggleable\"><input class=\"sk-toggleable__control sk-hidden--visually\" id=\"sk-estimator-id-2\" type=\"checkbox\" ><label for=\"sk-estimator-id-2\" class=\"sk-toggleable__label sk-toggleable__label-arrow\">FunctionTransformer</label><div class=\"sk-toggleable__content\"><pre>FunctionTransformer(func=&lt;function _custom_data_transform at 0x7f18a13a19d0&gt;,\n",
       "                    kw_args={&#x27;cols2keep&#x27;: [&#x27;longitude&#x27;, &#x27;housing_median_age&#x27;,\n",
       "                                           &#x27;total_bedrooms&#x27;, &#x27;population&#x27;,\n",
       "                                           &#x27;median_income&#x27;, &#x27;income_cat&#x27;,\n",
       "                                           &#x27;rooms_per_household&#x27;,\n",
       "                                           &#x27;bedrooms_per_room&#x27;,\n",
       "                                           &#x27;population_per_household&#x27;,\n",
       "                                           &#x27;ocean_proximity_&lt;1H OCEAN&#x27;,\n",
       "                                           &#x27;ocean_proximity_INLAND&#x27;,\n",
       "                                           &#x27;ocean_proximity_ISLAND&#x27;,\n",
       "                                           &#x27;ocean_proximity_NEAR BAY&#x27;,\n",
       "                                           &#x27;ocean_proximity_NEAR OCEAN&#x27;]})</pre></div></div></div><div class=\"sk-item\"><div class=\"sk-estimator sk-toggleable\"><input class=\"sk-toggleable__control sk-hidden--visually\" id=\"sk-estimator-id-3\" type=\"checkbox\" ><label for=\"sk-estimator-id-3\" class=\"sk-toggleable__label sk-toggleable__label-arrow\">SKLStatsmodelOLS</label><div class=\"sk-toggleable__content\"><pre>SKLStatsmodelOLS()</pre></div></div></div></div></div></div></div>"
      ],
      "text/plain": [
       "Pipeline(steps=[('',\n",
       "                 FunctionTransformer(func=<function _custom_data_transform at 0x7f18a13a19d0>,\n",
       "                                     kw_args={'cols2keep': ['longitude',\n",
       "                                                            'housing_median_age',\n",
       "                                                            'total_bedrooms',\n",
       "                                                            'population',\n",
       "                                                            'median_income',\n",
       "                                                            'income_cat',\n",
       "                                                            'rooms_per_household',\n",
       "                                                            'bedrooms_per_room',\n",
       "                                                            'population_per_household',\n",
       "                                                            'ocean_proximity_<1H '\n",
       "                                                            'OCEAN',\n",
       "                                                            'ocean_proximity_INLAND',\n",
       "                                                            'ocean_proximity_ISLAND',\n",
       "                                                            'ocean_proximity_NEAR '\n",
       "                                                            'BAY',\n",
       "                                                            'ocean_proximity_NEAR '\n",
       "                                                            'OCEAN']})),\n",
       "                ('estimator', SKLStatsmodelOLS())])"
      ]
     },
     "execution_count": 26,
     "metadata": {},
     "output_type": "execute_result"
    }
   ],
   "source": [
    "reg_ppln_ols = Pipeline([\n",
    "    ('',FunctionTransformer(_custom_data_transform, kw_args={'cols2keep':reg_vars})),\n",
    "    ('estimator', SKLStatsmodelOLS())\n",
    "])\n",
    "reg_ppln_ols.fit(housing_prepared, train_y.values.ravel())\n"
   ]
  },
  {
   "cell_type": "code",
   "execution_count": 27,
   "metadata": {},
   "outputs": [
    {
     "data": {
      "text/html": [
       "<table class=\"simpletable\">\n",
       "<caption>OLS Regression Results</caption>\n",
       "<tr>\n",
       "  <th>Dep. Variable:</th>            <td>y</td>        <th>  R-squared:         </th> <td>   0.662</td> \n",
       "</tr>\n",
       "<tr>\n",
       "  <th>Model:</th>                   <td>OLS</td>       <th>  Adj. R-squared:    </th> <td>   0.661</td> \n",
       "</tr>\n",
       "<tr>\n",
       "  <th>Method:</th>             <td>Least Squares</td>  <th>  F-statistic:       </th> <td>   620.0</td> \n",
       "</tr>\n",
       "<tr>\n",
       "  <th>Date:</th>             <td>Wed, 08 Mar 2023</td> <th>  Prob (F-statistic):</th>  <td>  0.00</td>  \n",
       "</tr>\n",
       "<tr>\n",
       "  <th>Time:</th>                 <td>18:31:12</td>     <th>  Log-Likelihood:    </th> <td> -51690.</td> \n",
       "</tr>\n",
       "<tr>\n",
       "  <th>No. Observations:</th>      <td>  4128</td>      <th>  AIC:               </th> <td>1.034e+05</td>\n",
       "</tr>\n",
       "<tr>\n",
       "  <th>Df Residuals:</th>          <td>  4114</td>      <th>  BIC:               </th> <td>1.035e+05</td>\n",
       "</tr>\n",
       "<tr>\n",
       "  <th>Df Model:</th>              <td>    13</td>      <th>                     </th>     <td> </td>    \n",
       "</tr>\n",
       "<tr>\n",
       "  <th>Covariance Type:</th>      <td>nonrobust</td>    <th>                     </th>     <td> </td>    \n",
       "</tr>\n",
       "</table>\n",
       "<table class=\"simpletable\">\n",
       "<tr>\n",
       "               <td></td>                 <th>coef</th>     <th>std err</th>      <th>t</th>      <th>P>|t|</th>  <th>[0.025</th>    <th>0.975]</th>  \n",
       "</tr>\n",
       "<tr>\n",
       "  <th>intercept</th>                  <td> 2.082e+05</td> <td> 6465.460</td> <td>   32.204</td> <td> 0.000</td> <td> 1.96e+05</td> <td> 2.21e+05</td>\n",
       "</tr>\n",
       "<tr>\n",
       "  <th>longitude</th>                  <td>-4416.9551</td> <td> 1213.714</td> <td>   -3.639</td> <td> 0.000</td> <td>-6796.490</td> <td>-2037.420</td>\n",
       "</tr>\n",
       "<tr>\n",
       "  <th>housing_median_age</th>         <td>  1.53e+04</td> <td> 1194.652</td> <td>   12.808</td> <td> 0.000</td> <td>  1.3e+04</td> <td> 1.76e+04</td>\n",
       "</tr>\n",
       "<tr>\n",
       "  <th>total_bedrooms</th>             <td> 4.849e+04</td> <td> 2610.059</td> <td>   18.580</td> <td> 0.000</td> <td> 4.34e+04</td> <td> 5.36e+04</td>\n",
       "</tr>\n",
       "<tr>\n",
       "  <th>population</th>                 <td>-4.245e+04</td> <td> 2605.154</td> <td>  -16.296</td> <td> 0.000</td> <td>-4.76e+04</td> <td>-3.73e+04</td>\n",
       "</tr>\n",
       "<tr>\n",
       "  <th>median_income</th>              <td> 9.169e+04</td> <td> 3148.828</td> <td>   29.118</td> <td> 0.000</td> <td> 8.55e+04</td> <td> 9.79e+04</td>\n",
       "</tr>\n",
       "<tr>\n",
       "  <th>income_cat</th>                 <td>-9412.0642</td> <td> 3104.759</td> <td>   -3.031</td> <td> 0.002</td> <td>-1.55e+04</td> <td>-3325.058</td>\n",
       "</tr>\n",
       "<tr>\n",
       "  <th>rooms_per_household</th>        <td>-3824.6516</td> <td> 1331.460</td> <td>   -2.873</td> <td> 0.004</td> <td>-6435.034</td> <td>-1214.269</td>\n",
       "</tr>\n",
       "<tr>\n",
       "  <th>bedrooms_per_room</th>          <td>  484.7150</td> <td> 1183.449</td> <td>    0.410</td> <td> 0.682</td> <td>-1835.485</td> <td> 2804.915</td>\n",
       "</tr>\n",
       "<tr>\n",
       "  <th>population_per_household</th>   <td> 1.037e+04</td> <td> 1428.361</td> <td>    7.262</td> <td> 0.000</td> <td> 7572.850</td> <td> 1.32e+04</td>\n",
       "</tr>\n",
       "<tr>\n",
       "  <th>ocean_proximity_<1H OCEAN</th>  <td> 1.665e+04</td> <td> 6626.688</td> <td>    2.513</td> <td> 0.012</td> <td> 3662.560</td> <td> 2.96e+04</td>\n",
       "</tr>\n",
       "<tr>\n",
       "  <th>ocean_proximity_INLAND</th>     <td>-4.797e+04</td> <td> 6713.410</td> <td>   -7.146</td> <td> 0.000</td> <td>-6.11e+04</td> <td>-3.48e+04</td>\n",
       "</tr>\n",
       "<tr>\n",
       "  <th>ocean_proximity_ISLAND</th>     <td> 1.957e+05</td> <td> 3.21e+04</td> <td>    6.106</td> <td> 0.000</td> <td> 1.33e+05</td> <td> 2.59e+05</td>\n",
       "</tr>\n",
       "<tr>\n",
       "  <th>ocean_proximity_NEAR BAY</th>   <td> 1.293e+04</td> <td> 7153.170</td> <td>    1.807</td> <td> 0.071</td> <td>-1097.046</td> <td>  2.7e+04</td>\n",
       "</tr>\n",
       "<tr>\n",
       "  <th>ocean_proximity_NEAR OCEAN</th> <td> 3.088e+04</td> <td> 6879.881</td> <td>    4.488</td> <td> 0.000</td> <td> 1.74e+04</td> <td> 4.44e+04</td>\n",
       "</tr>\n",
       "</table>\n",
       "<table class=\"simpletable\">\n",
       "<tr>\n",
       "  <th>Omnibus:</th>       <td>759.807</td> <th>  Durbin-Watson:     </th> <td>   2.030</td>\n",
       "</tr>\n",
       "<tr>\n",
       "  <th>Prob(Omnibus):</th> <td> 0.000</td>  <th>  Jarque-Bera (JB):  </th> <td>1734.901</td>\n",
       "</tr>\n",
       "<tr>\n",
       "  <th>Skew:</th>          <td> 1.045</td>  <th>  Prob(JB):          </th> <td>    0.00</td>\n",
       "</tr>\n",
       "<tr>\n",
       "  <th>Kurtosis:</th>      <td> 5.391</td>  <th>  Cond. No.          </th> <td>1.25e+15</td>\n",
       "</tr>\n",
       "</table><br/><br/>Notes:<br/>[1] Standard Errors assume that the covariance matrix of the errors is correctly specified.<br/>[2] The smallest eigenvalue is 7.41e-27. This might indicate that there are<br/>strong multicollinearity problems or that the design matrix is singular."
      ],
      "text/plain": [
       "<class 'statsmodels.iolib.summary.Summary'>\n",
       "\"\"\"\n",
       "                            OLS Regression Results                            \n",
       "==============================================================================\n",
       "Dep. Variable:                      y   R-squared:                       0.662\n",
       "Model:                            OLS   Adj. R-squared:                  0.661\n",
       "Method:                 Least Squares   F-statistic:                     620.0\n",
       "Date:                Wed, 08 Mar 2023   Prob (F-statistic):               0.00\n",
       "Time:                        18:31:12   Log-Likelihood:                -51690.\n",
       "No. Observations:                4128   AIC:                         1.034e+05\n",
       "Df Residuals:                    4114   BIC:                         1.035e+05\n",
       "Df Model:                          13                                         \n",
       "Covariance Type:            nonrobust                                         \n",
       "==============================================================================================\n",
       "                                 coef    std err          t      P>|t|      [0.025      0.975]\n",
       "----------------------------------------------------------------------------------------------\n",
       "intercept                   2.082e+05   6465.460     32.204      0.000    1.96e+05    2.21e+05\n",
       "longitude                  -4416.9551   1213.714     -3.639      0.000   -6796.490   -2037.420\n",
       "housing_median_age           1.53e+04   1194.652     12.808      0.000     1.3e+04    1.76e+04\n",
       "total_bedrooms              4.849e+04   2610.059     18.580      0.000    4.34e+04    5.36e+04\n",
       "population                 -4.245e+04   2605.154    -16.296      0.000   -4.76e+04   -3.73e+04\n",
       "median_income               9.169e+04   3148.828     29.118      0.000    8.55e+04    9.79e+04\n",
       "income_cat                 -9412.0642   3104.759     -3.031      0.002   -1.55e+04   -3325.058\n",
       "rooms_per_household        -3824.6516   1331.460     -2.873      0.004   -6435.034   -1214.269\n",
       "bedrooms_per_room            484.7150   1183.449      0.410      0.682   -1835.485    2804.915\n",
       "population_per_household    1.037e+04   1428.361      7.262      0.000    7572.850    1.32e+04\n",
       "ocean_proximity_<1H OCEAN   1.665e+04   6626.688      2.513      0.012    3662.560    2.96e+04\n",
       "ocean_proximity_INLAND     -4.797e+04   6713.410     -7.146      0.000   -6.11e+04   -3.48e+04\n",
       "ocean_proximity_ISLAND      1.957e+05   3.21e+04      6.106      0.000    1.33e+05    2.59e+05\n",
       "ocean_proximity_NEAR BAY    1.293e+04   7153.170      1.807      0.071   -1097.046     2.7e+04\n",
       "ocean_proximity_NEAR OCEAN  3.088e+04   6879.881      4.488      0.000    1.74e+04    4.44e+04\n",
       "==============================================================================\n",
       "Omnibus:                      759.807   Durbin-Watson:                   2.030\n",
       "Prob(Omnibus):                  0.000   Jarque-Bera (JB):             1734.901\n",
       "Skew:                           1.045   Prob(JB):                         0.00\n",
       "Kurtosis:                       5.391   Cond. No.                     1.25e+15\n",
       "==============================================================================\n",
       "\n",
       "Notes:\n",
       "[1] Standard Errors assume that the covariance matrix of the errors is correctly specified.\n",
       "[2] The smallest eigenvalue is 7.41e-27. This might indicate that there are\n",
       "strong multicollinearity problems or that the design matrix is singular.\n",
       "\"\"\""
      ]
     },
     "execution_count": 27,
     "metadata": {},
     "output_type": "execute_result"
    }
   ],
   "source": [
    "reg_ppln_ols['estimator'].summary()"
   ]
  },
  {
   "cell_type": "markdown",
   "metadata": {},
   "source": [
    "### 4.1.5 Model Evaluation(Linear Model)\n",
    "\n",
    "This will be part of the production code."
   ]
  },
  {
   "cell_type": "code",
   "execution_count": 28,
   "metadata": {},
   "outputs": [],
   "source": [
    "reg_ppln = Pipeline([\n",
    "    ('', FunctionTransformer(_custom_data_transform, kw_args={'cols2keep':reg_vars})),\n",
    "    ('Linear Regression', SKLStatsmodelOLS())\n",
    "])\n",
    "test_X = load_dataset(context, 'test/housing/features')\n",
    "lr_test_X =dp.data_prep(test_X)"
   ]
  },
  {
   "cell_type": "code",
   "execution_count": 29,
   "metadata": {},
   "outputs": [
    {
     "name": "stderr",
     "output_type": "stream",
     "text": [
      "In a future version of pandas all arguments of DataFrame.drop except for the argument 'labels' will be keyword-only.\n",
      "In a future version of pandas all arguments of DataFrame.drop except for the argument 'labels' will be keyword-only.\n",
      "this method is deprecated in favour of `Styler.to_html()`\n"
     ]
    }
   ],
   "source": [
    "reg_linear_report = RegressionReport(model=reg_ppln, x_train=housing_prepared, y_train=train_y, x_test= lr_test_X, y_test= test_y,refit=True)\n",
    "reg_linear_report.get_report(include_shap=False, file_path='./reports/model_experimenting/regression_linear_model_report')"
   ]
  },
  {
   "cell_type": "code",
   "execution_count": 30,
   "metadata": {},
   "outputs": [],
   "source": [
    "threshold=0.3\n",
    "residual_analysis = lr_test_X.copy()\n",
    "residual_analysis['prediction'] = reg_ppln_ols.predict(lr_test_X)\n",
    "residual_analysis['actuals'] = test_y.reset_index(drop = True).iloc[:,0].values\n",
    "residual_analysis['forecast_flag'] = 'good'\n",
    "residual_analysis.loc[((residual_analysis['prediction'] > (1+threshold) * residual_analysis['actuals'])\\\n",
    "                       & (residual_analysis['actuals']>100)),'forecast_flag'] = 'over predict'\n",
    "residual_analysis.loc[((residual_analysis['prediction'] < (1-threshold) * residual_analysis['actuals'])\\\n",
    "                       & (residual_analysis['actuals']>100)),'forecast_flag'] = 'under predict'"
   ]
  },
  {
   "cell_type": "code",
   "execution_count": 31,
   "metadata": {},
   "outputs": [
    {
     "data": {},
     "metadata": {},
     "output_type": "display_data"
    },
    {
     "data": {
      "application/vnd.holoviews_exec.v0+json": "",
      "text/html": [
       "<div id='67371'>\n",
       "  <div class=\"bk-root\" id=\"37af83b5-53bc-4ea3-91ef-4dfe2999efe7\" data-root-id=\"67371\"></div>\n",
       "</div>\n",
       "<script type=\"application/javascript\">(function(root) {\n",
       "  function embed_document(root) {\n",
       "    var docs_json = {\"f6116a79-4f39-4570-95df-0083a1f7454e\":{\"defs\":[{\"extends\":null,\"module\":null,\"name\":\"ReactiveHTML1\",\"overrides\":[],\"properties\":[]},{\"extends\":null,\"module\":null,\"name\":\"FlexBox1\",\"overrides\":[],\"properties\":[{\"default\":\"flex-start\",\"kind\":null,\"name\":\"align_content\"},{\"default\":\"flex-start\",\"kind\":null,\"name\":\"align_items\"},{\"default\":\"row\",\"kind\":null,\"name\":\"flex_direction\"},{\"default\":\"wrap\",\"kind\":null,\"name\":\"flex_wrap\"},{\"default\":\"flex-start\",\"kind\":null,\"name\":\"justify_content\"}]},{\"extends\":null,\"module\":null,\"name\":\"GridStack1\",\"overrides\":[],\"properties\":[{\"default\":\"warn\",\"kind\":null,\"name\":\"mode\"},{\"default\":null,\"kind\":null,\"name\":\"ncols\"},{\"default\":null,\"kind\":null,\"name\":\"nrows\"},{\"default\":true,\"kind\":null,\"name\":\"allow_resize\"},{\"default\":true,\"kind\":null,\"name\":\"allow_drag\"},{\"default\":[],\"kind\":null,\"name\":\"state\"}]},{\"extends\":null,\"module\":null,\"name\":\"click1\",\"overrides\":[],\"properties\":[{\"default\":\"\",\"kind\":null,\"name\":\"terminal_output\"},{\"default\":\"\",\"kind\":null,\"name\":\"debug_name\"},{\"default\":0,\"kind\":null,\"name\":\"clears\"}]},{\"extends\":null,\"module\":null,\"name\":\"NotificationAreaBase1\",\"overrides\":[],\"properties\":[{\"default\":\"bottom-right\",\"kind\":null,\"name\":\"position\"},{\"default\":0,\"kind\":null,\"name\":\"_clear\"}]},{\"extends\":null,\"module\":null,\"name\":\"NotificationArea1\",\"overrides\":[],\"properties\":[{\"default\":[],\"kind\":null,\"name\":\"notifications\"},{\"default\":\"bottom-right\",\"kind\":null,\"name\":\"position\"},{\"default\":0,\"kind\":null,\"name\":\"_clear\"},{\"default\":[{\"background\":\"#ffc107\",\"icon\":{\"className\":\"fas fa-exclamation-triangle\",\"color\":\"white\",\"tagName\":\"i\"},\"type\":\"warning\"},{\"background\":\"#007bff\",\"icon\":{\"className\":\"fas fa-info-circle\",\"color\":\"white\",\"tagName\":\"i\"},\"type\":\"info\"}],\"kind\":null,\"name\":\"types\"}]},{\"extends\":null,\"module\":null,\"name\":\"Notification\",\"overrides\":[],\"properties\":[{\"default\":null,\"kind\":null,\"name\":\"background\"},{\"default\":3000,\"kind\":null,\"name\":\"duration\"},{\"default\":null,\"kind\":null,\"name\":\"icon\"},{\"default\":\"\",\"kind\":null,\"name\":\"message\"},{\"default\":null,\"kind\":null,\"name\":\"notification_type\"},{\"default\":false,\"kind\":null,\"name\":\"_destroyed\"}]},{\"extends\":null,\"module\":null,\"name\":\"TemplateActions1\",\"overrides\":[],\"properties\":[{\"default\":0,\"kind\":null,\"name\":\"open_modal\"},{\"default\":0,\"kind\":null,\"name\":\"close_modal\"}]},{\"extends\":null,\"module\":null,\"name\":\"MaterialTemplateActions1\",\"overrides\":[],\"properties\":[{\"default\":0,\"kind\":null,\"name\":\"open_modal\"},{\"default\":0,\"kind\":null,\"name\":\"close_modal\"}]}],\"roots\":{\"references\":[{\"attributes\":{},\"id\":\"67397\",\"type\":\"WheelZoomTool\"},{\"attributes\":{\"margin\":[5,5,5,5],\"name\":\"HSpacer166775\",\"sizing_mode\":\"stretch_width\"},\"id\":\"67593\",\"type\":\"Spacer\"},{\"attributes\":{},\"id\":\"67383\",\"type\":\"LinearScale\"},{\"attributes\":{\"fill_alpha\":0.5,\"fill_color\":\"#e5ae38\",\"hatch_alpha\":0.7,\"hatch_color\":\"#e5ae38\",\"line_alpha\":0.7,\"x\":{\"field\":\"x\"},\"y\":{\"field\":\"y\"}},\"id\":\"67480\",\"type\":\"Patch\"},{\"attributes\":{},\"id\":\"67415\",\"type\":\"Selection\"},{\"attributes\":{\"axis_label\":\"density\",\"coordinates\":null,\"formatter\":{\"id\":\"67412\"},\"group\":null,\"major_label_policy\":{\"id\":\"67413\"},\"ticker\":{\"id\":\"67392\"}},\"id\":\"67391\",\"type\":\"LinearAxis\"},{\"attributes\":{\"fill_alpha\":0.5,\"fill_color\":\"#30a2da\",\"hatch_alpha\":0.1,\"hatch_color\":\"#30a2da\",\"line_alpha\":0.7,\"x\":{\"field\":\"x\"},\"y\":{\"field\":\"y\"}},\"id\":\"67418\",\"type\":\"Patch\"},{\"attributes\":{},\"id\":\"67476\",\"type\":\"UnionRenderers\"},{\"attributes\":{\"children\":[{\"id\":\"67372\"},{\"id\":\"67378\"},{\"id\":\"67593\"}],\"margin\":[0,0,0,0],\"name\":\"Row166770\",\"tags\":[\"embedded\"]},\"id\":\"67371\",\"type\":\"Row\"},{\"attributes\":{\"coordinates\":null,\"data_source\":{\"id\":\"67414\"},\"glyph\":{\"id\":\"67417\"},\"group\":null,\"hover_glyph\":null,\"muted_glyph\":{\"id\":\"67419\"},\"nonselection_glyph\":{\"id\":\"67418\"},\"selection_glyph\":{\"id\":\"67434\"},\"view\":{\"id\":\"67421\"}},\"id\":\"67420\",\"type\":\"GlyphRenderer\"},{\"attributes\":{\"data\":{\"x\":{\"__ndarray__\":\"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\",\"dtype\":\"float64\",\"order\":\"little\",\"shape\":[200]},\"y\":{\"__ndarray__\":\"AAAAAAAAAAAAAAAAAAAAAAAAAAAAAAAAAAAAAAAAAAAAAAAAAAAAAAAAAAAAAAAAAAAAAAAAAAAAAAAAAAAAAAAAAAAAAAAAAAAAAAAAAAAAAAAAAAAAAAAAAAAAAAAAAAAAAAAAAAAAAAAAAAAAAAAAAAAAAAAAAAAAAAAAAAAAAAAAAAAAAAAAAAAAAAAAAAAAAAAAAAAAAAAAAAAAAAAAAAAAAAAAAAAAAAAAAAAAAAAAAAAAAAAAAAAAAAAAAAAAAAAAAAAAAAAAAAAAAAAAAAAAAAAAAAAAAAAAAAAAAAAAAAAAAAAAAAAAAAAAAAAAAAAAAAAAAAAAAAAAAAAAAAAAAAAAAAAAAAAAAAAAAAAAAAAAAAAAAAAAAAAAAAAAAAAAAAAAAAAAAAAAAAAAAAAAAAAAAAAAAAAAAAAAAAAAAAAAAAAAAAAAAAAAAAAAAAAAAAAAAAAAAAAAAAAAAAAAAAAAAAAAAAAAAAAAAAAAAAAAAAAAAAAAAAAAAAAAAAAAAAAAAAAAAAAAAAAAAAAAAAAAAAAAAAAAAAAAAAAAAAAAAAAAAAAAAAAAAAAAAAAAAAAAAAAAAAAAAAAAAAAAAAAAAAAAAAAAAAAAAAAAAAAAAAAAAAAAAAAAAAAAAAAAAAAAAAAAAAAAAAAAAAAAAAAAAAAAAAAAAAAAAAAAAAAAAAAAAAAAAAAAAAAAAAAAAAAAAAAAAAAAAAAAAAAAAAAAAAAAAAAAAAAAAAAAAAAAAAAAAAAAAAAAAAAAAAAAAAAAAAAAAAAAAAAAAAAAAAAAAAAAAAAAAAAAAAAAAAAAAAAAAAAAAAAAAAAAAAAAAAAAAAAAAAAAAAAAAAAAAAAAAAAAAAAAAAAAAAAAAAAAAAAAAAAAAAAAAAAAAAAAAAAAAAAAAAAAAAAAAAAAAAAAAAAAAAAAAAAAAAAAAAAAAAAAAAAAAAAAAAAAAAAAAAAAAAAAAAAAAAAAAAAAAAAAAAAAAAAAAAAAAAAAAAAAAAAAAAAAAAAAAAAAAAAAAAAAAAAAAAAAAAAAAAAAAAAAAAAAAAAAAAASfQQ0VqngPlA6uLtwSRo/6EH5/DxwPT9MtKoGvWZHPzd5zRy+aDo/7XtNP6hPFT84m3E0pD/3PiSYsQinESU/5NSUjPJ7Qj8pxMLJkuNJPyMQIxtu/Eg/hQB2/8zZSD87EI8YlI05P1Z899D2nBM/veV8Iux71T4mT6/JqLaAPnct04CodRI+sXHvla3xjD3F4nDBayPzPDevZ3VHems9TDo0PZMZ9j04zhh21ztpPjVRM1WQc8Q+pSU0agCIBz/rafDE5zczP0mWMU1hSEY/agWyu7lWQj/WAbCtMW0lP6NpQysVxfE+4umUI/HrpD61LqQyn7lBPhtng8wiZVU+9xC5+7kJtT5HdlgtfGz9PudGJjLyNS0/lZB/yZWVRD95M6vKspdEP62JBE3yPi0/VvH+HZp7/T5eDEnPix21PuWIkgLbtIU+u8i6pn+m2z6K45+Tvc0cPyB38P0FuUU/uOhvwnXVWD/j40Ys05tZP7XHFetbNVA/RjyjgR1fOD/G8k122doPP94EnDzJDM8+AXhGeENdhz7ykclATFXRPi6VaQu7OhE/I+0AP0NjOT9nYhXx+ahOPwOmjt53flI/NNBEq2tqSD+CchN1NdctP3alTucV/gE/9tfD2YT1GD+Oqh1zvYY8P7q1gXqEdEc/KP5ttlmiPD8vFhUK8owxP3cNj3ZBU0M/jWiSygnURT8EV0iVvu0yP+XOj5k9DjQ/fdS2HGhkWD9eNMZ9wCFuPxtmozMEH3I/+iQSH88NbT84L7NBSPxxP+Jq27TiMnY/mkzzzCTbdz8jUnfn/VyDP958OWo1jZM/vzHUjvykoz/ViDURc5yxP+u3SZOqrbs/fwPLSl2BxD96ODTNYnXOP7lq/UhLrtU/L6c/FlwW3D/M4VlTSXvgP50+PAUaq+E/7iUanxh04T+vTlnDfhzgP6KPI+jZmts/ZMCgBYWt1D/te8UchHDJP7v3PvN2o7k/gg39YKeepz97Qdx3EceVP4jfPztu0IM/ZkqZG/A/bz/ofXF8nUhXPxsV0WT470A/TSt+6an5Gj/CS9OPIL7gPg==\",\"dtype\":\"float64\",\"order\":\"little\",\"shape\":[200]}},\"selected\":{\"id\":\"67415\"},\"selection_policy\":{\"id\":\"67429\"}},\"id\":\"67414\",\"type\":\"ColumnDataSource\"},{\"attributes\":{\"click_policy\":\"mute\",\"coordinates\":null,\"group\":null,\"items\":[{\"id\":\"67433\"},{\"id\":\"67455\"},{\"id\":\"67479\"}],\"title\":\"forecast_flag\"},\"id\":\"67432\",\"type\":\"Legend\"},{\"attributes\":{},\"id\":\"67429\",\"type\":\"UnionRenderers\"},{\"attributes\":{},\"id\":\"67409\",\"type\":\"BasicTickFormatter\"},{\"attributes\":{\"end\":18.501107136309336,\"reset_end\":18.501107136309336,\"reset_start\":-3.0961102054791283,\"start\":-3.0961102054791283,\"tags\":[[[\"rooms_per_household\",\"rooms_per_household\",null]]]},\"id\":\"67373\",\"type\":\"Range1d\"},{\"attributes\":{\"axis\":{\"id\":\"67387\"},\"coordinates\":null,\"grid_line_color\":null,\"group\":null,\"ticker\":null},\"id\":\"67390\",\"type\":\"Grid\"},{\"attributes\":{\"margin\":[5,5,5,5],\"name\":\"HSpacer166774\",\"sizing_mode\":\"stretch_width\"},\"id\":\"67372\",\"type\":\"Spacer\"},{\"attributes\":{},\"id\":\"67436\",\"type\":\"Selection\"},{\"attributes\":{\"label\":{\"value\":\"good\"},\"renderers\":[{\"id\":\"67420\"}]},\"id\":\"67433\",\"type\":\"LegendItem\"},{\"attributes\":{\"coordinates\":null,\"group\":null,\"text\":\"rooms_per_house_hold(density)\",\"text_color\":\"black\",\"text_font_size\":\"12pt\"},\"id\":\"67379\",\"type\":\"Title\"},{\"attributes\":{},\"id\":\"67452\",\"type\":\"UnionRenderers\"},{\"attributes\":{\"source\":{\"id\":\"67414\"}},\"id\":\"67421\",\"type\":\"CDSView\"},{\"attributes\":{\"fill_alpha\":0.5,\"fill_color\":\"#30a2da\",\"hatch_alpha\":0.7,\"hatch_color\":\"#30a2da\",\"line_alpha\":0.7,\"x\":{\"field\":\"x\"},\"y\":{\"field\":\"y\"}},\"id\":\"67417\",\"type\":\"Patch\"},{\"attributes\":{},\"id\":\"67388\",\"type\":\"BasicTicker\"},{\"attributes\":{\"label\":{\"value\":\"under predict\"},\"renderers\":[{\"id\":\"67463\"}]},\"id\":\"67479\",\"type\":\"LegendItem\"},{\"attributes\":{\"fill_alpha\":0.5,\"fill_color\":\"#30a2da\",\"hatch_alpha\":0.7,\"hatch_color\":\"#30a2da\",\"line_alpha\":0.7,\"x\":{\"field\":\"x\"},\"y\":{\"field\":\"y\"}},\"id\":\"67434\",\"type\":\"Patch\"},{\"attributes\":{},\"id\":\"67396\",\"type\":\"PanTool\"},{\"attributes\":{},\"id\":\"67399\",\"type\":\"ResetTool\"},{\"attributes\":{\"below\":[{\"id\":\"67387\"}],\"center\":[{\"id\":\"67390\"},{\"id\":\"67394\"},{\"id\":\"67432\"}],\"height\":400,\"left\":[{\"id\":\"67391\"}],\"margin\":[5,5,5,5],\"min_border_bottom\":10,\"min_border_left\":10,\"min_border_right\":10,\"min_border_top\":10,\"renderers\":[{\"id\":\"67420\"},{\"id\":\"67441\"},{\"id\":\"67463\"}],\"sizing_mode\":\"fixed\",\"title\":{\"id\":\"67379\"},\"toolbar\":{\"id\":\"67401\"},\"width\":800,\"x_range\":{\"id\":\"67373\"},\"x_scale\":{\"id\":\"67383\"},\"y_range\":{\"id\":\"67374\"},\"y_scale\":{\"id\":\"67385\"}},\"id\":\"67378\",\"subtype\":\"Figure\",\"type\":\"Plot\"},{\"attributes\":{\"callback\":null,\"renderers\":[{\"id\":\"67420\"},{\"id\":\"67441\"},{\"id\":\"67463\"}],\"tags\":[\"hv_created\"],\"tooltips\":[[\"forecast_flag\",\"@{forecast_flag}\"],[\"rooms_per_household\",\"@{rooms_per_household}\"],[\"Density\",\"@{rooms_per_household_density}\"]]},\"id\":\"67375\",\"type\":\"HoverTool\"},{\"attributes\":{\"fill_alpha\":0.2,\"fill_color\":\"#e5ae38\",\"hatch_alpha\":0.2,\"hatch_color\":\"#e5ae38\",\"line_alpha\":0.2,\"x\":{\"field\":\"x\"},\"y\":{\"field\":\"y\"}},\"id\":\"67462\",\"type\":\"Patch\"},{\"attributes\":{},\"id\":\"67385\",\"type\":\"LinearScale\"},{\"attributes\":{},\"id\":\"67413\",\"type\":\"AllLabels\"},{\"attributes\":{\"end\":0.7733111401859987,\"reset_end\":0.7733111401859987,\"reset_start\":0.0,\"tags\":[[[\"rooms_per_household_density\",\"Density\",null]]]},\"id\":\"67374\",\"type\":\"Range1d\"},{\"attributes\":{\"coordinates\":null,\"data_source\":{\"id\":\"67457\"},\"glyph\":{\"id\":\"67460\"},\"group\":null,\"hover_glyph\":null,\"muted_glyph\":{\"id\":\"67462\"},\"nonselection_glyph\":{\"id\":\"67461\"},\"selection_glyph\":{\"id\":\"67480\"},\"view\":{\"id\":\"67464\"}},\"id\":\"67463\",\"type\":\"GlyphRenderer\"},{\"attributes\":{\"source\":{\"id\":\"67457\"}},\"id\":\"67464\",\"type\":\"CDSView\"},{\"attributes\":{},\"id\":\"67395\",\"type\":\"SaveTool\"},{\"attributes\":{\"fill_alpha\":0.2,\"fill_color\":\"#30a2da\",\"hatch_alpha\":0.2,\"hatch_color\":\"#30a2da\",\"line_alpha\":0.2,\"x\":{\"field\":\"x\"},\"y\":{\"field\":\"y\"}},\"id\":\"67419\",\"type\":\"Patch\"},{\"attributes\":{\"source\":{\"id\":\"67435\"}},\"id\":\"67442\",\"type\":\"CDSView\"},{\"attributes\":{\"tools\":[{\"id\":\"67375\"},{\"id\":\"67395\"},{\"id\":\"67396\"},{\"id\":\"67397\"},{\"id\":\"67398\"},{\"id\":\"67399\"}]},\"id\":\"67401\",\"type\":\"Toolbar\"},{\"attributes\":{\"fill_alpha\":0.5,\"fill_color\":\"#fc4f30\",\"hatch_alpha\":0.1,\"hatch_color\":\"#fc4f30\",\"line_alpha\":0.7,\"x\":{\"field\":\"x\"},\"y\":{\"field\":\"y\"}},\"id\":\"67439\",\"type\":\"Patch\"},{\"attributes\":{\"fill_alpha\":0.5,\"fill_color\":\"#e5ae38\",\"hatch_alpha\":0.7,\"hatch_color\":\"#e5ae38\",\"line_alpha\":0.7,\"x\":{\"field\":\"x\"},\"y\":{\"field\":\"y\"}},\"id\":\"67460\",\"type\":\"Patch\"},{\"attributes\":{},\"id\":\"67410\",\"type\":\"AllLabels\"},{\"attributes\":{},\"id\":\"67458\",\"type\":\"Selection\"},{\"attributes\":{\"axis\":{\"id\":\"67391\"},\"coordinates\":null,\"dimension\":1,\"grid_line_color\":null,\"group\":null,\"ticker\":null},\"id\":\"67394\",\"type\":\"Grid\"},{\"attributes\":{},\"id\":\"67392\",\"type\":\"BasicTicker\"},{\"attributes\":{},\"id\":\"67412\",\"type\":\"BasicTickFormatter\"},{\"attributes\":{\"fill_alpha\":0.5,\"fill_color\":\"#fc4f30\",\"hatch_alpha\":0.7,\"hatch_color\":\"#fc4f30\",\"line_alpha\":0.7,\"x\":{\"field\":\"x\"},\"y\":{\"field\":\"y\"}},\"id\":\"67456\",\"type\":\"Patch\"},{\"attributes\":{\"axis_label\":\"rooms_per_house_hold\",\"coordinates\":null,\"formatter\":{\"id\":\"67409\"},\"group\":null,\"major_label_policy\":{\"id\":\"67410\"},\"ticker\":{\"id\":\"67388\"}},\"id\":\"67387\",\"type\":\"LinearAxis\"},{\"attributes\":{\"fill_alpha\":0.2,\"fill_color\":\"#fc4f30\",\"hatch_alpha\":0.2,\"hatch_color\":\"#fc4f30\",\"line_alpha\":0.2,\"x\":{\"field\":\"x\"},\"y\":{\"field\":\"y\"}},\"id\":\"67440\",\"type\":\"Patch\"},{\"attributes\":{\"data\":{\"x\":{\"__ndarray__\":\"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\",\"dtype\":\"float64\",\"order\":\"little\",\"shape\":[200]},\"y\":{\"__ndarray__\":\"AAAAAAAAAAAAAAAAAAAAAAAAAAAAAAAAAAAAAAAAAAAAAAAAAAAAAAAAAAAAAAAAAAAAAAAAAAAAAAAAAAAAAAAAAAAAAAAAAAAAAAAAAAAAAAAAAAAAAAAAAAAAAAAAAAAAAAAAAAAAAAAAAAAAAAAAAAAAAAAAAAAAAAAAAAAAAAAAAAAAAAAAAAAAAAAAAAAAAAAAAAAAAAAAAAAAAAAAAAAAAAAAAAAAAAAAAAAAAAAAAAAAAAAAAAAAAAAAAAAAAAAAAAAAAAAAAAAAAAAAAAAAAAAAAAAAAAAAAAAAAAAAAAAAAAAAAAAAAAAAAAAAAAAAAAAAAAAAAAAAAAAAAAAAAAAAAAAAAAAAAAAAAAAAAAAAAAAAAAAAAAAAAAAAAAAAAAAAAAAAAAAAAAAAAAAAAAAAAAAAAAAAAAAAAAAAAAAAAAAAAAAAAAAAAAAAAAAAAAAAAAAAAAAAAAAAAAAAAAAAAAAAAAAAAAAAAAAAAAAAAAAAAAAAAAAAAAAAAAAAAAAAAAAAAAAAAAAAAAAAAAAAAAAAAAAAAAAAAAAAAAAAAAAAAAAAAAAAAAAAAAAAAAAAAAAAAAAAAAAAAAAAAAAAAAAAAAAAAAAAAAAAAAAAAAAAAAAAAAAAAAAAAAAAAAAAAAAAAAAAAAAAAAAAAAAAAAAAAAAAAAAAAAAAAAAAAAAAAAAAAAAAAAAAAAAAAAAAAAAAAAAAAAAAAAAAAAAAAAAAAAAAAAAAAAAAAAAAAAAAAAAAAAAAAAAAAAAAAAAAAAAAAAAAAAAAAAAAAAAAAAAAAAAAAAAAAAAAAAAAAAAAAAAAAAAAAAAAAAAAAAAAAAAAAAAAAAAAAAAAAAAAAAAAAAAAAAAAAAAAAAAAAAAAAAAAAAAAAAAAAAAAAAAAAAAAAAAAAAAAAAAAAAAAAAAAAAAAAAAAAAAAAAAAAAAAAAAAAAAAAAAAAAAAAAAAAAAAAAAAAAAAAAAAAAAAAAAAAAAAAAAAAAAAAAAAAAAAAAAAAAAAAAAAAAAAAAAAAAAAAAAAAAAAAAAAAAAAAAAAAAAAAAD6y7eTTu37PnyVDwK+FiA/qCm7bCAJOz8+KKWdb5BQP1HyEh0Fml0//9mE0qxJYz9NiMZfI1RiP4bpSZPNZlk/pDbtecOrST+Jh73pAOsyPzPxreAZVRQ/g5aa8Mbe7z72v3sDwTbCPg5swxmxXI4+wtijhCF0Uj6NNZrKfVsQPv7qgN9dJcU9y2qu1BTvcz0ILM5/1GcbPTa553uXebs8RWuC8u8VVDwqUR0IPWrlO/UNUy9EpnA7LBD3wN3g8joUqxh96DdvOhP2BALo0uI5rhIAFdT2nTnRsrPRuvErOosxZL7brrM68Bi3LDo4NDs/9NCm5UquO2J7/ckKjCA8QuazBUJdijwKbk8zk6HuPHt6ujmU80k9oD8/EW0IoD1s6eHMS+TsPdo8coKR+zI+eCsUl4gwcj6aJcPzbmupPiuh+UB559k+Mazo2vs/Az8O/1U3ON0kP0gY01evfkA/OOlpcZcKUz/h6kttyhtgPwtMxoVNSWQ/1sSvNcwyZD8zoeyIlA5jP3LH6KD8xWU/s+hKpCygbD8uiLAt2zhxP8In376x8nA/PuwT5xtgaj+CEgaYsulfP4DsLsj4i00/8rrqfIigND+KmOM4xXYVP/j8iHV5gvA+0Xsfi4++wj4r8EkV+9aXPhhX+wfmdrY+wZUBGVCX5T56BIYG2/oOP7BlCxdBcDA/76uth8rqST+bVRy8hIBeP+OwQCx57Wo/yt95mVnncT/ugcEelvlxP6uNawjZTWs/Kez2vwP7Xz/V3lQC3pFRPzKSHCXfhFM/9tg5hQeiZT9oUPibvMR3P2dyVplGQIc/o0CQa1lklT9AVFFKLxWjPx7YI0PUTrA/JylxRxY0uj+Be/BdGLDDP7AAWR2RzMs/GmxGPxOI0j95VX+QxlDXP9zU5Bf5k9s/csvv5dmZ3j9fp1/qEs/fP3dVMCl1z94/n86vY62H2z8hhojlb3HWPxKjl5QlkdA/9ZAlPYgVxj9L0Z9tuXu6Pw+XojjoI6w/e5JeJfKsmT/2Lh6UqFWDP2cHPNK/LWc/1cWZx5OHRT/K92zBlm8ePw==\",\"dtype\":\"float64\",\"order\":\"little\",\"shape\":[200]}},\"selected\":{\"id\":\"67458\"},\"selection_policy\":{\"id\":\"67476\"}},\"id\":\"67457\",\"type\":\"ColumnDataSource\"},{\"attributes\":{\"bottom_units\":\"screen\",\"coordinates\":null,\"fill_alpha\":0.5,\"fill_color\":\"lightgrey\",\"group\":null,\"left_units\":\"screen\",\"level\":\"overlay\",\"line_alpha\":1.0,\"line_color\":\"black\",\"line_dash\":[4,4],\"line_width\":2,\"right_units\":\"screen\",\"syncable\":false,\"top_units\":\"screen\"},\"id\":\"67400\",\"type\":\"BoxAnnotation\"},{\"attributes\":{\"label\":{\"value\":\"over predict\"},\"renderers\":[{\"id\":\"67441\"}]},\"id\":\"67455\",\"type\":\"LegendItem\"},{\"attributes\":{\"coordinates\":null,\"data_source\":{\"id\":\"67435\"},\"glyph\":{\"id\":\"67438\"},\"group\":null,\"hover_glyph\":null,\"muted_glyph\":{\"id\":\"67440\"},\"nonselection_glyph\":{\"id\":\"67439\"},\"selection_glyph\":{\"id\":\"67456\"},\"view\":{\"id\":\"67442\"}},\"id\":\"67441\",\"type\":\"GlyphRenderer\"},{\"attributes\":{\"data\":{\"x\":{\"__ndarray__\":\"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\",\"dtype\":\"float64\",\"order\":\"little\",\"shape\":[200]},\"y\":{\"__ndarray__\":\"AAAAAAAAAAAAAAAAAAAAAAAAAAAAAAAAAAAAAAAAAAAAAAAAAAAAAAAAAAAAAAAAAAAAAAAAAAAAAAAAAAAAAAAAAAAAAAAAAAAAAAAAAAAAAAAAAAAAAAAAAAAAAAAAAAAAAAAAAAAAAAAAAAAAAAAAAAAAAAAAAAAAAAAAAAAAAAAAAAAAAAAAAAAAAAAAAAAAAAAAAAAAAAAAAAAAAAAAAAAAAAAAAAAAAAAAAAAAAAAAAAAAAAAAAAAAAAAAAAAAAAAAAAAAAAAAAAAAAAAAAAAAAAAAAAAAAAAAAAAAAAAAAAAAAAAAAAAAAAAAAAAAAAAAAAAAAAAAAAAAAAAAAAAAAAAAAAAAAAAAAAAAAAAAAAAAAAAAAAAAAAAAAAAAAAAAAAAAAAAAAAAAAAAAAAAAAAAAAAAAAAAAAAAAAAAAAAAAAAAAAAAAAAAAAAAAAAAAAAAAAAAAAAAAAAAAAAAAAAAAAAAAAAAAAAAAAAAAAAAAAAAAAAAAAAAAAAAAAAAAAAAAAAAAAAAAAAAAAAAAAAAAAAAAAAAAAAAAAAAAAAAAAAAAAAAAAAAAAAAAAAAAAAAAAAAAAAAAAAAAAAAAAAAAAAAAAAAAAAAAAAAAAAAAAAAAAAAAAAAAAAAAAAAAAAAAAAAAAAAAAAAAAAAAAAAAAAAAAAAAAAAAAAAAAAAAAAAAAAAAAAAAAAAAAAAAAAAAAAAAAAAAAAAAAAAAAAAAAAAAAAAAAAAAAAAAAAAAAAAAAAAAAAAAAAAAAAAAAAAAAAAAAAAAAAAAAAAAAAAAAAAAAAAAAAAAAAAAAAAAAAAAAAAAAAAAAAAAAAAAAAAAAAAAAAAAAAAAAAAAAAAAAAAAAAAAAAAAAAAAAAAAAAAAAAAAAAAAAAAAAAAAAAAAAAAAAAAAAAAAAAAAAAAAAAAAAAAAAAAAAAAAAAAAAAAAAAAAAAAAAAAAAAAAAAAAAAAAAAAAAAAAAAAAAAAAAAAAAAAAAAAAAAAAAAAAAAAAAAAAAAAAAAAAAAAAAAAAAAAAAAAAAAAAAAAAAAAAAAAAAAAAAACNKcBvMav2PiamfqJLCRw/8Fpj9XdyOD+wzzUNLg9OPzzLG37gDlo/tCmkQ1/aXz9IXNxqrHNbP4kdetEtrlA/GtvDb1qVPD8nRC9UPEQhPwsHlw1Fav0+VxW+sdyq0T7W17/b3bCePsnrZf6rDow+mBNT54HIvz4kez2ALyLuPqnnI9M6KRQ/gX3T7T4FMz9j4DPTl01JP0gb0m51u1c/apUgugljXz+3WSgbN0RdP5pU1nlzPVM/u70VPePVQT/kOCFpQ1AnPxWBf0JsfAU/lMNQIRcE3D5eUxyxXSmyPsXj+Sn2Lss+pqYLvEpm9z4LLu2HsRkdP3Klw8420Dk/fL/r5WyIUD+gnfdvZVNfP6zf4cNA5WY/zDztPmt9az/gYOLZ0yRtP5i5x5NN/Gw/wnlW4/L8az9T4EBWz6FqP5UkpE06TGk/ISIn23YPaD9R290sxDVnP5wUOUO+o2g/38TS3jiBbj/903X+0Yl0P5NFfEU9dXs/r1q9JFBBgT9KrVop5RuEP9ggaj7AhYY/7XCUJD+OiT9S1cNX67+NP90eDaxACZE/Em3iD4sQkj+xyVNe6C6RPx7BYKE4UY4/3G/X216hiz9Mw3CyfdiMP5yZ2mfsB5E/MXLx1D1clT+m1qurvIybP5LeiOoD36E/IecN91zKpj+CjKcLpT+sP1tNKXr3KbE/4P+6mtwZtT9OUsnBpWK7Pwrw39EG/8I/4jPgX4Iqyz8U6E1iNRjTP+8tvRdamdk/N4Tp+xQl4D+pVQxuFx3jP/x8YYhcTOU/97dExHpv5j8Y0kMYD3/mP8vl+mI+oOU/T4evUUvn4z/0F/cPyVvhPzRvF8tWhNw/j18HcQ8t1j/fHB+PgnLQP0zaO9UnP8c/8cPNvxcnvz8GWiV+/gC0Pz3RI9GG26k/Ch4wFQL+oT8LNH9o29CaP6HXQdDFuZM/KEy5SADZiz8Uv5210XyEP8Zpew+ZPIE/N82LlwpVgD+gKVelCm5/P53YaPJ+3Ho/IpW40H1Kcj8jEDA6l6ZiP7sy2Pqlpks/1vh9mEVpLT/We99ovU4GPw==\",\"dtype\":\"float64\",\"order\":\"little\",\"shape\":[200]}},\"selected\":{\"id\":\"67436\"},\"selection_policy\":{\"id\":\"67452\"}},\"id\":\"67435\",\"type\":\"ColumnDataSource\"},{\"attributes\":{\"fill_alpha\":0.5,\"fill_color\":\"#fc4f30\",\"hatch_alpha\":0.7,\"hatch_color\":\"#fc4f30\",\"line_alpha\":0.7,\"x\":{\"field\":\"x\"},\"y\":{\"field\":\"y\"}},\"id\":\"67438\",\"type\":\"Patch\"},{\"attributes\":{\"fill_alpha\":0.5,\"fill_color\":\"#e5ae38\",\"hatch_alpha\":0.1,\"hatch_color\":\"#e5ae38\",\"line_alpha\":0.7,\"x\":{\"field\":\"x\"},\"y\":{\"field\":\"y\"}},\"id\":\"67461\",\"type\":\"Patch\"},{\"attributes\":{\"overlay\":{\"id\":\"67400\"}},\"id\":\"67398\",\"type\":\"BoxZoomTool\"}],\"root_ids\":[\"67371\"]},\"title\":\"Bokeh Application\",\"version\":\"2.4.3\"}};\n",
       "    var render_items = [{\"docid\":\"f6116a79-4f39-4570-95df-0083a1f7454e\",\"root_ids\":[\"67371\"],\"roots\":{\"67371\":\"37af83b5-53bc-4ea3-91ef-4dfe2999efe7\"}}];\n",
       "    root.Bokeh.embed.embed_items_notebook(docs_json, render_items);\n",
       "  }\n",
       "  if (root.Bokeh !== undefined && root.Bokeh.Panel !== undefined) {\n",
       "    embed_document(root);\n",
       "  } else {\n",
       "    var attempts = 0;\n",
       "    var timer = setInterval(function(root) {\n",
       "      if (root.Bokeh !== undefined && root.Bokeh.Panel !== undefined) {\n",
       "        clearInterval(timer);\n",
       "        embed_document(root);\n",
       "      } else if (document.readyState == \"complete\") {\n",
       "        attempts++;\n",
       "        if (attempts > 200) {\n",
       "          clearInterval(timer);\n",
       "          console.log(\"Bokeh: ERROR: Unable to run BokehJS code because BokehJS library is missing\");\n",
       "        }\n",
       "      }\n",
       "    }, 25, root)\n",
       "  }\n",
       "})(window);</script>"
      ],
      "text/plain": [
       ":NdOverlay   [forecast_flag]\n",
       "   :Distribution   [rooms_per_household]   (Density)"
      ]
     },
     "execution_count": 31,
     "metadata": {
      "application/vnd.holoviews_exec.v0+json": {
       "id": "67371"
      }
     },
     "output_type": "execute_result"
    }
   ],
   "source": [
    "residual_analysis.hvplot.kde(y=\"rooms_per_household\",by=\"forecast_flag\", ## Grouping by Predictions\n",
    "                                width=800, height=400,\n",
    "                                alpha=0.7,\n",
    "                                ylabel=\"density\",\n",
    "                                xlabel=\"rooms_per_house_hold\",\n",
    "                                title=f'rooms_per_house_hold(density)',legend='top_right')"
   ]
  },
  {
   "cell_type": "markdown",
   "metadata": {},
   "source": [
    "## decision tree"
   ]
  },
  {
   "cell_type": "code",
   "execution_count": 32,
   "metadata": {},
   "outputs": [
    {
     "data": {
      "text/html": [
       "<style>#sk-container-id-2 {color: black;background-color: white;}#sk-container-id-2 pre{padding: 0;}#sk-container-id-2 div.sk-toggleable {background-color: white;}#sk-container-id-2 label.sk-toggleable__label {cursor: pointer;display: block;width: 100%;margin-bottom: 0;padding: 0.3em;box-sizing: border-box;text-align: center;}#sk-container-id-2 label.sk-toggleable__label-arrow:before {content: \"▸\";float: left;margin-right: 0.25em;color: #696969;}#sk-container-id-2 label.sk-toggleable__label-arrow:hover:before {color: black;}#sk-container-id-2 div.sk-estimator:hover label.sk-toggleable__label-arrow:before {color: black;}#sk-container-id-2 div.sk-toggleable__content {max-height: 0;max-width: 0;overflow: hidden;text-align: left;background-color: #f0f8ff;}#sk-container-id-2 div.sk-toggleable__content pre {margin: 0.2em;color: black;border-radius: 0.25em;background-color: #f0f8ff;}#sk-container-id-2 input.sk-toggleable__control:checked~div.sk-toggleable__content {max-height: 200px;max-width: 100%;overflow: auto;}#sk-container-id-2 input.sk-toggleable__control:checked~label.sk-toggleable__label-arrow:before {content: \"▾\";}#sk-container-id-2 div.sk-estimator input.sk-toggleable__control:checked~label.sk-toggleable__label {background-color: #d4ebff;}#sk-container-id-2 div.sk-label input.sk-toggleable__control:checked~label.sk-toggleable__label {background-color: #d4ebff;}#sk-container-id-2 input.sk-hidden--visually {border: 0;clip: rect(1px 1px 1px 1px);clip: rect(1px, 1px, 1px, 1px);height: 1px;margin: -1px;overflow: hidden;padding: 0;position: absolute;width: 1px;}#sk-container-id-2 div.sk-estimator {font-family: monospace;background-color: #f0f8ff;border: 1px dotted black;border-radius: 0.25em;box-sizing: border-box;margin-bottom: 0.5em;}#sk-container-id-2 div.sk-estimator:hover {background-color: #d4ebff;}#sk-container-id-2 div.sk-parallel-item::after {content: \"\";width: 100%;border-bottom: 1px solid gray;flex-grow: 1;}#sk-container-id-2 div.sk-label:hover label.sk-toggleable__label {background-color: #d4ebff;}#sk-container-id-2 div.sk-serial::before {content: \"\";position: absolute;border-left: 1px solid gray;box-sizing: border-box;top: 0;bottom: 0;left: 50%;z-index: 0;}#sk-container-id-2 div.sk-serial {display: flex;flex-direction: column;align-items: center;background-color: white;padding-right: 0.2em;padding-left: 0.2em;position: relative;}#sk-container-id-2 div.sk-item {position: relative;z-index: 1;}#sk-container-id-2 div.sk-parallel {display: flex;align-items: stretch;justify-content: center;background-color: white;position: relative;}#sk-container-id-2 div.sk-item::before, #sk-container-id-2 div.sk-parallel-item::before {content: \"\";position: absolute;border-left: 1px solid gray;box-sizing: border-box;top: 0;bottom: 0;left: 50%;z-index: -1;}#sk-container-id-2 div.sk-parallel-item {display: flex;flex-direction: column;z-index: 1;position: relative;background-color: white;}#sk-container-id-2 div.sk-parallel-item:first-child::after {align-self: flex-end;width: 50%;}#sk-container-id-2 div.sk-parallel-item:last-child::after {align-self: flex-start;width: 50%;}#sk-container-id-2 div.sk-parallel-item:only-child::after {width: 0;}#sk-container-id-2 div.sk-dashed-wrapped {border: 1px dashed gray;margin: 0 0.4em 0.5em 0.4em;box-sizing: border-box;padding-bottom: 0.4em;background-color: white;}#sk-container-id-2 div.sk-label label {font-family: monospace;font-weight: bold;display: inline-block;line-height: 1.2em;}#sk-container-id-2 div.sk-label-container {text-align: center;}#sk-container-id-2 div.sk-container {/* jupyter's `normalize.less` sets `[hidden] { display: none; }` but bootstrap.min.css set `[hidden] { display: none !important; }` so we also need the `!important` here to be able to override the default hidden behavior on the sphinx rendered scikit-learn.org. See: https://github.com/scikit-learn/scikit-learn/issues/21755 */display: inline-block !important;position: relative;}#sk-container-id-2 div.sk-text-repr-fallback {display: none;}</style><div id=\"sk-container-id-2\" class=\"sk-top-container\"><div class=\"sk-text-repr-fallback\"><pre>Pipeline(steps=[(&#x27;D_tree&#x27;, DecisionTreeRegressor())])</pre><b>In a Jupyter environment, please rerun this cell to show the HTML representation or trust the notebook. <br />On GitHub, the HTML representation is unable to render, please try loading this page with nbviewer.org.</b></div><div class=\"sk-container\" hidden><div class=\"sk-item sk-dashed-wrapped\"><div class=\"sk-label-container\"><div class=\"sk-label sk-toggleable\"><input class=\"sk-toggleable__control sk-hidden--visually\" id=\"sk-estimator-id-4\" type=\"checkbox\" ><label for=\"sk-estimator-id-4\" class=\"sk-toggleable__label sk-toggleable__label-arrow\">Pipeline</label><div class=\"sk-toggleable__content\"><pre>Pipeline(steps=[(&#x27;D_tree&#x27;, DecisionTreeRegressor())])</pre></div></div></div><div class=\"sk-serial\"><div class=\"sk-item\"><div class=\"sk-estimator sk-toggleable\"><input class=\"sk-toggleable__control sk-hidden--visually\" id=\"sk-estimator-id-5\" type=\"checkbox\" ><label for=\"sk-estimator-id-5\" class=\"sk-toggleable__label sk-toggleable__label-arrow\">DecisionTreeRegressor</label><div class=\"sk-toggleable__content\"><pre>DecisionTreeRegressor()</pre></div></div></div></div></div></div></div>"
      ],
      "text/plain": [
       "Pipeline(steps=[('D_tree', DecisionTreeRegressor())])"
      ]
     },
     "execution_count": 32,
     "metadata": {},
     "output_type": "execute_result"
    }
   ],
   "source": [
    "# let's find features for some decent defaults\n",
    "estimator = DecisionTreeRegressor()\n",
    "dtree_training_pipe_init = Pipeline([\n",
    "    ('D_tree', DecisionTreeRegressor())\n",
    "])\n",
    "dtree_training_pipe_init.fit(housing_prepared, train_y)"
   ]
  },
  {
   "cell_type": "code",
   "execution_count": 33,
   "metadata": {},
   "outputs": [
    {
     "data": {
      "text/plain": [
       "<Axes: >"
      ]
     },
     "execution_count": 33,
     "metadata": {},
     "output_type": "execute_result"
    },
    {
     "data": {
      "image/png": "[encoded data removed]",
      "text/plain": [
       "<Figure size 640x480 with 1 Axes>"
      ]
     },
     "metadata": {},
     "output_type": "display_data"
    }
   ],
   "source": [
    "# Understanding the Feature Importance\n",
    "%matplotlib inline\n",
    "imp = pd.DataFrame({'importance': dtree_training_pipe_init['D_tree'].feature_importances_})\n",
    "imp.index = housing_prepared.columns\n",
    "imp.sort_values('importance',inplace=True)\n",
    "imp.plot(kind='barh')"
   ]
  },
  {
   "cell_type": "markdown",
   "metadata": {},
   "source": [
    "##imp_features_dtree = list(set(list(housing_prepared.columns)) - set(['ocean_proximity_NEAR OCEAN','ocean_proximity_L1H OCEAN',\n",
    "                                          'income_cat','ocean_proximity_NEAR BAY', 'ocean_proximity_ISLAND'])) # not used currently"
   ]
  },
  {
   "cell_type": "code",
   "execution_count": 34,
   "metadata": {},
   "outputs": [],
   "source": [
    "dtree_ppln = Pipeline([\n",
    "    ('', FunctionTransformer(_custom_data_transform, kw_args={'cols2keep':reg_vars})),\n",
    "    ('DecisionTree Regression', DecisionTreeRegressor())\n",
    "])\n",
    "test_X = load_dataset(context, 'test/housing/features')\n",
    "\n",
    "dt_test_X = dp.data_prep(test_X)\n",
    "\n",
    "##dt_test_X = dt_test_X.rename_column(\"ocean_proximity_<1H OCEAN\",\"ocean_proximity_L1H OCEAN\")\n",
    "\n"
   ]
  },
  {
   "cell_type": "code",
   "execution_count": 35,
   "metadata": {},
   "outputs": [
    {
     "data": {
      "text/html": [
       "<div>\n",
       "<style scoped>\n",
       "    .dataframe tbody tr th:only-of-type {\n",
       "        vertical-align: middle;\n",
       "    }\n",
       "\n",
       "    .dataframe tbody tr th {\n",
       "        vertical-align: top;\n",
       "    }\n",
       "\n",
       "    .dataframe thead th {\n",
       "        text-align: right;\n",
       "    }\n",
       "</style>\n",
       "<table border=\"1\" class=\"dataframe\">\n",
       "  <thead>\n",
       "    <tr style=\"text-align: right;\">\n",
       "      <th></th>\n",
       "      <th>longitude</th>\n",
       "      <th>latitude</th>\n",
       "      <th>housing_median_age</th>\n",
       "      <th>total_rooms</th>\n",
       "      <th>total_bedrooms</th>\n",
       "      <th>population</th>\n",
       "      <th>households</th>\n",
       "      <th>median_income</th>\n",
       "      <th>income_cat</th>\n",
       "      <th>rooms_per_household</th>\n",
       "      <th>bedrooms_per_room</th>\n",
       "      <th>population_per_household</th>\n",
       "      <th>ocean_proximity_&lt;1H OCEAN</th>\n",
       "      <th>ocean_proximity_INLAND</th>\n",
       "      <th>ocean_proximity_ISLAND</th>\n",
       "      <th>ocean_proximity_NEAR BAY</th>\n",
       "      <th>ocean_proximity_NEAR OCEAN</th>\n",
       "    </tr>\n",
       "  </thead>\n",
       "  <tbody>\n",
       "    <tr>\n",
       "      <th>0</th>\n",
       "      <td>0.575070</td>\n",
       "      <td>-0.696573</td>\n",
       "      <td>0.032956</td>\n",
       "      <td>1.602218</td>\n",
       "      <td>1.025754</td>\n",
       "      <td>0.614330</td>\n",
       "      <td>1.104803</td>\n",
       "      <td>2.358455</td>\n",
       "      <td>1.890326</td>\n",
       "      <td>0.731012</td>\n",
       "      <td>-0.436991</td>\n",
       "      <td>-0.884249</td>\n",
       "      <td>1.0</td>\n",
       "      <td>0.0</td>\n",
       "      <td>0.0</td>\n",
       "      <td>0.0</td>\n",
       "      <td>0.0</td>\n",
       "    </tr>\n",
       "    <tr>\n",
       "      <th>1</th>\n",
       "      <td>-0.434801</td>\n",
       "      <td>-0.334668</td>\n",
       "      <td>-0.362981</td>\n",
       "      <td>-0.285055</td>\n",
       "      <td>-0.534263</td>\n",
       "      <td>-0.495927</td>\n",
       "      <td>-0.556024</td>\n",
       "      <td>0.617359</td>\n",
       "      <td>0.942177</td>\n",
       "      <td>0.962667</td>\n",
       "      <td>0.033956</td>\n",
       "      <td>-0.961419</td>\n",
       "      <td>1.0</td>\n",
       "      <td>0.0</td>\n",
       "      <td>0.0</td>\n",
       "      <td>0.0</td>\n",
       "      <td>0.0</td>\n",
       "    </tr>\n",
       "    <tr>\n",
       "      <th>2</th>\n",
       "      <td>0.545222</td>\n",
       "      <td>-0.635472</td>\n",
       "      <td>0.587268</td>\n",
       "      <td>-0.526772</td>\n",
       "      <td>-0.616136</td>\n",
       "      <td>-0.535191</td>\n",
       "      <td>-0.575650</td>\n",
       "      <td>0.284222</td>\n",
       "      <td>-0.005972</td>\n",
       "      <td>-0.054727</td>\n",
       "      <td>-0.018440</td>\n",
       "      <td>-0.438265</td>\n",
       "      <td>1.0</td>\n",
       "      <td>0.0</td>\n",
       "      <td>0.0</td>\n",
       "      <td>0.0</td>\n",
       "      <td>0.0</td>\n",
       "    </tr>\n",
       "    <tr>\n",
       "      <th>3</th>\n",
       "      <td>0.719338</td>\n",
       "      <td>-0.795274</td>\n",
       "      <td>0.508081</td>\n",
       "      <td>-0.441510</td>\n",
       "      <td>-0.494433</td>\n",
       "      <td>-0.314643</td>\n",
       "      <td>-0.511866</td>\n",
       "      <td>-0.308135</td>\n",
       "      <td>-0.005972</td>\n",
       "      <td>0.059435</td>\n",
       "      <td>0.374929</td>\n",
       "      <td>-0.271470</td>\n",
       "      <td>1.0</td>\n",
       "      <td>0.0</td>\n",
       "      <td>0.0</td>\n",
       "      <td>0.0</td>\n",
       "      <td>0.0</td>\n",
       "    </tr>\n",
       "    <tr>\n",
       "      <th>4</th>\n",
       "      <td>1.231735</td>\n",
       "      <td>-1.331081</td>\n",
       "      <td>0.745643</td>\n",
       "      <td>0.464824</td>\n",
       "      <td>0.145064</td>\n",
       "      <td>0.038734</td>\n",
       "      <td>0.255990</td>\n",
       "      <td>0.267724</td>\n",
       "      <td>-0.005972</td>\n",
       "      <td>0.423243</td>\n",
       "      <td>-0.336103</td>\n",
       "      <td>-0.799156</td>\n",
       "      <td>0.0</td>\n",
       "      <td>0.0</td>\n",
       "      <td>0.0</td>\n",
       "      <td>0.0</td>\n",
       "      <td>1.0</td>\n",
       "    </tr>\n",
       "    <tr>\n",
       "      <th>...</th>\n",
       "      <td>...</td>\n",
       "      <td>...</td>\n",
       "      <td>...</td>\n",
       "      <td>...</td>\n",
       "      <td>...</td>\n",
       "      <td>...</td>\n",
       "      <td>...</td>\n",
       "      <td>...</td>\n",
       "      <td>...</td>\n",
       "      <td>...</td>\n",
       "      <td>...</td>\n",
       "      <td>...</td>\n",
       "      <td>...</td>\n",
       "      <td>...</td>\n",
       "      <td>...</td>\n",
       "      <td>...</td>\n",
       "      <td>...</td>\n",
       "    </tr>\n",
       "    <tr>\n",
       "      <th>4123</th>\n",
       "      <td>1.122291</td>\n",
       "      <td>-0.884575</td>\n",
       "      <td>-0.758918</td>\n",
       "      <td>-0.187856</td>\n",
       "      <td>-0.268728</td>\n",
       "      <td>-0.201863</td>\n",
       "      <td>-0.347501</td>\n",
       "      <td>-0.549633</td>\n",
       "      <td>-0.954121</td>\n",
       "      <td>0.397987</td>\n",
       "      <td>0.197222</td>\n",
       "      <td>-0.374511</td>\n",
       "      <td>1.0</td>\n",
       "      <td>0.0</td>\n",
       "      <td>0.0</td>\n",
       "      <td>0.0</td>\n",
       "      <td>0.0</td>\n",
       "    </tr>\n",
       "    <tr>\n",
       "      <th>4124</th>\n",
       "      <td>0.649691</td>\n",
       "      <td>-0.757673</td>\n",
       "      <td>0.349706</td>\n",
       "      <td>-0.768916</td>\n",
       "      <td>-0.563029</td>\n",
       "      <td>-0.149232</td>\n",
       "      <td>-0.558477</td>\n",
       "      <td>-0.898470</td>\n",
       "      <td>-0.954121</td>\n",
       "      <td>-1.231885</td>\n",
       "      <td>0.969503</td>\n",
       "      <td>1.824580</td>\n",
       "      <td>1.0</td>\n",
       "      <td>0.0</td>\n",
       "      <td>0.0</td>\n",
       "      <td>0.0</td>\n",
       "      <td>0.0</td>\n",
       "    </tr>\n",
       "    <tr>\n",
       "      <th>4125</th>\n",
       "      <td>-0.086570</td>\n",
       "      <td>-0.546171</td>\n",
       "      <td>1.141580</td>\n",
       "      <td>-0.386942</td>\n",
       "      <td>-0.456815</td>\n",
       "      <td>-0.656325</td>\n",
       "      <td>-0.372033</td>\n",
       "      <td>0.452440</td>\n",
       "      <td>0.942177</td>\n",
       "      <td>-0.224154</td>\n",
       "      <td>-0.703986</td>\n",
       "      <td>-0.342352</td>\n",
       "      <td>1.0</td>\n",
       "      <td>0.0</td>\n",
       "      <td>0.0</td>\n",
       "      <td>0.0</td>\n",
       "      <td>0.0</td>\n",
       "    </tr>\n",
       "    <tr>\n",
       "      <th>4126</th>\n",
       "      <td>0.813858</td>\n",
       "      <td>-0.926876</td>\n",
       "      <td>0.112144</td>\n",
       "      <td>-0.263313</td>\n",
       "      <td>-0.301920</td>\n",
       "      <td>-0.307125</td>\n",
       "      <td>-0.239559</td>\n",
       "      <td>0.565526</td>\n",
       "      <td>0.942177</td>\n",
       "      <td>-0.195710</td>\n",
       "      <td>-0.216863</td>\n",
       "      <td>-0.235521</td>\n",
       "      <td>1.0</td>\n",
       "      <td>0.0</td>\n",
       "      <td>0.0</td>\n",
       "      <td>0.0</td>\n",
       "      <td>0.0</td>\n",
       "    </tr>\n",
       "    <tr>\n",
       "      <th>4127</th>\n",
       "      <td>0.490500</td>\n",
       "      <td>-0.663672</td>\n",
       "      <td>0.587268</td>\n",
       "      <td>-0.037795</td>\n",
       "      <td>-0.237749</td>\n",
       "      <td>-0.169282</td>\n",
       "      <td>-0.205214</td>\n",
       "      <td>0.139046</td>\n",
       "      <td>-0.005972</td>\n",
       "      <td>0.395019</td>\n",
       "      <td>-0.026833</td>\n",
       "      <td>-0.688804</td>\n",
       "      <td>1.0</td>\n",
       "      <td>0.0</td>\n",
       "      <td>0.0</td>\n",
       "      <td>0.0</td>\n",
       "      <td>0.0</td>\n",
       "    </tr>\n",
       "  </tbody>\n",
       "</table>\n",
       "<p>4128 rows × 17 columns</p>\n",
       "</div>"
      ],
      "text/plain": [
       "      longitude  latitude  housing_median_age  total_rooms  total_bedrooms  \\\n",
       "0      0.575070 -0.696573            0.032956     1.602218        1.025754   \n",
       "1     -0.434801 -0.334668           -0.362981    -0.285055       -0.534263   \n",
       "2      0.545222 -0.635472            0.587268    -0.526772       -0.616136   \n",
       "3      0.719338 -0.795274            0.508081    -0.441510       -0.494433   \n",
       "4      1.231735 -1.331081            0.745643     0.464824        0.145064   \n",
       "...         ...       ...                 ...          ...             ...   \n",
       "4123   1.122291 -0.884575           -0.758918    -0.187856       -0.268728   \n",
       "4124   0.649691 -0.757673            0.349706    -0.768916       -0.563029   \n",
       "4125  -0.086570 -0.546171            1.141580    -0.386942       -0.456815   \n",
       "4126   0.813858 -0.926876            0.112144    -0.263313       -0.301920   \n",
       "4127   0.490500 -0.663672            0.587268    -0.037795       -0.237749   \n",
       "\n",
       "      population  households  median_income  income_cat  rooms_per_household  \\\n",
       "0       0.614330    1.104803       2.358455    1.890326             0.731012   \n",
       "1      -0.495927   -0.556024       0.617359    0.942177             0.962667   \n",
       "2      -0.535191   -0.575650       0.284222   -0.005972            -0.054727   \n",
       "3      -0.314643   -0.511866      -0.308135   -0.005972             0.059435   \n",
       "4       0.038734    0.255990       0.267724   -0.005972             0.423243   \n",
       "...          ...         ...            ...         ...                  ...   \n",
       "4123   -0.201863   -0.347501      -0.549633   -0.954121             0.397987   \n",
       "4124   -0.149232   -0.558477      -0.898470   -0.954121            -1.231885   \n",
       "4125   -0.656325   -0.372033       0.452440    0.942177            -0.224154   \n",
       "4126   -0.307125   -0.239559       0.565526    0.942177            -0.195710   \n",
       "4127   -0.169282   -0.205214       0.139046   -0.005972             0.395019   \n",
       "\n",
       "      bedrooms_per_room  population_per_household  ocean_proximity_<1H OCEAN  \\\n",
       "0             -0.436991                 -0.884249                        1.0   \n",
       "1              0.033956                 -0.961419                        1.0   \n",
       "2             -0.018440                 -0.438265                        1.0   \n",
       "3              0.374929                 -0.271470                        1.0   \n",
       "4             -0.336103                 -0.799156                        0.0   \n",
       "...                 ...                       ...                        ...   \n",
       "4123           0.197222                 -0.374511                        1.0   \n",
       "4124           0.969503                  1.824580                        1.0   \n",
       "4125          -0.703986                 -0.342352                        1.0   \n",
       "4126          -0.216863                 -0.235521                        1.0   \n",
       "4127          -0.026833                 -0.688804                        1.0   \n",
       "\n",
       "      ocean_proximity_INLAND  ocean_proximity_ISLAND  \\\n",
       "0                        0.0                     0.0   \n",
       "1                        0.0                     0.0   \n",
       "2                        0.0                     0.0   \n",
       "3                        0.0                     0.0   \n",
       "4                        0.0                     0.0   \n",
       "...                      ...                     ...   \n",
       "4123                     0.0                     0.0   \n",
       "4124                     0.0                     0.0   \n",
       "4125                     0.0                     0.0   \n",
       "4126                     0.0                     0.0   \n",
       "4127                     0.0                     0.0   \n",
       "\n",
       "      ocean_proximity_NEAR BAY  ocean_proximity_NEAR OCEAN  \n",
       "0                          0.0                         0.0  \n",
       "1                          0.0                         0.0  \n",
       "2                          0.0                         0.0  \n",
       "3                          0.0                         0.0  \n",
       "4                          0.0                         1.0  \n",
       "...                        ...                         ...  \n",
       "4123                       0.0                         0.0  \n",
       "4124                       0.0                         0.0  \n",
       "4125                       0.0                         0.0  \n",
       "4126                       0.0                         0.0  \n",
       "4127                       0.0                         0.0  \n",
       "\n",
       "[4128 rows x 17 columns]"
      ]
     },
     "execution_count": 35,
     "metadata": {},
     "output_type": "execute_result"
    }
   ],
   "source": [
    "dt_test_X"
   ]
  },
  {
   "cell_type": "code",
   "execution_count": 36,
   "metadata": {},
   "outputs": [
    {
     "name": "stderr",
     "output_type": "stream",
     "text": [
      "In a future version of pandas all arguments of DataFrame.drop except for the argument 'labels' will be keyword-only.\n",
      "In a future version of pandas all arguments of DataFrame.drop except for the argument 'labels' will be keyword-only.\n",
      "this method is deprecated in favour of `Styler.to_html()`\n"
     ]
    }
   ],
   "source": [
    "desc_tree_report = RegressionReport(model=dtree_ppln, x_train=housing_prepared, y_train=train_y, x_test= dt_test_X, y_test= test_y,refit=True)\n",
    "reg_linear_report.get_report(include_shap=False, file_path='./reports/model_experimenting/regression_DecisionTree_model_report')"
   ]
  },
  {
   "cell_type": "markdown",
   "metadata": {},
   "source": [
    "**Dev Notes**\n",
    "Use SHAP for variable interpretability.\n",
    "<details>\n",
    "\n",
    "    1. Use SHAP=True to generate variable interpretability plots in the report\n",
    "    2. SHAP is recommended for non parameteric models such as RF, xgboost.\n",
    "    3. However, SHAP reports are time consuming depending on no.of records and model complexity.\n",
    "    \n",
    "A sample of regerssion report with SHAP can be found [here](https://drive.google.com/file/d/18RlQTsT1ze09Cgz-qpb4ha_cvyWbN5F5/view?usp=sharing).\n",
    "</details>"
   ]
  },
  {
   "cell_type": "markdown",
   "metadata": {},
   "source": [
    "### 4.1.6 Residual Analysis\n",
    "- After scoring the model, it is recommended to do a residual analysis to know the distribution of errors\n",
    "- we took a threshold of 30% above which it is marked as over prediction or underprediction\n",
    "- This will not be part of the production code."
   ]
  },
  {
   "cell_type": "code",
   "execution_count": 37,
   "metadata": {},
   "outputs": [
    {
     "data": {
      "text/html": [
       "<div>\n",
       "<style scoped>\n",
       "    .dataframe tbody tr th:only-of-type {\n",
       "        vertical-align: middle;\n",
       "    }\n",
       "\n",
       "    .dataframe tbody tr th {\n",
       "        vertical-align: top;\n",
       "    }\n",
       "\n",
       "    .dataframe thead th {\n",
       "        text-align: right;\n",
       "    }\n",
       "</style>\n",
       "<table border=\"1\" class=\"dataframe\">\n",
       "  <thead>\n",
       "    <tr style=\"text-align: right;\">\n",
       "      <th></th>\n",
       "      <th>longitude</th>\n",
       "      <th>latitude</th>\n",
       "      <th>housing_median_age</th>\n",
       "      <th>total_rooms</th>\n",
       "      <th>total_bedrooms</th>\n",
       "      <th>population</th>\n",
       "      <th>households</th>\n",
       "      <th>median_income</th>\n",
       "      <th>ocean_proximity</th>\n",
       "      <th>income_cat</th>\n",
       "    </tr>\n",
       "  </thead>\n",
       "  <tbody>\n",
       "    <tr>\n",
       "      <th>0</th>\n",
       "      <td>-118.39</td>\n",
       "      <td>34.12</td>\n",
       "      <td>29.0</td>\n",
       "      <td>6447.0</td>\n",
       "      <td>1012.0</td>\n",
       "      <td>2184.0</td>\n",
       "      <td>960.0</td>\n",
       "      <td>8.2816</td>\n",
       "      <td>&lt;1H OCEAN</td>\n",
       "      <td>5</td>\n",
       "    </tr>\n",
       "    <tr>\n",
       "      <th>1</th>\n",
       "      <td>-120.42</td>\n",
       "      <td>34.89</td>\n",
       "      <td>24.0</td>\n",
       "      <td>2020.0</td>\n",
       "      <td>307.0</td>\n",
       "      <td>855.0</td>\n",
       "      <td>283.0</td>\n",
       "      <td>5.0099</td>\n",
       "      <td>&lt;1H OCEAN</td>\n",
       "      <td>4</td>\n",
       "    </tr>\n",
       "    <tr>\n",
       "      <th>2</th>\n",
       "      <td>-118.45</td>\n",
       "      <td>34.25</td>\n",
       "      <td>36.0</td>\n",
       "      <td>1453.0</td>\n",
       "      <td>270.0</td>\n",
       "      <td>808.0</td>\n",
       "      <td>275.0</td>\n",
       "      <td>4.3839</td>\n",
       "      <td>&lt;1H OCEAN</td>\n",
       "      <td>3</td>\n",
       "    </tr>\n",
       "    <tr>\n",
       "      <th>3</th>\n",
       "      <td>-118.10</td>\n",
       "      <td>33.91</td>\n",
       "      <td>35.0</td>\n",
       "      <td>1653.0</td>\n",
       "      <td>325.0</td>\n",
       "      <td>1072.0</td>\n",
       "      <td>301.0</td>\n",
       "      <td>3.2708</td>\n",
       "      <td>&lt;1H OCEAN</td>\n",
       "      <td>3</td>\n",
       "    </tr>\n",
       "    <tr>\n",
       "      <th>4</th>\n",
       "      <td>-117.07</td>\n",
       "      <td>32.77</td>\n",
       "      <td>38.0</td>\n",
       "      <td>3779.0</td>\n",
       "      <td>614.0</td>\n",
       "      <td>1495.0</td>\n",
       "      <td>614.0</td>\n",
       "      <td>4.3529</td>\n",
       "      <td>NEAR OCEAN</td>\n",
       "      <td>3</td>\n",
       "    </tr>\n",
       "    <tr>\n",
       "      <th>...</th>\n",
       "      <td>...</td>\n",
       "      <td>...</td>\n",
       "      <td>...</td>\n",
       "      <td>...</td>\n",
       "      <td>...</td>\n",
       "      <td>...</td>\n",
       "      <td>...</td>\n",
       "      <td>...</td>\n",
       "      <td>...</td>\n",
       "      <td>...</td>\n",
       "    </tr>\n",
       "    <tr>\n",
       "      <th>4123</th>\n",
       "      <td>-117.29</td>\n",
       "      <td>33.72</td>\n",
       "      <td>19.0</td>\n",
       "      <td>2248.0</td>\n",
       "      <td>427.0</td>\n",
       "      <td>1207.0</td>\n",
       "      <td>368.0</td>\n",
       "      <td>2.8170</td>\n",
       "      <td>&lt;1H OCEAN</td>\n",
       "      <td>2</td>\n",
       "    </tr>\n",
       "    <tr>\n",
       "      <th>4124</th>\n",
       "      <td>-118.24</td>\n",
       "      <td>33.99</td>\n",
       "      <td>33.0</td>\n",
       "      <td>885.0</td>\n",
       "      <td>294.0</td>\n",
       "      <td>1270.0</td>\n",
       "      <td>282.0</td>\n",
       "      <td>2.1615</td>\n",
       "      <td>&lt;1H OCEAN</td>\n",
       "      <td>2</td>\n",
       "    </tr>\n",
       "    <tr>\n",
       "      <th>4125</th>\n",
       "      <td>-119.72</td>\n",
       "      <td>34.44</td>\n",
       "      <td>43.0</td>\n",
       "      <td>1781.0</td>\n",
       "      <td>342.0</td>\n",
       "      <td>663.0</td>\n",
       "      <td>358.0</td>\n",
       "      <td>4.7000</td>\n",
       "      <td>&lt;1H OCEAN</td>\n",
       "      <td>4</td>\n",
       "    </tr>\n",
       "    <tr>\n",
       "      <th>4126</th>\n",
       "      <td>-117.91</td>\n",
       "      <td>33.63</td>\n",
       "      <td>30.0</td>\n",
       "      <td>2071.0</td>\n",
       "      <td>412.0</td>\n",
       "      <td>1081.0</td>\n",
       "      <td>412.0</td>\n",
       "      <td>4.9125</td>\n",
       "      <td>&lt;1H OCEAN</td>\n",
       "      <td>4</td>\n",
       "    </tr>\n",
       "    <tr>\n",
       "      <th>4127</th>\n",
       "      <td>-118.56</td>\n",
       "      <td>34.19</td>\n",
       "      <td>36.0</td>\n",
       "      <td>2600.0</td>\n",
       "      <td>441.0</td>\n",
       "      <td>1246.0</td>\n",
       "      <td>426.0</td>\n",
       "      <td>4.1111</td>\n",
       "      <td>&lt;1H OCEAN</td>\n",
       "      <td>3</td>\n",
       "    </tr>\n",
       "  </tbody>\n",
       "</table>\n",
       "<p>4128 rows × 10 columns</p>\n",
       "</div>"
      ],
      "text/plain": [
       "      longitude  latitude  housing_median_age  total_rooms  total_bedrooms  \\\n",
       "0       -118.39     34.12                29.0       6447.0          1012.0   \n",
       "1       -120.42     34.89                24.0       2020.0           307.0   \n",
       "2       -118.45     34.25                36.0       1453.0           270.0   \n",
       "3       -118.10     33.91                35.0       1653.0           325.0   \n",
       "4       -117.07     32.77                38.0       3779.0           614.0   \n",
       "...         ...       ...                 ...          ...             ...   \n",
       "4123    -117.29     33.72                19.0       2248.0           427.0   \n",
       "4124    -118.24     33.99                33.0        885.0           294.0   \n",
       "4125    -119.72     34.44                43.0       1781.0           342.0   \n",
       "4126    -117.91     33.63                30.0       2071.0           412.0   \n",
       "4127    -118.56     34.19                36.0       2600.0           441.0   \n",
       "\n",
       "      population  households  median_income ocean_proximity  income_cat  \n",
       "0         2184.0       960.0         8.2816       <1H OCEAN           5  \n",
       "1          855.0       283.0         5.0099       <1H OCEAN           4  \n",
       "2          808.0       275.0         4.3839       <1H OCEAN           3  \n",
       "3         1072.0       301.0         3.2708       <1H OCEAN           3  \n",
       "4         1495.0       614.0         4.3529      NEAR OCEAN           3  \n",
       "...          ...         ...            ...             ...         ...  \n",
       "4123      1207.0       368.0         2.8170       <1H OCEAN           2  \n",
       "4124      1270.0       282.0         2.1615       <1H OCEAN           2  \n",
       "4125       663.0       358.0         4.7000       <1H OCEAN           4  \n",
       "4126      1081.0       412.0         4.9125       <1H OCEAN           4  \n",
       "4127      1246.0       426.0         4.1111       <1H OCEAN           3  \n",
       "\n",
       "[4128 rows x 10 columns]"
      ]
     },
     "execution_count": 37,
     "metadata": {},
     "output_type": "execute_result"
    }
   ],
   "source": [
    "test_X"
   ]
  },
  {
   "cell_type": "code",
   "execution_count": 38,
   "metadata": {},
   "outputs": [],
   "source": [
    "threshold=0.3\n",
    "residual_analysis = dt_test_X.copy()\n",
    "residual_analysis['prediction'] = dtree_ppln.predict(dt_test_X)\n",
    "residual_analysis['actuals'] = test_y.reset_index(drop = True).iloc[:,0].values\n",
    "residual_analysis['forecast_flag'] = 'good'\n",
    "residual_analysis.loc[((residual_analysis['prediction'] > (1+threshold) * residual_analysis['actuals'])\\\n",
    "                       & (residual_analysis['actuals']>100)),'forecast_flag'] = 'over predict'\n",
    "residual_analysis.loc[((residual_analysis['prediction'] < (1-threshold) * residual_analysis['actuals'])\\\n",
    "                       & (residual_analysis['actuals']>100)),'forecast_flag'] = 'under predict'"
   ]
  },
  {
   "cell_type": "code",
   "execution_count": 39,
   "metadata": {},
   "outputs": [
    {
     "data": {},
     "metadata": {},
     "output_type": "display_data"
    },
    {
     "data": {
      "application/vnd.holoviews_exec.v0+json": "",
      "text/html": [
       "<div id='74901'>\n",
       "  <div class=\"bk-root\" id=\"1c4d96bf-ff95-4a16-a9aa-bbfe59d189ec\" data-root-id=\"74901\"></div>\n",
       "</div>\n",
       "<script type=\"application/javascript\">(function(root) {\n",
       "  function embed_document(root) {\n",
       "    var docs_json = {\"0173a09f-2210-4386-97e7-cdc1c5734f8c\":{\"defs\":[{\"extends\":null,\"module\":null,\"name\":\"ReactiveHTML1\",\"overrides\":[],\"properties\":[]},{\"extends\":null,\"module\":null,\"name\":\"FlexBox1\",\"overrides\":[],\"properties\":[{\"default\":\"flex-start\",\"kind\":null,\"name\":\"align_content\"},{\"default\":\"flex-start\",\"kind\":null,\"name\":\"align_items\"},{\"default\":\"row\",\"kind\":null,\"name\":\"flex_direction\"},{\"default\":\"wrap\",\"kind\":null,\"name\":\"flex_wrap\"},{\"default\":\"flex-start\",\"kind\":null,\"name\":\"justify_content\"}]},{\"extends\":null,\"module\":null,\"name\":\"GridStack1\",\"overrides\":[],\"properties\":[{\"default\":\"warn\",\"kind\":null,\"name\":\"mode\"},{\"default\":null,\"kind\":null,\"name\":\"ncols\"},{\"default\":null,\"kind\":null,\"name\":\"nrows\"},{\"default\":true,\"kind\":null,\"name\":\"allow_resize\"},{\"default\":true,\"kind\":null,\"name\":\"allow_drag\"},{\"default\":[],\"kind\":null,\"name\":\"state\"}]},{\"extends\":null,\"module\":null,\"name\":\"click1\",\"overrides\":[],\"properties\":[{\"default\":\"\",\"kind\":null,\"name\":\"terminal_output\"},{\"default\":\"\",\"kind\":null,\"name\":\"debug_name\"},{\"default\":0,\"kind\":null,\"name\":\"clears\"}]},{\"extends\":null,\"module\":null,\"name\":\"NotificationAreaBase1\",\"overrides\":[],\"properties\":[{\"default\":\"bottom-right\",\"kind\":null,\"name\":\"position\"},{\"default\":0,\"kind\":null,\"name\":\"_clear\"}]},{\"extends\":null,\"module\":null,\"name\":\"NotificationArea1\",\"overrides\":[],\"properties\":[{\"default\":[],\"kind\":null,\"name\":\"notifications\"},{\"default\":\"bottom-right\",\"kind\":null,\"name\":\"position\"},{\"default\":0,\"kind\":null,\"name\":\"_clear\"},{\"default\":[{\"background\":\"#ffc107\",\"icon\":{\"className\":\"fas fa-exclamation-triangle\",\"color\":\"white\",\"tagName\":\"i\"},\"type\":\"warning\"},{\"background\":\"#007bff\",\"icon\":{\"className\":\"fas fa-info-circle\",\"color\":\"white\",\"tagName\":\"i\"},\"type\":\"info\"}],\"kind\":null,\"name\":\"types\"}]},{\"extends\":null,\"module\":null,\"name\":\"Notification\",\"overrides\":[],\"properties\":[{\"default\":null,\"kind\":null,\"name\":\"background\"},{\"default\":3000,\"kind\":null,\"name\":\"duration\"},{\"default\":null,\"kind\":null,\"name\":\"icon\"},{\"default\":\"\",\"kind\":null,\"name\":\"message\"},{\"default\":null,\"kind\":null,\"name\":\"notification_type\"},{\"default\":false,\"kind\":null,\"name\":\"_destroyed\"}]},{\"extends\":null,\"module\":null,\"name\":\"TemplateActions1\",\"overrides\":[],\"properties\":[{\"default\":0,\"kind\":null,\"name\":\"open_modal\"},{\"default\":0,\"kind\":null,\"name\":\"close_modal\"}]},{\"extends\":null,\"module\":null,\"name\":\"MaterialTemplateActions1\",\"overrides\":[],\"properties\":[{\"default\":0,\"kind\":null,\"name\":\"open_modal\"},{\"default\":0,\"kind\":null,\"name\":\"close_modal\"}]}],\"roots\":{\"references\":[{\"attributes\":{\"callback\":null,\"renderers\":[{\"id\":\"74950\"},{\"id\":\"74971\"},{\"id\":\"74993\"}],\"tags\":[\"hv_created\"],\"tooltips\":[[\"forecast_flag\",\"@{forecast_flag}\"],[\"rooms_per_household\",\"@{rooms_per_household}\"],[\"Density\",\"@{rooms_per_household_density}\"]]},\"id\":\"74905\",\"type\":\"HoverTool\"},{\"attributes\":{\"margin\":[5,5,5,5],\"name\":\"HSpacer189073\",\"sizing_mode\":\"stretch_width\"},\"id\":\"75123\",\"type\":\"Spacer\"},{\"attributes\":{\"fill_alpha\":0.5,\"fill_color\":\"#fc4f30\",\"hatch_alpha\":0.1,\"hatch_color\":\"#fc4f30\",\"line_alpha\":0.7,\"x\":{\"field\":\"x\"},\"y\":{\"field\":\"y\"}},\"id\":\"74969\",\"type\":\"Patch\"},{\"attributes\":{\"coordinates\":null,\"group\":null,\"text\":\"rooms_per_house_hold(density)\",\"text_color\":\"black\",\"text_font_size\":\"12pt\"},\"id\":\"74909\",\"type\":\"Title\"},{\"attributes\":{\"label\":{\"value\":\"over predict\"},\"renderers\":[{\"id\":\"74971\"}]},\"id\":\"74985\",\"type\":\"LegendItem\"},{\"attributes\":{},\"id\":\"75006\",\"type\":\"UnionRenderers\"},{\"attributes\":{},\"id\":\"74966\",\"type\":\"Selection\"},{\"attributes\":{\"fill_alpha\":0.5,\"fill_color\":\"#fc4f30\",\"hatch_alpha\":0.7,\"hatch_color\":\"#fc4f30\",\"line_alpha\":0.7,\"x\":{\"field\":\"x\"},\"y\":{\"field\":\"y\"}},\"id\":\"74986\",\"type\":\"Patch\"},{\"attributes\":{\"source\":{\"id\":\"74965\"}},\"id\":\"74972\",\"type\":\"CDSView\"},{\"attributes\":{\"fill_alpha\":0.2,\"fill_color\":\"#30a2da\",\"hatch_alpha\":0.2,\"hatch_color\":\"#30a2da\",\"line_alpha\":0.2,\"x\":{\"field\":\"x\"},\"y\":{\"field\":\"y\"}},\"id\":\"74949\",\"type\":\"Patch\"},{\"attributes\":{\"end\":0.6554939458107641,\"reset_end\":0.6554939458107641,\"reset_start\":0.0,\"tags\":[[[\"rooms_per_household_density\",\"Density\",null]]]},\"id\":\"74904\",\"type\":\"Range1d\"},{\"attributes\":{\"axis_label\":\"rooms_per_house_hold\",\"coordinates\":null,\"formatter\":{\"id\":\"74939\"},\"group\":null,\"major_label_policy\":{\"id\":\"74940\"},\"ticker\":{\"id\":\"74918\"}},\"id\":\"74917\",\"type\":\"LinearAxis\"},{\"attributes\":{\"fill_alpha\":0.2,\"fill_color\":\"#fc4f30\",\"hatch_alpha\":0.2,\"hatch_color\":\"#fc4f30\",\"line_alpha\":0.2,\"x\":{\"field\":\"x\"},\"y\":{\"field\":\"y\"}},\"id\":\"74970\",\"type\":\"Patch\"},{\"attributes\":{\"coordinates\":null,\"data_source\":{\"id\":\"74965\"},\"glyph\":{\"id\":\"74968\"},\"group\":null,\"hover_glyph\":null,\"muted_glyph\":{\"id\":\"74970\"},\"nonselection_glyph\":{\"id\":\"74969\"},\"selection_glyph\":{\"id\":\"74986\"},\"view\":{\"id\":\"74972\"}},\"id\":\"74971\",\"type\":\"GlyphRenderer\"},{\"attributes\":{},\"id\":\"74918\",\"type\":\"BasicTicker\"},{\"attributes\":{\"axis\":{\"id\":\"74917\"},\"coordinates\":null,\"grid_line_color\":null,\"group\":null,\"ticker\":null},\"id\":\"74920\",\"type\":\"Grid\"},{\"attributes\":{\"data\":{\"x\":{\"__ndarray__\":\"WO+JAI29B8BpEbtO7QwGwHoz7JxNXATAilUd662rAsCbd045DvsAwFgz/w7dlP6/eXdhq50z+7+au8NHXtL3v7z/JeQecfS/3kOIgN8P8b8AENU5QF3rv0CYmXLBmuS/CEG8VoWw278go4qQD1fMvwBCzDlH0YS/0BpRqea8yT/gfB/jcGPaPyw2yzg39OM/6K0GALa26j/UEqFjmrzwP7DOPsfZHfQ/kIrcKhl/9z9wRnqOWOD6P0wCGPKXQf4/Ft/aqmvRAEAGvalcC4ICQPSaeA6rMgRA5HhHwErjBUDUVhZy6pMHQMI05SOKRAlAshK01Sn1CkCg8IKHyaUMQJDOUTlpVg5AQFaQdYQDEEA3xXdO1NsQQC80XycktBFAJqNGAHSMEkAeEi7Zw2QTQBaBFbITPRRADvD8imMVFUAEX+Rjs+0VQPzNyzwDxhZA9DyzFVOeF0Dsq5ruonYYQOQagsfyThlA3IlpoEInGkDS+FB5kv8aQMpnOFLi1xtAwtYfKzKwHEC6RQcEgogdQLK07tzRYB5AqCPWtSE5H0BQyV7HuAggQMyA0rPgdCBASDhGoAjhIEDE77mMME0hQECnLXlYuSFAu16hZYAlIkA3FhVSqJEiQLPNiD7Q/SJAL4X8KvhpI0CrPHAXINYjQCb04wNIQiRAoqtX8G+uJEAeY8vclxolQJoaP8m/hiVAFtKytefyJUCRiSaiD18mQA1Bmo43yyZAifgNe183J0AFsIFnh6MnQIFn9VOvDyhA/B5pQNd7KEB41tws/+coQPSNUBknVClAcEXEBU/AKUDs/DfydiwqQGi0q96emCpA5Gsfy8YEK0BgI5O37nArQNraBqQW3StAVpJ6kD5JLEDSSe58ZrUsQE4BYmmOIS1AyrjVVbaNLUBGcElC3vktQMInvS4GZi5APt8wGy7SLkC6lqQHVj4vQDZOGPR9qi9A2QJG8FILMECW3n/mZkEwQFS6udx6dzBAEpbz0o6tMEDQcS3JouMwQI5NZ7+2GTFATCmhtcpPMUAKBdur3oUxQMjgFKLyuzFAhrxOmAbyMUCGvE6YBvIxQMjgFKLyuzFACgXbq96FMUBMKaG1yk8xQI5NZ7+2GTFA0HEtyaLjMEASlvPSjq0wQFS6udx6dzBAlt5/5mZBMEDZAkbwUgswQDZOGPR9qi9AupakB1Y+L0A+3zAbLtIuQMInvS4GZi5ARnBJQt75LUDKuNVVto0tQE4BYmmOIS1A0knufGa1LEBWknqQPkksQNraBqQW3StAYCOTt+5wK0Dkax/LxgQrQGi0q96emCpA7Pw38nYsKkBwRcQFT8ApQPSNUBknVClAeNbcLP/nKED8HmlA13soQIFn9VOvDyhABbCBZ4ejJ0CJ+A17XzcnQA1Bmo43yyZAkYkmog9fJkAW0rK15/IlQJoaP8m/hiVAHmPL3JcaJUCiq1fwb64kQCb04wNIQiRAqzxwFyDWI0Avhfwq+GkjQLPNiD7Q/SJANxYVUqiRIkC7XqFlgCUiQECnLXlYuSFAxO+5jDBNIUBIOEagCOEgQMyA0rPgdCBAUMlex7gIIECoI9a1ITkfQLK07tzRYB5AukUHBIKIHUDC1h8rMrAcQMpnOFLi1xtA0vhQeZL/GkDciWmgQicaQOQagsfyThlA7Kua7qJ2GED0PLMVU54XQPzNyzwDxhZABF/kY7PtFUAO8PyKYxUVQBaBFbITPRRAHhIu2cNkE0Amo0YAdIwSQC80XycktBFAN8V3TtTbEEBAVpB1hAMQQJDOUTlpVg5AoPCCh8mlDECyErTVKfUKQMI05SOKRAlA1FYWcuqTB0DkeEfASuMFQPSaeA6rMgRABr2pXAuCAkAW39qqa9EAQEwCGPKXQf4/cEZ6jljg+j+QitwqGX/3P7DOPsfZHfQ/1BKhY5q88D/orQYAtrbqPyw2yzg39OM/4Hwf43Bj2j/QGlGp5rzJPwBCzDlH0YS/IKOKkA9XzL8IQbxWhbDbv0CYmXLBmuS/ABDVOUBd67/eQ4iA3w/xv7z/JeQecfS/mrvDR17S9795d2GrnTP7v1gz/w7dlP6/m3dOOQ77AMCKVR3rrasCwHoz7JxNXATAaRG7Tu0MBsBY74kAjb0HwA==\",\"dtype\":\"float64\",\"order\":\"little\",\"shape\":[200]},\"y\":{\"__ndarray__\":\"AAAAAAAAAAAAAAAAAAAAAAAAAAAAAAAAAAAAAAAAAAAAAAAAAAAAAAAAAAAAAAAAAAAAAAAAAAAAAAAAAAAAAAAAAAAAAAAAAAAAAAAAAAAAAAAAAAAAAAAAAAAAAAAAAAAAAAAAAAAAAAAAAAAAAAAAAAAAAAAAAAAAAAAAAAAAAAAAAAAAAAAAAAAAAAAAAAAAAAAAAAAAAAAAAAAAAAAAAAAAAAAAAAAAAAAAAAAAAAAAAAAAAAAAAAAAAAAAAAAAAAAAAAAAAAAAAAAAAAAAAAAAAAAAAAAAAAAAAAAAAAAAAAAAAAAAAAAAAAAAAAAAAAAAAAAAAAAAAAAAAAAAAAAAAAAAAAAAAAAAAAAAAAAAAAAAAAAAAAAAAAAAAAAAAAAAAAAAAAAAAAAAAAAAAAAAAAAAAAAAAAAAAAAAAAAAAAAAAAAAAAAAAAAAAAAAAAAAAAAAAAAAAAAAAAAAAAAAAAAAAAAAAAAAAAAAAAAAAAAAAAAAAAAAAAAAAAAAAAAAAAAAAAAAAAAAAAAAAAAAAAAAAAAAAAAAAAAAAAAAAAAAAAAAAAAAAAAAAAAAAAAAAAAAAAAAAAAAAAAAAAAAAAAAAAAAAAAAAAAAAAAAAAAAAAAAAAAAAAAAAAAAAAAAAAAAAAAAAAAAAAAAAAAAAAAAAAAAAAAAAAAAAAAAAAAAAAAAAAAAAAAAAAAAAAAAAAAAAAAAAAAAAAAAAAAAAAAAAAAAAAAAAAAAAAAAAAAAAAAAAAAAAAAAAAAAAAAAAAAAAAAAAAAAAAAAAAAAAAAAAAAAAAAAAAAAAAAAAAAAAAAAAAAAAAAAAAAAAAAAAAAAAAAAAAAAAAAAAAAAAAAAAAAAAAAAAAAAAAAAAAAAAAAAAAAAAAAAAAAAAAAAAAAAAAAAAAAAAAAAAAAAAAAAAAAAAAAAAAAAAAAAAAAAAAAAAAAAAAAAAAAAAAAAAAAAAAAAAAAAAAAAAAAAAAAAAAAAAAAAAAAAAAAAAAAAAAAAAAAAAAAAAAAAAAAAAAAAAAAAAAAAAAAAAAAAAAAAAAAAAAAAAACOEZh0yt/kPg4lrHZ7BiY/yOxWcU5jSj+BtNUIJfRRPzKirIXhvzs//gskxc+GCD/frI+SWYHvPmmAIGirmiQ/9GjmJYnxQD9Ob0ExgZ9CPw1t5U0YUkI/Nybp3ZqiQT8+yUQGR4EnPyMff5rO2fE+w/jHC+98nj7+jWGDqEAtPowd5WGPiJ898lPFaFIY8zyD3tlFWPspPDh5oT/w20M70eNtv8gNQTp39XlzEXQgOdKje3ue1eE3eut9qIDDojYokry+5lv0N5Qj4EBEdjE5BdF4+qnTUDpf7E/LmTdSOw8qM9Z3KDY8O5uOTaVH/jzS5LYnjD6nPb/MfW4NDDQ+PdElWb9soz6As2AwbyX1PvdsIe7z3Ck/NtwhI+7EQT9hx17dnm47PwzQ7Kguyhc/nmW8g8st1z70rTRXt2V5PnEjXv9UE10+2Rrel1Mtwj7fwjCBIgYKP4QuUVO6TTU/t1qmJIWgRj9TJFC6MeJMP80scp20e1E/tCU9WFZ0RT9Q/ivyXWAjP7oa0wd+ixI/CisDnqD2Nj+F72OfnK5CP8xb/AHsEjQ/l2wbADa/OT9z5bx9kvZQP0LhTaVwGVc/P8oPr82KSj88sIL80DEkP7HbnKLQf+k+RZR/ZROhET+jfq1KVkA4P1B5E7P6ikQ/98BOgOMCRD/SZND/UYpIP7aHn1IA000/li2NqdH8Uj8RrLOOeGRWP1lLVWKC0F0/ZNLk2HbnZT+KLQ472yhwP6siO6WRU3A//fIvmBcCbz8cRjvWDVt4PyylOnKPB4A/Ryl3EBQSgD/whmoDmDmDP38Z/wzRW5E/skh1JwDroD9K4mXhA/+tP9uYFa5d6rc/IwEUtnuHwT8vPoD3ErLJP3WJxshl8dI/5wCuFM1R2j+c7EuNmbXgP68+ZeOp5uI/jVRFZqQR4z/v65HixpbhP4zchdcAO90/Onp+cbTp1D/JtNjSovTIP9khH12L7rg/sKTGX1DLpz/9JLrSDsqWP8gwlEThj4I/rVB5Z6MKbT/ED++Edl5gP7sOKjNypkw/hCplLcLoIz/iQRGTlpThPg==\",\"dtype\":\"float64\",\"order\":\"little\",\"shape\":[200]}},\"selected\":{\"id\":\"74945\"},\"selection_policy\":{\"id\":\"74959\"}},\"id\":\"74944\",\"type\":\"ColumnDataSource\"},{\"attributes\":{},\"id\":\"74922\",\"type\":\"BasicTicker\"},{\"attributes\":{\"axis_label\":\"density\",\"coordinates\":null,\"formatter\":{\"id\":\"74942\"},\"group\":null,\"major_label_policy\":{\"id\":\"74943\"},\"ticker\":{\"id\":\"74922\"}},\"id\":\"74921\",\"type\":\"LinearAxis\"},{\"attributes\":{},\"id\":\"74982\",\"type\":\"UnionRenderers\"},{\"attributes\":{},\"id\":\"74939\",\"type\":\"BasicTickFormatter\"},{\"attributes\":{\"fill_alpha\":0.5,\"fill_color\":\"#e5ae38\",\"hatch_alpha\":0.7,\"hatch_color\":\"#e5ae38\",\"line_alpha\":0.7,\"x\":{\"field\":\"x\"},\"y\":{\"field\":\"y\"}},\"id\":\"75010\",\"type\":\"Patch\"},{\"attributes\":{},\"id\":\"74940\",\"type\":\"AllLabels\"},{\"attributes\":{},\"id\":\"74927\",\"type\":\"WheelZoomTool\"},{\"attributes\":{},\"id\":\"74925\",\"type\":\"SaveTool\"},{\"attributes\":{},\"id\":\"74942\",\"type\":\"BasicTickFormatter\"},{\"attributes\":{\"children\":[{\"id\":\"74902\"},{\"id\":\"74908\"},{\"id\":\"75123\"}],\"margin\":[0,0,0,0],\"name\":\"Row189068\",\"tags\":[\"embedded\"]},\"id\":\"74901\",\"type\":\"Row\"},{\"attributes\":{\"overlay\":{\"id\":\"74930\"}},\"id\":\"74928\",\"type\":\"BoxZoomTool\"},{\"attributes\":{\"label\":{\"value\":\"under predict\"},\"renderers\":[{\"id\":\"74993\"}]},\"id\":\"75009\",\"type\":\"LegendItem\"},{\"attributes\":{\"axis\":{\"id\":\"74921\"},\"coordinates\":null,\"dimension\":1,\"grid_line_color\":null,\"group\":null,\"ticker\":null},\"id\":\"74924\",\"type\":\"Grid\"},{\"attributes\":{\"fill_alpha\":0.5,\"fill_color\":\"#e5ae38\",\"hatch_alpha\":0.1,\"hatch_color\":\"#e5ae38\",\"line_alpha\":0.7,\"x\":{\"field\":\"x\"},\"y\":{\"field\":\"y\"}},\"id\":\"74991\",\"type\":\"Patch\"},{\"attributes\":{},\"id\":\"74929\",\"type\":\"ResetTool\"},{\"attributes\":{\"source\":{\"id\":\"74987\"}},\"id\":\"74994\",\"type\":\"CDSView\"},{\"attributes\":{\"fill_alpha\":0.5,\"fill_color\":\"#e5ae38\",\"hatch_alpha\":0.7,\"hatch_color\":\"#e5ae38\",\"line_alpha\":0.7,\"x\":{\"field\":\"x\"},\"y\":{\"field\":\"y\"}},\"id\":\"74990\",\"type\":\"Patch\"},{\"attributes\":{},\"id\":\"74943\",\"type\":\"AllLabels\"},{\"attributes\":{\"bottom_units\":\"screen\",\"coordinates\":null,\"fill_alpha\":0.5,\"fill_color\":\"lightgrey\",\"group\":null,\"left_units\":\"screen\",\"level\":\"overlay\",\"line_alpha\":1.0,\"line_color\":\"black\",\"line_dash\":[4,4],\"line_width\":2,\"right_units\":\"screen\",\"syncable\":false,\"top_units\":\"screen\"},\"id\":\"74930\",\"type\":\"BoxAnnotation\"},{\"attributes\":{},\"id\":\"74915\",\"type\":\"LinearScale\"},{\"attributes\":{\"fill_alpha\":0.2,\"fill_color\":\"#e5ae38\",\"hatch_alpha\":0.2,\"hatch_color\":\"#e5ae38\",\"line_alpha\":0.2,\"x\":{\"field\":\"x\"},\"y\":{\"field\":\"y\"}},\"id\":\"74992\",\"type\":\"Patch\"},{\"attributes\":{\"margin\":[5,5,5,5],\"name\":\"HSpacer189072\",\"sizing_mode\":\"stretch_width\"},\"id\":\"74902\",\"type\":\"Spacer\"},{\"attributes\":{\"coordinates\":null,\"data_source\":{\"id\":\"74987\"},\"glyph\":{\"id\":\"74990\"},\"group\":null,\"hover_glyph\":null,\"muted_glyph\":{\"id\":\"74992\"},\"nonselection_glyph\":{\"id\":\"74991\"},\"selection_glyph\":{\"id\":\"75010\"},\"view\":{\"id\":\"74994\"}},\"id\":\"74993\",\"type\":\"GlyphRenderer\"},{\"attributes\":{\"tools\":[{\"id\":\"74905\"},{\"id\":\"74925\"},{\"id\":\"74926\"},{\"id\":\"74927\"},{\"id\":\"74928\"},{\"id\":\"74929\"}]},\"id\":\"74931\",\"type\":\"Toolbar\"},{\"attributes\":{\"fill_alpha\":0.5,\"fill_color\":\"#30a2da\",\"hatch_alpha\":0.7,\"hatch_color\":\"#30a2da\",\"line_alpha\":0.7,\"x\":{\"field\":\"x\"},\"y\":{\"field\":\"y\"}},\"id\":\"74947\",\"type\":\"Patch\"},{\"attributes\":{\"data\":{\"x\":{\"__ndarray__\":\"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\",\"dtype\":\"float64\",\"order\":\"little\",\"shape\":[200]},\"y\":{\"__ndarray__\":\"AAAAAAAAAAAAAAAAAAAAAAAAAAAAAAAAAAAAAAAAAAAAAAAAAAAAAAAAAAAAAAAAAAAAAAAAAAAAAAAAAAAAAAAAAAAAAAAAAAAAAAAAAAAAAAAAAAAAAAAAAAAAAAAAAAAAAAAAAAAAAAAAAAAAAAAAAAAAAAAAAAAAAAAAAAAAAAAAAAAAAAAAAAAAAAAAAAAAAAAAAAAAAAAAAAAAAAAAAAAAAAAAAAAAAAAAAAAAAAAAAAAAAAAAAAAAAAAAAAAAAAAAAAAAAAAAAAAAAAAAAAAAAAAAAAAAAAAAAAAAAAAAAAAAAAAAAAAAAAAAAAAAAAAAAAAAAAAAAAAAAAAAAAAAAAAAAAAAAAAAAAAAAAAAAAAAAAAAAAAAAAAAAAAAAAAAAAAAAAAAAAAAAAAAAAAAAAAAAAAAAAAAAAAAAAAAAAAAAAAAAAAAAAAAAAAAAAAAAAAAAAAAAAAAAAAAAAAAAAAAAAAAAAAAAAAAAAAAAAAAAAAAAAAAAAAAAAAAAAAAAAAAAAAAAAAAAAAAAAAAAAAAAAAAAAAAAAAAAAAAAAAAAAAAAAAAAAAAAAAAAAAAAAAAAAAAAAAAAAAAAAAAAAAAAAAAAAAAAAAAAAAAAAAAAAAAAAAAAAAAAAAAAAAAAAAAAAAAAAAAAAAAAAAAAAAAAAAAAAAAAAAAAAAAAAAAAAAAAAAAAAAAAAAAAAAAAAAAAAAAAAAAAAAAAAAAAAAAAAAAAAAAAAAAAAAAAAAAAAAAAAAAAAAAAAAAAAAAAAAAAAAAAAAAAAAAAAAAAAAAAAAAAAAAAAAAAAAAAAAAAAAAAAAAAAAAAAAAAAAAAAAAAAAAAAAAAAAAAAAAAAAAAAAAAAAAAAAAAAAAAAAAAAAAAAAAAAAAAAAAAAAAAAAAAAAAAAAAAAAAAAAAAAAAAAAAAAAAAAAAAAAAAAAAAAAAAAAAAAAAAAAAAAAAAAAAAAAAAAAAAAAAAAAAAAAAAAAAAAAAAAAAAAAAAAAAAAAAAAAAAAAAAAAAAAAAAAAAAAAAAAAAAAAAAAAAAAAAAAAAAAAAAAAOXDTRX4MPPw1XdfYO4Cg/qiYsPcWTQD+Y4cDBQadSP+Bz5xZnuGE/zxZN4JBsbD89Ohl8/D5zP+Q7C1n0AHY/tlbgzAU9dT+YIFCniE5xPxEFU5wV0Gc/GOGJ71ipWz+x5PNaqCBLP2T+/yTXdTY/AwO+YzxmHz/a2X4Nk4cCP/6MeL6eduI+Czf9g1oQvz66NfNd0Q+WPq2dA5DCdGo+Fwa1rMnIOj4bZ9N5quQGPqa81kbLh9A959oU6skmlz3oINYb//ymPYrcCAwcbOE9VIZd1kzvFj4F5ZTYAH5JPtGvA0Hv63c+iVt9Opbzoj5WGMvc4lnJPkkz45JDoew+a3eIIQNMCz9zfTuM7fglP1Efr5EM3T0/JnZq0SYiUT8zrykeAZlgP2W8hPwbJms/6k7b0eS+cj/MLDcFPNt1P6IrpzqQhXU/yloiIADtcT8jM17ygXlpPw9xrQa+I2A/XB2REczqVT8ibTQwTqZWP8oBjfC+KGE/OrY9Gofmaj+YQcYcXq5yP36HsK46UnY/3fsmbFQydz81vHCJZ911P0eUZdoCTHQ/MrsBCN5OdD91ktfk2hd2P7j6ldZbRXg/hEmJZ9V5eT8u89I4mBp6Py4llQTjyXw/BQSZpyTPgj/6tF9FgK2MP5Kj+LudYJc/KyZNrcIUoz8C74U8JzmuP6RyaB2h6bY/wRBXOAGKwD8iOH8py7TGP+B9nA35rM0/UOIowuaC0j/k7hXWPyTWP419yBM2iNk/zg1ZXIGJ3D8YcMIPfgffP5o5UDkyb+A/9dUmuHv24D9NV5PeFhDhP6nDwlMyueA/R3OhiWTe3z/Tk4Alk1vdPwzLlrAJ8Nk/JtNmY2rL1T+v1wcH8FDRP4n3QHOIAso/c7iaiYSZwj+kQBWWSrC5PyDOZaNyaLE/IYlNQjlupz9ZU7AlTJefP9xDjYyAppU/67ebpXj4jj/zUcbUn56HP99NBSTb9II/VETH7bVvfj9kHSmlmgd3P3M5dfZWYm8/tPOAr7W3Yj8LAGUVSjpTPxUxD0zL20A//K1tmeYbKT8fQpbCd60PPw==\",\"dtype\":\"float64\",\"order\":\"little\",\"shape\":[200]}},\"selected\":{\"id\":\"74966\"},\"selection_policy\":{\"id\":\"74982\"}},\"id\":\"74965\",\"type\":\"ColumnDataSource\"},{\"attributes\":{},\"id\":\"74959\",\"type\":\"UnionRenderers\"},{\"attributes\":{\"fill_alpha\":0.5,\"fill_color\":\"#fc4f30\",\"hatch_alpha\":0.7,\"hatch_color\":\"#fc4f30\",\"line_alpha\":0.7,\"x\":{\"field\":\"x\"},\"y\":{\"field\":\"y\"}},\"id\":\"74968\",\"type\":\"Patch\"},{\"attributes\":{},\"id\":\"74945\",\"type\":\"Selection\"},{\"attributes\":{},\"id\":\"74913\",\"type\":\"LinearScale\"},{\"attributes\":{\"coordinates\":null,\"data_source\":{\"id\":\"74944\"},\"glyph\":{\"id\":\"74947\"},\"group\":null,\"hover_glyph\":null,\"muted_glyph\":{\"id\":\"74949\"},\"nonselection_glyph\":{\"id\":\"74948\"},\"selection_glyph\":{\"id\":\"74964\"},\"view\":{\"id\":\"74951\"}},\"id\":\"74950\",\"type\":\"GlyphRenderer\"},{\"attributes\":{\"click_policy\":\"mute\",\"coordinates\":null,\"group\":null,\"items\":[{\"id\":\"74963\"},{\"id\":\"74985\"},{\"id\":\"75009\"}],\"title\":\"forecast_flag\"},\"id\":\"74962\",\"type\":\"Legend\"},{\"attributes\":{\"end\":17.945413130972632,\"reset_end\":17.945413130972632,\"reset_start\":-4.060522571950372,\"start\":-4.060522571950372,\"tags\":[[[\"rooms_per_household\",\"rooms_per_household\",null]]]},\"id\":\"74903\",\"type\":\"Range1d\"},{\"attributes\":{\"fill_alpha\":0.5,\"fill_color\":\"#30a2da\",\"hatch_alpha\":0.7,\"hatch_color\":\"#30a2da\",\"line_alpha\":0.7,\"x\":{\"field\":\"x\"},\"y\":{\"field\":\"y\"}},\"id\":\"74964\",\"type\":\"Patch\"},{\"attributes\":{},\"id\":\"74926\",\"type\":\"PanTool\"},{\"attributes\":{},\"id\":\"74988\",\"type\":\"Selection\"},{\"attributes\":{\"data\":{\"x\":{\"__ndarray__\":\"YMkMofk9EMC36Wau0wEPwK1AtBq0hw3ApJcBh5QNDMCb7k7zdJMKwJJFnF9VGQnAiJzpyzWfB8B/8zY4FiUGwHZKhKT2qgTAbKHRENcwA8Bj+B59t7YBwFpPbOmXPADAoExzq/CE/b+O+g2EsZD6v3yoqFxynPe/aFZDNTOo9L9WBN4N9LPxv4hk8cxpf+2/YMAmfuuW5788HFwvba7hvzDwIsHdi9e/wE8bR8J1x78AYKAHehtWP2DROS8wzsc/ADEytRS41z+gvGOpiMThP8hgLvgGrec/8AT5RoWV7T+I1OHKAb/xP5wmR/JAs/Q/sHisGYCn9z/AyhFBv5v6P9Qcd2j+j/0/dDfuxx5CAEB84KBbPrwBQIaJU+9dNgNAkDIGg32wBECY27gWnSoGQKKEa6q8pAdArC0ePtweCUC01tDR+5gKQL5/g2UbEwxAyCg2+TqNDUDQ0eiMWgcPQGy9TRC9QBBA8hEn2sz9EEB2ZgCk3LoRQPq62W3sdxJAgA+zN/w0E0AEZIwBDPITQIi4ZcsbrxRADg0/lStsFUCSYRhfOykWQBa28ShL5hZAnArL8lqjF0AgX6S8amAYQKSzfYZ6HRlAKghXUIraGUCuXDAampcaQDKxCeSpVBtAuAXjrbkRHEA8Wrx3yc4cQMCulUHZix1ARgNvC+lIHkDKV0jV+AUfQE6sIZ8Iwx9AaoB9NAxAIECsKmoZlJ4gQO7UVv4b/SBAMX9D46NbIUBzKTDIK7ohQLXTHK2zGCJA+H0Jkjt3IkA6KPZ2w9UiQHzS4ltLNCNAv3zPQNOSI0ABJ7wlW/EjQEPRqArjTyRAhnuV72quJEDIJYLU8gwlQArQbrl6ayVATXpbngLKJUCPJEiDiigmQNHONGgShyZAFHkhTZrlJkBWIw4yIkQnQJjN+haqoidA2nfn+zEBKEAcItTguV8oQGDMwMVBvihAonatqskcKUDkIJqPUXspQCbLhnTZ2SlAaHVzWWE4KkCqH2A+6ZYqQO7JTCNx9SpAMHQ5CPlTK0ByHibtgLIrQLTIEtIIESxA9nL/tpBvLED2cv+2kG8sQLTIEtIIESxAch4m7YCyK0AwdDkI+VMrQO7JTCNx9SpAqh9gPumWKkBodXNZYTgqQCbLhnTZ2SlA5CCaj1F7KUCidq2qyRwpQGDMwMVBvihAHCLU4LlfKEDad+f7MQEoQJjN+haqoidAViMOMiJEJ0AUeSFNmuUmQNHONGgShyZAjyRIg4ooJkBNelueAsolQArQbrl6ayVAyCWC1PIMJUCGe5Xvaq4kQEPRqArjTyRAASe8JVvxI0C/fM9A05IjQHzS4ltLNCNAOij2dsPVIkD4fQmSO3ciQLXTHK2zGCJAcykwyCu6IUAxf0Pjo1shQO7UVv4b/SBArCpqGZSeIEBqgH00DEAgQE6sIZ8Iwx9AyldI1fgFH0BGA28L6UgeQMCulUHZix1APFq8d8nOHEC4BeOtuREcQDKxCeSpVBtArlwwGpqXGkAqCFdQitoZQKSzfYZ6HRlAIF+kvGpgGECcCsvyWqMXQBa28ShL5hZAkmEYXzspFkAODT+VK2wVQIi4ZcsbrxRABGSMAQzyE0CAD7M3/DQTQPq62W3sdxJAdmYApNy6EUDyESfazP0QQGy9TRC9QBBA0NHojFoHD0DIKDb5Oo0NQL5/g2UbEwxAtNbQ0fuYCkCsLR4+3B4JQKKEa6q8pAdAmNu4Fp0qBkCQMgaDfbAEQIaJU+9dNgNAfOCgWz68AUB0N+7HHkIAQNQcd2j+j/0/wMoRQb+b+j+weKwZgKf3P5wmR/JAs/Q/iNThygG/8T/wBPlGhZXtP8hgLvgGrec/oLxjqYjE4T8AMTK1FLjXP2DROS8wzsc/AGCgB3obVj/ATxtHwnXHvzDwIsHdi9e/PBxcL22u4b9gwCZ+65bnv4hk8cxpf+2/VgTeDfSz8b9oVkM1M6j0v3yoqFxynPe/jvoNhLGQ+r+gTHOr8IT9v1pPbOmXPADAY/gefbe2AcBsodEQ1zADwHZKhKT2qgTAf/M2OBYlBsCInOnLNZ8HwJJFnF9VGQnAm+5O83STCsCklwGHlA0MwK1AtBq0hw3At+lmrtMBD8BgyQyh+T0QwA==\",\"dtype\":\"float64\",\"order\":\"little\",\"shape\":[200]},\"y\":{\"__ndarray__\":\"AAAAAAAAAAAAAAAAAAAAAAAAAAAAAAAAAAAAAAAAAAAAAAAAAAAAAAAAAAAAAAAAAAAAAAAAAAAAAAAAAAAAAAAAAAAAAAAAAAAAAAAAAAAAAAAAAAAAAAAAAAAAAAAAAAAAAAAAAAAAAAAAAAAAAAAAAAAAAAAAAAAAAAAAAAAAAAAAAAAAAAAAAAAAAAAAAAAAAAAAAAAAAAAAAAAAAAAAAAAAAAAAAAAAAAAAAAAAAAAAAAAAAAAAAAAAAAAAAAAAAAAAAAAAAAAAAAAAAAAAAAAAAAAAAAAAAAAAAAAAAAAAAAAAAAAAAAAAAAAAAAAAAAAAAAAAAAAAAAAAAAAAAAAAAAAAAAAAAAAAAAAAAAAAAAAAAAAAAAAAAAAAAAAAAAAAAAAAAAAAAAAAAAAAAAAAAAAAAAAAAAAAAAAAAAAAAAAAAAAAAAAAAAAAAAAAAAAAAAAAAAAAAAAAAAAAAAAAAAAAAAAAAAAAAAAAAAAAAAAAAAAAAAAAAAAAAAAAAAAAAAAAAAAAAAAAAAAAAAAAAAAAAAAAAAAAAAAAAAAAAAAAAAAAAAAAAAAAAAAAAAAAAAAAAAAAAAAAAAAAAAAAAAAAAAAAAAAAAAAAAAAAAAAAAAAAAAAAAAAAAAAAAAAAAAAAAAAAAAAAAAAAAAAAAAAAAAAAAAAAAAAAAAAAAAAAAAAAAAAAAAAAAAAAAAAAAAAAAAAAAAAAAAAAAAAAAAAAAAAAAAAAAAAAAAAAAAAAAAAAAAAAAAAAAAAAAAAAAAAAAAAAAAAAAAAAAAAAAAAAAAAAAAAAAAAAAAAAAAAAAAAAAAAAAAAAAAAAAAAAAAAAAAAAAAAAAAAAAAAAAAAAAAAAAAAAAAAAAAAAAAAAAAAAAAAAAAAAAAAAAAAAAAAAAAAAAAAAAAAAAAAAAAAAAAAAAAAAAAAAAAAAAAAAAAAAAAAAAAAAAAAAAAAAAAAAAAAAAAAAAAAAAAAAAAAAAAAAAAAAAAAAAAAAAAAAAAAAAAAAAAAAAAAAAAAAAAAAAAAAAAAAAAAAAAAAAAAAAAAAAAAAAAAjeBR2SPwHP+Pzhah3OiA/9s4LupBkMz+ey1iHF3dEPxeF4LN4ElM/4Sb0FmpkXz8QpmGUr9BmP83NrRxKSW0/669vbFyZcD8YK/vj2J1wP+DyJV4PYW0/11UEBZXvZj+nv/I8/p9fP/wdVS4PQVM/msjByUG0RD/Kdbb0JakzPw4U1yPsfCA/plWNC5VvCD+DdInMsSPwPp8px0AekNU+wG63RsFd0T6uyxOkZz/nPoly5Q+4BgI/66xXDqkyGT8+j1IBLykvP5o07jduCEE/b2Due3l5UD82H40CAz5cP+zmAqgThWU/TU7exdZRbT+hzQ/uCQlyP0F4fiVvXHQ/SMYhVkuUdT91FRj+8wJ2PyKMePYx93U/r1vBQOdldT+WzL1WEfZzP+5vfPlSY3E/8AwIxrGvaz9cM50jB9pjP//52duuaVk/NhrBSznlTD8OJN8ecxo9PwONSvJ97Sk/x0AFTXFqFD+C4pmAnGn8ProroFevjOE+uLgUIBHxxD4HvtS+wIe7Pl5pRUXFW9M+I+kvSyAl8T7qVry23I0LPxkeV8cpriM/Q9oJv9L8OD//UJbIIj1MPz0rs7mjdlw/c5j9q1+qaT9sX/mxhcx0P1rTEyWhhX4/c7sEvqGGhD+Xxw03Rs6JP3pcTllNOo8/tJnR8trbkj+F9hgOSniXP0gWtNBCeJ4/pOMs+YBwpD+LyYXnPNOrPzVCL2Ib8bI/hSpc9AyZuT/ZKpjDPxrBP7vd1xXcf8Y/rzXrRQbwzD///MUbDQfSPzM8q6ZXkNU/1/E4UqmY2D/zc8rg5araP6Q+MqRBf9s/vA37WA8O2z8ujbOguYTZP78EDDvhKNc/9Lb2deM/1D9n0Dv1wgfRP4Zk1yWUeMs/6iLkdC80xT+NORCJRF6/P+rtI8z0YLY/3+25G8Unrz+tNVO+DnelP2Urr+RBo50/HhWIqOmclD+/V9QkZsWMP6hT43/o5oM/KZ2M37TPej/Npe6+UT1xP1hoYk4Tw2Q/6rixAz4JVz/no8+WYD9HP8pMm8q3IzU/qvsk0Pc0IT/UL9zEUPYIPw==\",\"dtype\":\"float64\",\"order\":\"little\",\"shape\":[200]}},\"selected\":{\"id\":\"74988\"},\"selection_policy\":{\"id\":\"75006\"}},\"id\":\"74987\",\"type\":\"ColumnDataSource\"},{\"attributes\":{\"label\":{\"value\":\"good\"},\"renderers\":[{\"id\":\"74950\"}]},\"id\":\"74963\",\"type\":\"LegendItem\"},{\"attributes\":{\"source\":{\"id\":\"74944\"}},\"id\":\"74951\",\"type\":\"CDSView\"},{\"attributes\":{\"fill_alpha\":0.5,\"fill_color\":\"#30a2da\",\"hatch_alpha\":0.1,\"hatch_color\":\"#30a2da\",\"line_alpha\":0.7,\"x\":{\"field\":\"x\"},\"y\":{\"field\":\"y\"}},\"id\":\"74948\",\"type\":\"Patch\"},{\"attributes\":{\"below\":[{\"id\":\"74917\"}],\"center\":[{\"id\":\"74920\"},{\"id\":\"74924\"},{\"id\":\"74962\"}],\"height\":400,\"left\":[{\"id\":\"74921\"}],\"margin\":[5,5,5,5],\"min_border_bottom\":10,\"min_border_left\":10,\"min_border_right\":10,\"min_border_top\":10,\"renderers\":[{\"id\":\"74950\"},{\"id\":\"74971\"},{\"id\":\"74993\"}],\"sizing_mode\":\"fixed\",\"title\":{\"id\":\"74909\"},\"toolbar\":{\"id\":\"74931\"},\"width\":800,\"x_range\":{\"id\":\"74903\"},\"x_scale\":{\"id\":\"74913\"},\"y_range\":{\"id\":\"74904\"},\"y_scale\":{\"id\":\"74915\"}},\"id\":\"74908\",\"subtype\":\"Figure\",\"type\":\"Plot\"}],\"root_ids\":[\"74901\"]},\"title\":\"Bokeh Application\",\"version\":\"2.4.3\"}};\n",
       "    var render_items = [{\"docid\":\"0173a09f-2210-4386-97e7-cdc1c5734f8c\",\"root_ids\":[\"74901\"],\"roots\":{\"74901\":\"1c4d96bf-ff95-4a16-a9aa-bbfe59d189ec\"}}];\n",
       "    root.Bokeh.embed.embed_items_notebook(docs_json, render_items);\n",
       "  }\n",
       "  if (root.Bokeh !== undefined && root.Bokeh.Panel !== undefined) {\n",
       "    embed_document(root);\n",
       "  } else {\n",
       "    var attempts = 0;\n",
       "    var timer = setInterval(function(root) {\n",
       "      if (root.Bokeh !== undefined && root.Bokeh.Panel !== undefined) {\n",
       "        clearInterval(timer);\n",
       "        embed_document(root);\n",
       "      } else if (document.readyState == \"complete\") {\n",
       "        attempts++;\n",
       "        if (attempts > 200) {\n",
       "          clearInterval(timer);\n",
       "          console.log(\"Bokeh: ERROR: Unable to run BokehJS code because BokehJS library is missing\");\n",
       "        }\n",
       "      }\n",
       "    }, 25, root)\n",
       "  }\n",
       "})(window);</script>"
      ],
      "text/plain": [
       ":NdOverlay   [forecast_flag]\n",
       "   :Distribution   [rooms_per_household]   (Density)"
      ]
     },
     "execution_count": 39,
     "metadata": {
      "application/vnd.holoviews_exec.v0+json": {
       "id": "74901"
      }
     },
     "output_type": "execute_result"
    }
   ],
   "source": [
    "residual_analysis.hvplot.kde(y=\"rooms_per_household\",by=\"forecast_flag\", ## Grouping by Predictions\n",
    "                                width=800, height=400,\n",
    "                                alpha=0.7,\n",
    "                                ylabel=\"density\",\n",
    "                                xlabel=\"rooms_per_house_hold\",\n",
    "                                title=f'rooms_per_house_hold(density)',legend='top_right')"
   ]
  },
  {
   "cell_type": "markdown",
   "metadata": {},
   "source": [
    "- From the above plot we can infer that the higher \"over predictions\" are happening for unit_cost > 200.\n",
    "- similarly, the higher \"under predictions\" are happening for unit_cost is zero.\n",
    "\n",
    "This can help us tune the model by a separate model for unit_cost > 200\n"
   ]
  },
  {
   "cell_type": "markdown",
   "metadata": {},
   "source": [
    "# 4.2 Modelling - XGBoost"
   ]
  },
  {
   "cell_type": "markdown",
   "metadata": {},
   "source": [
    "### 4.2.2 Model Pipeline Build"
   ]
  },
  {
   "cell_type": "markdown",
   "metadata": {},
   "source": [
    "## 4.2.1 Model training pipeline\n",
    "\n",
    "Here we focus on creating a collection of pipelines that can be used for tranining respective models.\n",
    "\n",
    "Each model pipeline will essentially be of the form\n",
    "```\n",
    "[\n",
    "('preprocessing', preprocessing_pipeline),\n",
    "('feature_selection', feature_selection_pipeline),\n",
    "('estimator', estimator),\n",
    "]\n",
    "```"
   ]
  },
  {
   "cell_type": "code",
   "execution_count": 40,
   "metadata": {},
   "outputs": [
    {
     "data": {
      "text/html": [
       "<style>#sk-container-id-3 {color: black;background-color: white;}#sk-container-id-3 pre{padding: 0;}#sk-container-id-3 div.sk-toggleable {background-color: white;}#sk-container-id-3 label.sk-toggleable__label {cursor: pointer;display: block;width: 100%;margin-bottom: 0;padding: 0.3em;box-sizing: border-box;text-align: center;}#sk-container-id-3 label.sk-toggleable__label-arrow:before {content: \"▸\";float: left;margin-right: 0.25em;color: #696969;}#sk-container-id-3 label.sk-toggleable__label-arrow:hover:before {color: black;}#sk-container-id-3 div.sk-estimator:hover label.sk-toggleable__label-arrow:before {color: black;}#sk-container-id-3 div.sk-toggleable__content {max-height: 0;max-width: 0;overflow: hidden;text-align: left;background-color: #f0f8ff;}#sk-container-id-3 div.sk-toggleable__content pre {margin: 0.2em;color: black;border-radius: 0.25em;background-color: #f0f8ff;}#sk-container-id-3 input.sk-toggleable__control:checked~div.sk-toggleable__content {max-height: 200px;max-width: 100%;overflow: auto;}#sk-container-id-3 input.sk-toggleable__control:checked~label.sk-toggleable__label-arrow:before {content: \"▾\";}#sk-container-id-3 div.sk-estimator input.sk-toggleable__control:checked~label.sk-toggleable__label {background-color: #d4ebff;}#sk-container-id-3 div.sk-label input.sk-toggleable__control:checked~label.sk-toggleable__label {background-color: #d4ebff;}#sk-container-id-3 input.sk-hidden--visually {border: 0;clip: rect(1px 1px 1px 1px);clip: rect(1px, 1px, 1px, 1px);height: 1px;margin: -1px;overflow: hidden;padding: 0;position: absolute;width: 1px;}#sk-container-id-3 div.sk-estimator {font-family: monospace;background-color: #f0f8ff;border: 1px dotted black;border-radius: 0.25em;box-sizing: border-box;margin-bottom: 0.5em;}#sk-container-id-3 div.sk-estimator:hover {background-color: #d4ebff;}#sk-container-id-3 div.sk-parallel-item::after {content: \"\";width: 100%;border-bottom: 1px solid gray;flex-grow: 1;}#sk-container-id-3 div.sk-label:hover label.sk-toggleable__label {background-color: #d4ebff;}#sk-container-id-3 div.sk-serial::before {content: \"\";position: absolute;border-left: 1px solid gray;box-sizing: border-box;top: 0;bottom: 0;left: 50%;z-index: 0;}#sk-container-id-3 div.sk-serial {display: flex;flex-direction: column;align-items: center;background-color: white;padding-right: 0.2em;padding-left: 0.2em;position: relative;}#sk-container-id-3 div.sk-item {position: relative;z-index: 1;}#sk-container-id-3 div.sk-parallel {display: flex;align-items: stretch;justify-content: center;background-color: white;position: relative;}#sk-container-id-3 div.sk-item::before, #sk-container-id-3 div.sk-parallel-item::before {content: \"\";position: absolute;border-left: 1px solid gray;box-sizing: border-box;top: 0;bottom: 0;left: 50%;z-index: -1;}#sk-container-id-3 div.sk-parallel-item {display: flex;flex-direction: column;z-index: 1;position: relative;background-color: white;}#sk-container-id-3 div.sk-parallel-item:first-child::after {align-self: flex-end;width: 50%;}#sk-container-id-3 div.sk-parallel-item:last-child::after {align-self: flex-start;width: 50%;}#sk-container-id-3 div.sk-parallel-item:only-child::after {width: 0;}#sk-container-id-3 div.sk-dashed-wrapped {border: 1px dashed gray;margin: 0 0.4em 0.5em 0.4em;box-sizing: border-box;padding-bottom: 0.4em;background-color: white;}#sk-container-id-3 div.sk-label label {font-family: monospace;font-weight: bold;display: inline-block;line-height: 1.2em;}#sk-container-id-3 div.sk-label-container {text-align: center;}#sk-container-id-3 div.sk-container {/* jupyter's `normalize.less` sets `[hidden] { display: none; }` but bootstrap.min.css set `[hidden] { display: none !important; }` so we also need the `!important` here to be able to override the default hidden behavior on the sphinx rendered scikit-learn.org. See: https://github.com/scikit-learn/scikit-learn/issues/21755 */display: inline-block !important;position: relative;}#sk-container-id-3 div.sk-text-repr-fallback {display: none;}</style><div id=\"sk-container-id-3\" class=\"sk-top-container\"><div class=\"sk-text-repr-fallback\"><pre>Pipeline(steps=[(&#x27;XGBoost&#x27;,\n",
       "                 XGBRegressor(base_score=0.5, booster=&#x27;gbtree&#x27;,\n",
       "                              colsample_bylevel=1, colsample_bynode=1,\n",
       "                              colsample_bytree=1, enable_categorical=False,\n",
       "                              gamma=0, gpu_id=-1, importance_type=None,\n",
       "                              interaction_constraints=&#x27;&#x27;,\n",
       "                              learning_rate=0.300000012, max_delta_step=0,\n",
       "                              max_depth=6, min_child_weight=1, missing=nan,\n",
       "                              monotone_constraints=&#x27;()&#x27;, n_estimators=100,\n",
       "                              n_jobs=8, num_parallel_tree=1, predictor=&#x27;auto&#x27;,\n",
       "                              random_state=0, reg_alpha=0, reg_lambda=1,\n",
       "                              scale_pos_weight=1, subsample=1,\n",
       "                              tree_method=&#x27;exact&#x27;, validate_parameters=1,\n",
       "                              verbosity=None))])</pre><b>In a Jupyter environment, please rerun this cell to show the HTML representation or trust the notebook. <br />On GitHub, the HTML representation is unable to render, please try loading this page with nbviewer.org.</b></div><div class=\"sk-container\" hidden><div class=\"sk-item sk-dashed-wrapped\"><div class=\"sk-label-container\"><div class=\"sk-label sk-toggleable\"><input class=\"sk-toggleable__control sk-hidden--visually\" id=\"sk-estimator-id-6\" type=\"checkbox\" ><label for=\"sk-estimator-id-6\" class=\"sk-toggleable__label sk-toggleable__label-arrow\">Pipeline</label><div class=\"sk-toggleable__content\"><pre>Pipeline(steps=[(&#x27;XGBoost&#x27;,\n",
       "                 XGBRegressor(base_score=0.5, booster=&#x27;gbtree&#x27;,\n",
       "                              colsample_bylevel=1, colsample_bynode=1,\n",
       "                              colsample_bytree=1, enable_categorical=False,\n",
       "                              gamma=0, gpu_id=-1, importance_type=None,\n",
       "                              interaction_constraints=&#x27;&#x27;,\n",
       "                              learning_rate=0.300000012, max_delta_step=0,\n",
       "                              max_depth=6, min_child_weight=1, missing=nan,\n",
       "                              monotone_constraints=&#x27;()&#x27;, n_estimators=100,\n",
       "                              n_jobs=8, num_parallel_tree=1, predictor=&#x27;auto&#x27;,\n",
       "                              random_state=0, reg_alpha=0, reg_lambda=1,\n",
       "                              scale_pos_weight=1, subsample=1,\n",
       "                              tree_method=&#x27;exact&#x27;, validate_parameters=1,\n",
       "                              verbosity=None))])</pre></div></div></div><div class=\"sk-serial\"><div class=\"sk-item\"><div class=\"sk-estimator sk-toggleable\"><input class=\"sk-toggleable__control sk-hidden--visually\" id=\"sk-estimator-id-7\" type=\"checkbox\" ><label for=\"sk-estimator-id-7\" class=\"sk-toggleable__label sk-toggleable__label-arrow\">XGBRegressor</label><div class=\"sk-toggleable__content\"><pre>XGBRegressor(base_score=0.5, booster=&#x27;gbtree&#x27;, colsample_bylevel=1,\n",
       "             colsample_bynode=1, colsample_bytree=1, enable_categorical=False,\n",
       "             gamma=0, gpu_id=-1, importance_type=None,\n",
       "             interaction_constraints=&#x27;&#x27;, learning_rate=0.300000012,\n",
       "             max_delta_step=0, max_depth=6, min_child_weight=1, missing=nan,\n",
       "             monotone_constraints=&#x27;()&#x27;, n_estimators=100, n_jobs=8,\n",
       "             num_parallel_tree=1, predictor=&#x27;auto&#x27;, random_state=0, reg_alpha=0,\n",
       "             reg_lambda=1, scale_pos_weight=1, subsample=1, tree_method=&#x27;exact&#x27;,\n",
       "             validate_parameters=1, verbosity=None)</pre></div></div></div></div></div></div></div>"
      ],
      "text/plain": [
       "Pipeline(steps=[('XGBoost',\n",
       "                 XGBRegressor(base_score=0.5, booster='gbtree',\n",
       "                              colsample_bylevel=1, colsample_bynode=1,\n",
       "                              colsample_bytree=1, enable_categorical=False,\n",
       "                              gamma=0, gpu_id=-1, importance_type=None,\n",
       "                              interaction_constraints='',\n",
       "                              learning_rate=0.300000012, max_delta_step=0,\n",
       "                              max_depth=6, min_child_weight=1, missing=nan,\n",
       "                              monotone_constraints='()', n_estimators=100,\n",
       "                              n_jobs=8, num_parallel_tree=1, predictor='auto',\n",
       "                              random_state=0, reg_alpha=0, reg_lambda=1,\n",
       "                              scale_pos_weight=1, subsample=1,\n",
       "                              tree_method='exact', validate_parameters=1,\n",
       "                              verbosity=None))])"
      ]
     },
     "execution_count": 40,
     "metadata": {},
     "output_type": "execute_result"
    }
   ],
   "source": [
    "housing_prepared = housing_prepared.rename_column(\"ocean_proximity_<1H OCEAN\",\"ocean_proximity_L1H OCEAN\")\n",
    "# let's find features for some decent defaults\n",
    "estimator = XGBRegressor()\n",
    "xgb_training_pipe_init = Pipeline([\n",
    "    ('XGBoost', XGBRegressor())\n",
    "])\n",
    "xgb_training_pipe_init.fit(housing_prepared, train_y)"
   ]
  },
  {
   "cell_type": "markdown",
   "metadata": {},
   "source": [
    "### 4.2.3 Model Tuning"
   ]
  },
  {
   "cell_type": "code",
   "execution_count": 41,
   "metadata": {},
   "outputs": [
    {
     "data": {
      "text/plain": [
       "<Axes: >"
      ]
     },
     "execution_count": 41,
     "metadata": {},
     "output_type": "execute_result"
    },
    {
     "data": {
      "image/png": "[encoded data removed]",
      "text/plain": [
       "<Figure size 640x480 with 1 Axes>"
      ]
     },
     "metadata": {},
     "output_type": "display_data"
    }
   ],
   "source": [
    "# Understanding the Feature Importance\n",
    "%matplotlib inline\n",
    "imp = pd.DataFrame({'importance': xgb_training_pipe_init['XGBoost'].feature_importances_})\n",
    "imp.index = housing_prepared.columns\n",
    "imp.sort_values('importance',inplace=True)\n",
    "imp.plot(kind='barh')"
   ]
  },
  {
   "cell_type": "markdown",
   "metadata": {},
   "source": [
    "'condition','model_family','days_since_last_purchase','first_time_customer','sales_person', are considered to be important and in grid search"
   ]
  },
  {
   "cell_type": "markdown",
   "metadata": {},
   "source": [
    "##### Pipeline build based on new importance features"
   ]
  },
  {
   "cell_type": "code",
   "execution_count": 42,
   "metadata": {},
   "outputs": [],
   "source": [
    "# let's find features for some decent defaults\n",
    "imp_features = ['ocean_proximity_INLAND','median_income','bedrooms_per_room','ocean_proximity_NEAR OCEAN','ocean_proximity_ISLAND','ocean_proximity_NEAR BAY']\n",
    "\n",
    "estimator = XGBRegressor()\n",
    "xgb_training_pipe2 = Pipeline([\n",
    "    ('', FunctionTransformer(_custom_data_transform, kw_args={'cols2keep':imp_features})),\n",
    "    ('XGBoost', XGBRegressor())\n",
    "])"
   ]
  },
  {
   "cell_type": "markdown",
   "metadata": {},
   "source": [
    "#### Grid Search of the Estimator"
   ]
  },
  {
   "cell_type": "code",
   "execution_count": 43,
   "metadata": {},
   "outputs": [
    {
     "data": {
      "text/plain": [
       "{'gamma': [0.03],\n",
       " 'min_child_weight': [6],\n",
       " 'learning_rate': [0.1],\n",
       " 'max_depth': [3],\n",
       " 'n_estimators': [500]}"
      ]
     },
     "execution_count": 43,
     "metadata": {},
     "output_type": "execute_result"
    }
   ],
   "source": [
    "context.config[\"params\"]['parameters']['XGBoost']"
   ]
  },
  {
   "cell_type": "code",
   "execution_count": 44,
   "metadata": {},
   "outputs": [
    {
     "name": "stdout",
     "output_type": "stream",
     "text": [
      "Fitting 2 folds for each of 1 candidates, totalling 2 fits\n"
     ]
    },
    {
     "name": "stderr",
     "output_type": "stream",
     "text": [
      "/home/omkar3913/miniconda3/envs/capstone-dev/lib/python3.9/site-packages/xgboost/compat.py:36: FutureWarning: pandas.Int64Index is deprecated and will be removed from pandas in a future version. Use pandas.Index with the appropriate dtype instead.\n",
      "  from pandas import MultiIndex, Int64Index\n",
      "/home/omkar3913/miniconda3/envs/capstone-dev/lib/python3.9/site-packages/xgboost/compat.py:36: FutureWarning: pandas.Int64Index is deprecated and will be removed from pandas in a future version. Use pandas.Index with the appropriate dtype instead.\n",
      "  from pandas import MultiIndex, Int64Index\n",
      "/home/omkar3913/miniconda3/envs/capstone-dev/lib/python3.9/site-packages/xgboost/data.py:262: FutureWarning: pandas.Int64Index is deprecated and will be removed from pandas in a future version. Use pandas.Index with the appropriate dtype instead.\n",
      "  elif isinstance(data.columns, (pd.Int64Index, pd.RangeIndex)):\n",
      "/home/omkar3913/miniconda3/envs/capstone-dev/lib/python3.9/site-packages/xgboost/data.py:262: FutureWarning: pandas.Int64Index is deprecated and will be removed from pandas in a future version. Use pandas.Index with the appropriate dtype instead.\n",
      "  elif isinstance(data.columns, (pd.Int64Index, pd.RangeIndex)):\n"
     ]
    },
    {
     "name": "stdout",
     "output_type": "stream",
     "text": [
      "0.789197071905007\n",
      "{'gamma': 0.03, 'learning_rate': 0.1, 'max_depth': 3, 'min_child_weight': 6, 'n_estimators': 500}\n",
      "CPU times: user 5.06 s, sys: 0 ns, total: 5.06 s\n",
      "Wall time: 2.78 s\n"
     ]
    }
   ],
   "source": [
    "%%time\n",
    "parameters = context.config[\"params\"]['parameters']['XGBoost']\n",
    "est = XGBRegressor()\n",
    "xgb_grid = GridSearchCV(est,\n",
    "                        parameters,\n",
    "                        cv = 2,\n",
    "                        n_jobs = 4,\n",
    "                        verbose=True)\n",
    "\n",
    "xgb_grid.fit(housing_prepared, train_y)\n",
    "\n",
    "print(xgb_grid.best_score_)\n",
    "print(xgb_grid.best_params_)"
   ]
  },
  {
   "cell_type": "markdown",
   "metadata": {},
   "source": [
    "#### Pipeline Build using the best estimator"
   ]
  },
  {
   "cell_type": "code",
   "execution_count": 45,
   "metadata": {},
   "outputs": [
    {
     "data": {
      "text/html": [
       "<style>#sk-container-id-4 {color: black;background-color: white;}#sk-container-id-4 pre{padding: 0;}#sk-container-id-4 div.sk-toggleable {background-color: white;}#sk-container-id-4 label.sk-toggleable__label {cursor: pointer;display: block;width: 100%;margin-bottom: 0;padding: 0.3em;box-sizing: border-box;text-align: center;}#sk-container-id-4 label.sk-toggleable__label-arrow:before {content: \"▸\";float: left;margin-right: 0.25em;color: #696969;}#sk-container-id-4 label.sk-toggleable__label-arrow:hover:before {color: black;}#sk-container-id-4 div.sk-estimator:hover label.sk-toggleable__label-arrow:before {color: black;}#sk-container-id-4 div.sk-toggleable__content {max-height: 0;max-width: 0;overflow: hidden;text-align: left;background-color: #f0f8ff;}#sk-container-id-4 div.sk-toggleable__content pre {margin: 0.2em;color: black;border-radius: 0.25em;background-color: #f0f8ff;}#sk-container-id-4 input.sk-toggleable__control:checked~div.sk-toggleable__content {max-height: 200px;max-width: 100%;overflow: auto;}#sk-container-id-4 input.sk-toggleable__control:checked~label.sk-toggleable__label-arrow:before {content: \"▾\";}#sk-container-id-4 div.sk-estimator input.sk-toggleable__control:checked~label.sk-toggleable__label {background-color: #d4ebff;}#sk-container-id-4 div.sk-label input.sk-toggleable__control:checked~label.sk-toggleable__label {background-color: #d4ebff;}#sk-container-id-4 input.sk-hidden--visually {border: 0;clip: rect(1px 1px 1px 1px);clip: rect(1px, 1px, 1px, 1px);height: 1px;margin: -1px;overflow: hidden;padding: 0;position: absolute;width: 1px;}#sk-container-id-4 div.sk-estimator {font-family: monospace;background-color: #f0f8ff;border: 1px dotted black;border-radius: 0.25em;box-sizing: border-box;margin-bottom: 0.5em;}#sk-container-id-4 div.sk-estimator:hover {background-color: #d4ebff;}#sk-container-id-4 div.sk-parallel-item::after {content: \"\";width: 100%;border-bottom: 1px solid gray;flex-grow: 1;}#sk-container-id-4 div.sk-label:hover label.sk-toggleable__label {background-color: #d4ebff;}#sk-container-id-4 div.sk-serial::before {content: \"\";position: absolute;border-left: 1px solid gray;box-sizing: border-box;top: 0;bottom: 0;left: 50%;z-index: 0;}#sk-container-id-4 div.sk-serial {display: flex;flex-direction: column;align-items: center;background-color: white;padding-right: 0.2em;padding-left: 0.2em;position: relative;}#sk-container-id-4 div.sk-item {position: relative;z-index: 1;}#sk-container-id-4 div.sk-parallel {display: flex;align-items: stretch;justify-content: center;background-color: white;position: relative;}#sk-container-id-4 div.sk-item::before, #sk-container-id-4 div.sk-parallel-item::before {content: \"\";position: absolute;border-left: 1px solid gray;box-sizing: border-box;top: 0;bottom: 0;left: 50%;z-index: -1;}#sk-container-id-4 div.sk-parallel-item {display: flex;flex-direction: column;z-index: 1;position: relative;background-color: white;}#sk-container-id-4 div.sk-parallel-item:first-child::after {align-self: flex-end;width: 50%;}#sk-container-id-4 div.sk-parallel-item:last-child::after {align-self: flex-start;width: 50%;}#sk-container-id-4 div.sk-parallel-item:only-child::after {width: 0;}#sk-container-id-4 div.sk-dashed-wrapped {border: 1px dashed gray;margin: 0 0.4em 0.5em 0.4em;box-sizing: border-box;padding-bottom: 0.4em;background-color: white;}#sk-container-id-4 div.sk-label label {font-family: monospace;font-weight: bold;display: inline-block;line-height: 1.2em;}#sk-container-id-4 div.sk-label-container {text-align: center;}#sk-container-id-4 div.sk-container {/* jupyter's `normalize.less` sets `[hidden] { display: none; }` but bootstrap.min.css set `[hidden] { display: none !important; }` so we also need the `!important` here to be able to override the default hidden behavior on the sphinx rendered scikit-learn.org. See: https://github.com/scikit-learn/scikit-learn/issues/21755 */display: inline-block !important;position: relative;}#sk-container-id-4 div.sk-text-repr-fallback {display: none;}</style><div id=\"sk-container-id-4\" class=\"sk-top-container\"><div class=\"sk-text-repr-fallback\"><pre>Pipeline(steps=[(&#x27;&#x27;,\n",
       "                 FunctionTransformer(func=&lt;function _custom_data_transform at 0x7f18a13a19d0&gt;,\n",
       "                                     kw_args={&#x27;cols2keep&#x27;: [&#x27;ocean_proximity_INLAND&#x27;,\n",
       "                                                            &#x27;median_income&#x27;,\n",
       "                                                            &#x27;bedrooms_per_room&#x27;,\n",
       "                                                            &#x27;ocean_proximity_NEAR &#x27;\n",
       "                                                            &#x27;OCEAN&#x27;,\n",
       "                                                            &#x27;ocean_proximity_ISLAND&#x27;,\n",
       "                                                            &#x27;ocean_proximity_NEAR &#x27;\n",
       "                                                            &#x27;BAY&#x27;]})),\n",
       "                (&#x27;XGBoost&#x27;,\n",
       "                 XGBRegressor(base_score=0.5, booster=&#x27;gbtree&#x27;,\n",
       "                              colsample_bylevel=1, colsample_...\n",
       "                              gamma=0.03, gpu_id=-1, importance_type=None,\n",
       "                              interaction_constraints=&#x27;&#x27;, learning_rate=0.1,\n",
       "                              max_delta_step=0, max_depth=3, min_child_weight=6,\n",
       "                              missing=nan, monotone_constraints=&#x27;()&#x27;,\n",
       "                              n_estimators=500, n_jobs=8, num_parallel_tree=1,\n",
       "                              predictor=&#x27;auto&#x27;, random_state=0, reg_alpha=0,\n",
       "                              reg_lambda=1, scale_pos_weight=1, subsample=1,\n",
       "                              tree_method=&#x27;exact&#x27;, validate_parameters=1,\n",
       "                              verbosity=None))])</pre><b>In a Jupyter environment, please rerun this cell to show the HTML representation or trust the notebook. <br />On GitHub, the HTML representation is unable to render, please try loading this page with nbviewer.org.</b></div><div class=\"sk-container\" hidden><div class=\"sk-item sk-dashed-wrapped\"><div class=\"sk-label-container\"><div class=\"sk-label sk-toggleable\"><input class=\"sk-toggleable__control sk-hidden--visually\" id=\"sk-estimator-id-8\" type=\"checkbox\" ><label for=\"sk-estimator-id-8\" class=\"sk-toggleable__label sk-toggleable__label-arrow\">Pipeline</label><div class=\"sk-toggleable__content\"><pre>Pipeline(steps=[(&#x27;&#x27;,\n",
       "                 FunctionTransformer(func=&lt;function _custom_data_transform at 0x7f18a13a19d0&gt;,\n",
       "                                     kw_args={&#x27;cols2keep&#x27;: [&#x27;ocean_proximity_INLAND&#x27;,\n",
       "                                                            &#x27;median_income&#x27;,\n",
       "                                                            &#x27;bedrooms_per_room&#x27;,\n",
       "                                                            &#x27;ocean_proximity_NEAR &#x27;\n",
       "                                                            &#x27;OCEAN&#x27;,\n",
       "                                                            &#x27;ocean_proximity_ISLAND&#x27;,\n",
       "                                                            &#x27;ocean_proximity_NEAR &#x27;\n",
       "                                                            &#x27;BAY&#x27;]})),\n",
       "                (&#x27;XGBoost&#x27;,\n",
       "                 XGBRegressor(base_score=0.5, booster=&#x27;gbtree&#x27;,\n",
       "                              colsample_bylevel=1, colsample_...\n",
       "                              gamma=0.03, gpu_id=-1, importance_type=None,\n",
       "                              interaction_constraints=&#x27;&#x27;, learning_rate=0.1,\n",
       "                              max_delta_step=0, max_depth=3, min_child_weight=6,\n",
       "                              missing=nan, monotone_constraints=&#x27;()&#x27;,\n",
       "                              n_estimators=500, n_jobs=8, num_parallel_tree=1,\n",
       "                              predictor=&#x27;auto&#x27;, random_state=0, reg_alpha=0,\n",
       "                              reg_lambda=1, scale_pos_weight=1, subsample=1,\n",
       "                              tree_method=&#x27;exact&#x27;, validate_parameters=1,\n",
       "                              verbosity=None))])</pre></div></div></div><div class=\"sk-serial\"><div class=\"sk-item\"><div class=\"sk-estimator sk-toggleable\"><input class=\"sk-toggleable__control sk-hidden--visually\" id=\"sk-estimator-id-9\" type=\"checkbox\" ><label for=\"sk-estimator-id-9\" class=\"sk-toggleable__label sk-toggleable__label-arrow\">FunctionTransformer</label><div class=\"sk-toggleable__content\"><pre>FunctionTransformer(func=&lt;function _custom_data_transform at 0x7f18a13a19d0&gt;,\n",
       "                    kw_args={&#x27;cols2keep&#x27;: [&#x27;ocean_proximity_INLAND&#x27;,\n",
       "                                           &#x27;median_income&#x27;, &#x27;bedrooms_per_room&#x27;,\n",
       "                                           &#x27;ocean_proximity_NEAR OCEAN&#x27;,\n",
       "                                           &#x27;ocean_proximity_ISLAND&#x27;,\n",
       "                                           &#x27;ocean_proximity_NEAR BAY&#x27;]})</pre></div></div></div><div class=\"sk-item\"><div class=\"sk-estimator sk-toggleable\"><input class=\"sk-toggleable__control sk-hidden--visually\" id=\"sk-estimator-id-10\" type=\"checkbox\" ><label for=\"sk-estimator-id-10\" class=\"sk-toggleable__label sk-toggleable__label-arrow\">XGBRegressor</label><div class=\"sk-toggleable__content\"><pre>XGBRegressor(base_score=0.5, booster=&#x27;gbtree&#x27;, colsample_bylevel=1,\n",
       "             colsample_bynode=1, colsample_bytree=1, enable_categorical=False,\n",
       "             gamma=0.03, gpu_id=-1, importance_type=None,\n",
       "             interaction_constraints=&#x27;&#x27;, learning_rate=0.1, max_delta_step=0,\n",
       "             max_depth=3, min_child_weight=6, missing=nan,\n",
       "             monotone_constraints=&#x27;()&#x27;, n_estimators=500, n_jobs=8,\n",
       "             num_parallel_tree=1, predictor=&#x27;auto&#x27;, random_state=0, reg_alpha=0,\n",
       "             reg_lambda=1, scale_pos_weight=1, subsample=1, tree_method=&#x27;exact&#x27;,\n",
       "             validate_parameters=1, verbosity=None)</pre></div></div></div></div></div></div></div>"
      ],
      "text/plain": [
       "Pipeline(steps=[('',\n",
       "                 FunctionTransformer(func=<function _custom_data_transform at 0x7f18a13a19d0>,\n",
       "                                     kw_args={'cols2keep': ['ocean_proximity_INLAND',\n",
       "                                                            'median_income',\n",
       "                                                            'bedrooms_per_room',\n",
       "                                                            'ocean_proximity_NEAR '\n",
       "                                                            'OCEAN',\n",
       "                                                            'ocean_proximity_ISLAND',\n",
       "                                                            'ocean_proximity_NEAR '\n",
       "                                                            'BAY']})),\n",
       "                ('XGBoost',\n",
       "                 XGBRegressor(base_score=0.5, booster='gbtree',\n",
       "                              colsample_bylevel=1, colsample_...\n",
       "                              gamma=0.03, gpu_id=-1, importance_type=None,\n",
       "                              interaction_constraints='', learning_rate=0.1,\n",
       "                              max_delta_step=0, max_depth=3, min_child_weight=6,\n",
       "                              missing=nan, monotone_constraints='()',\n",
       "                              n_estimators=500, n_jobs=8, num_parallel_tree=1,\n",
       "                              predictor='auto', random_state=0, reg_alpha=0,\n",
       "                              reg_lambda=1, scale_pos_weight=1, subsample=1,\n",
       "                              tree_method='exact', validate_parameters=1,\n",
       "                              verbosity=None))])"
      ]
     },
     "execution_count": 45,
     "metadata": {},
     "output_type": "execute_result"
    }
   ],
   "source": [
    "xgb_pipeline_final = Pipeline([\n",
    "    ('', FunctionTransformer(_custom_data_transform, kw_args={'cols2keep':imp_features})),\n",
    "    ('XGBoost', xgb_grid.best_estimator_)\n",
    "])\n",
    "xgb_pipeline_final.fit(housing_prepared, train_y)"
   ]
  },
  {
   "cell_type": "code",
   "execution_count": 46,
   "metadata": {},
   "outputs": [],
   "source": [
    "test_X = load_dataset(context, 'test/housing/features')\n",
    "\n",
    "xgb_test_X = dp.data_prep(test_X)\n",
    "\n",
    "xgb_test_X = xgb_test_X.rename_column(\"ocean_proximity_<1H OCEAN\",\"ocean_proximity_L1H OCEAN\")"
   ]
  },
  {
   "cell_type": "code",
   "execution_count": 47,
   "metadata": {},
   "outputs": [
    {
     "name": "stderr",
     "output_type": "stream",
     "text": [
      "In a future version of pandas all arguments of DataFrame.drop except for the argument 'labels' will be keyword-only.\n",
      "In a future version of pandas all arguments of DataFrame.drop except for the argument 'labels' will be keyword-only.\n",
      "this method is deprecated in favour of `Styler.to_html()`\n"
     ]
    }
   ],
   "source": [
    "reg_tree_report = RegressionReport(model=xgb_pipeline_final, x_train=housing_prepared, y_train=train_y, x_test= xgb_test_X, y_test= test_y,refit=True)\n",
    "reg_tree_report.get_report(include_shap=False, file_path='./reports/model_experimenting/regression_tree_model_report')"
   ]
  },
  {
   "cell_type": "markdown",
   "metadata": {},
   "source": [
    "The Regression report containing the feature importances are available [here](https://drive.google.com/file/d/1JBfL3uxPcxBfl0amweXBFmLr7CSHFBUO/view?usp=sharing)"
   ]
  },
  {
   "cell_type": "markdown",
   "metadata": {},
   "source": [
    "# 5 Model Comparison"
   ]
  },
  {
   "cell_type": "markdown",
   "metadata": {},
   "source": [
    "Now, a comparison report of the  linear (vs) tree -based model  approach can be generated as follows.\n",
    "\n",
    "This code will not be part of the production code."
   ]
  },
  {
   "cell_type": "code",
   "execution_count": 48,
   "metadata": {},
   "outputs": [],
   "source": [
    "housing_prepared = housing_prepared.rename_column(\"ocean_proximity_L1H OCEAN\",\"ocean_proximity_<1H OCEAN\")"
   ]
  },
  {
   "cell_type": "code",
   "execution_count": 49,
   "metadata": {},
   "outputs": [],
   "source": [
    "housing_prepared.drop_duplicates(inplace=True)"
   ]
  },
  {
   "cell_type": "code",
   "execution_count": 50,
   "metadata": {},
   "outputs": [
    {
     "name": "stderr",
     "output_type": "stream",
     "text": [
      "`rcond` parameter will change to the default of machine precision times ``max(M, N)`` where M and N are the input matrix dimensions.\n",
      "To use the future default and silence this warning we advise to pass `rcond=None`, to keep using the old, explicitly pass `rcond=-1`.\n",
      "`rcond` parameter will change to the default of machine precision times ``max(M, N)`` where M and N are the input matrix dimensions.\n",
      "To use the future default and silence this warning we advise to pass `rcond=None`, to keep using the old, explicitly pass `rcond=-1`.\n",
      "`rcond` parameter will change to the default of machine precision times ``max(M, N)`` where M and N are the input matrix dimensions.\n",
      "To use the future default and silence this warning we advise to pass `rcond=None`, to keep using the old, explicitly pass `rcond=-1`.\n"
     ]
    },
    {
     "ename": "ValueError",
     "evalue": "Shape of passed values is (4128, 1), indices imply (4128, 14)",
     "output_type": "error",
     "traceback": [
      "\u001b[0;31m---------------------------------------------------------------------------\u001b[0m",
      "\u001b[0;31mValueError\u001b[0m                                Traceback (most recent call last)",
      "Cell \u001b[0;32mIn [50], line 3\u001b[0m\n\u001b[1;32m      1\u001b[0m model_pipelines \u001b[38;5;241m=\u001b[39m [reg_ppln,dtree_ppln,xgb_pipeline_final]\n\u001b[1;32m      2\u001b[0m model_comparison_report \u001b[38;5;241m=\u001b[39m RegressionComparison(models\u001b[38;5;241m=\u001b[39mmodel_pipelines,x\u001b[38;5;241m=\u001b[39mhousing_prepared, y\u001b[38;5;241m=\u001b[39mtrain_y\u001b[38;5;241m.\u001b[39mvalues,refit\u001b[38;5;241m=\u001b[39m\u001b[38;5;28;01mTrue\u001b[39;00m)\n\u001b[0;32m----> 3\u001b[0m metrics \u001b[38;5;241m=\u001b[39m \u001b[43mmodel_comparison_report\u001b[49m\u001b[38;5;241;43m.\u001b[39;49m\u001b[43mget_report\u001b[49m\u001b[43m(\u001b[49m\u001b[43mfile_path\u001b[49m\u001b[38;5;241;43m=\u001b[39;49m\u001b[38;5;124;43m'\u001b[39;49m\u001b[38;5;124;43m./reports/model_experimenting/regression_comparison\u001b[39;49m\u001b[38;5;124;43m'\u001b[39;49m\u001b[43m)\u001b[49m\n",
      "File \u001b[0;32m/d/regression_py/regression-py/src/ta_lib/_vendor/tigerml/model_eval/comparison.py:519\u001b[0m, in \u001b[0;36mRegressionComparison.get_report\u001b[0;34m(self, file_path, format, **kwargs)\u001b[0m\n\u001b[1;32m    516\u001b[0m \u001b[38;5;28;01mif\u001b[39;00m \u001b[38;5;129;01mnot\u001b[39;00m file_path:\n\u001b[1;32m    517\u001b[0m     file_path \u001b[38;5;241m=\u001b[39m \u001b[38;5;124mf\u001b[39m\u001b[38;5;124m'\u001b[39m\u001b[38;5;124mregression_comparison_report_at_\u001b[39m\u001b[38;5;132;01m{\u001b[39;00mdatetime\u001b[38;5;241m.\u001b[39mnow()\u001b[38;5;241m.\u001b[39mstrftime(\u001b[38;5;124m\"\u001b[39m\u001b[38;5;124m%\u001b[39m\u001b[38;5;124mY-\u001b[39m\u001b[38;5;124m%\u001b[39m\u001b[38;5;124mm-\u001b[39m\u001b[38;5;132;01m%d\u001b[39;00m\u001b[38;5;124m_\u001b[39m\u001b[38;5;124m%\u001b[39m\u001b[38;5;124mH-\u001b[39m\u001b[38;5;124m%\u001b[39m\u001b[38;5;124mM-\u001b[39m\u001b[38;5;124m%\u001b[39m\u001b[38;5;124mS\u001b[39m\u001b[38;5;124m\"\u001b[39m)\u001b[38;5;132;01m}\u001b[39;00m\u001b[38;5;124m'\u001b[39m\n\u001b[0;32m--> 519\u001b[0m \u001b[38;5;28;43msuper\u001b[39;49m\u001b[43m(\u001b[49m\u001b[43m)\u001b[49m\u001b[38;5;241;43m.\u001b[39;49m\u001b[43m_get_report\u001b[49m\u001b[43m(\u001b[49m\u001b[43mfile_path\u001b[49m\u001b[38;5;241;43m=\u001b[39;49m\u001b[43mfile_path\u001b[49m\u001b[43m,\u001b[49m\u001b[43m \u001b[49m\u001b[38;5;28;43mformat\u001b[39;49m\u001b[38;5;241;43m=\u001b[39;49m\u001b[38;5;28;43mformat\u001b[39;49m\u001b[43m,\u001b[49m\u001b[43m \u001b[49m\u001b[38;5;241;43m*\u001b[39;49m\u001b[38;5;241;43m*\u001b[39;49m\u001b[43mkwargs\u001b[49m\u001b[43m)\u001b[49m\n",
      "File \u001b[0;32m/d/regression_py/regression-py/src/ta_lib/_vendor/tigerml/model_eval/comparison.py:248\u001b[0m, in \u001b[0;36mMultiModelReport._get_report\u001b[0;34m(self, file_path, cutoff_value, format, **kwargs)\u001b[0m\n\u001b[1;32m    246\u001b[0m \u001b[38;5;28;01mif\u001b[39;00m \u001b[38;5;28mself\u001b[39m\u001b[38;5;241m.\u001b[39mmulti_class:\n\u001b[1;32m    247\u001b[0m     interpret_dict \u001b[38;5;241m=\u001b[39m {}\n\u001b[0;32m--> 248\u001b[0m     interpret_dict[\u001b[38;5;124m\"\u001b[39m\u001b[38;5;124mfeature_importances\u001b[39m\u001b[38;5;124m\"\u001b[39m] \u001b[38;5;241m=\u001b[39m \u001b[38;5;28;43mself\u001b[39;49m\u001b[38;5;241;43m.\u001b[39;49m\u001b[43mshap_summary_plots\u001b[49m\u001b[43m(\u001b[49m\u001b[43m)\u001b[49m\n\u001b[1;32m    249\u001b[0m     \u001b[38;5;28mself\u001b[39m\u001b[38;5;241m.\u001b[39melement_tree[\u001b[38;5;124m\"\u001b[39m\u001b[38;5;124minterpretation\u001b[39m\u001b[38;5;124m\"\u001b[39m] \u001b[38;5;241m=\u001b[39m interpret_dict\n\u001b[1;32m    250\u001b[0m \u001b[38;5;28;01melse\u001b[39;00m:\n",
      "File \u001b[0;32m/d/regression_py/regression-py/src/ta_lib/_vendor/tigerml/model_eval/comparison.py:209\u001b[0m, in \u001b[0;36mMultiModelReport.shap_summary_plots\u001b[0;34m(self)\u001b[0m\n\u001b[1;32m    207\u001b[0m     model \u001b[38;5;241m=\u001b[39m \u001b[38;5;28mself\u001b[39m\u001b[38;5;241m.\u001b[39mreporters[model_name]\u001b[38;5;241m.\u001b[39mmodel\n\u001b[1;32m    208\u001b[0m     X \u001b[38;5;241m=\u001b[39m \u001b[38;5;28mself\u001b[39m\u001b[38;5;241m.\u001b[39mreporters[model_name]\u001b[38;5;241m.\u001b[39mx_train\n\u001b[0;32m--> 209\u001b[0m     shap_fe \u001b[38;5;241m=\u001b[39m \u001b[43mget_shap_summary_plot\u001b[49m\u001b[43m(\u001b[49m\u001b[43mmodel\u001b[49m\u001b[43m,\u001b[49m\u001b[43m \u001b[49m\u001b[43mX\u001b[49m\u001b[43m,\u001b[49m\u001b[43m \u001b[49m\u001b[43mnative_plot\u001b[49m\u001b[38;5;241;43m=\u001b[39;49m\u001b[38;5;28;43;01mFalse\u001b[39;49;00m\u001b[43m)\u001b[49m\n\u001b[1;32m    210\u001b[0m     shap_summ_plots[model_name] \u001b[38;5;241m=\u001b[39m [shap_fe]\n\u001b[1;32m    211\u001b[0m \u001b[38;5;28;01mreturn\u001b[39;00m shap_summ_plots\n",
      "File \u001b[0;32m/d/regression_py/regression-py/src/ta_lib/_vendor/tigerml/model_eval/plotters/interpretation.py:355\u001b[0m, in \u001b[0;36mget_shap_summary_plot\u001b[0;34m(model, X, model_type, native_plot, feature_names, class_names)\u001b[0m\n\u001b[1;32m    353\u001b[0m shap_values_matrix \u001b[38;5;241m=\u001b[39m np\u001b[38;5;241m.\u001b[39marray(shap_values)\n\u001b[1;32m    354\u001b[0m mean_abs_shap_values \u001b[38;5;241m=\u001b[39m np\u001b[38;5;241m.\u001b[39mmean(np\u001b[38;5;241m.\u001b[39mabs(shap_values_matrix), axis\u001b[38;5;241m=\u001b[39m\u001b[38;5;241m1\u001b[39m)\n\u001b[0;32m--> 355\u001b[0m plot_df \u001b[38;5;241m=\u001b[39m \u001b[43mpd\u001b[49m\u001b[38;5;241;43m.\u001b[39;49m\u001b[43mDataFrame\u001b[49m\u001b[43m(\u001b[49m\n\u001b[1;32m    356\u001b[0m \u001b[43m    \u001b[49m\u001b[43mmean_abs_shap_values\u001b[49m\u001b[43m,\u001b[49m\u001b[43m \u001b[49m\u001b[43mindex\u001b[49m\u001b[38;5;241;43m=\u001b[39;49m\u001b[43mclass_names\u001b[49m\u001b[43m,\u001b[49m\u001b[43m \u001b[49m\u001b[43mcolumns\u001b[49m\u001b[38;5;241;43m=\u001b[39;49m\u001b[43mfeature_names\u001b[49m\n\u001b[1;32m    357\u001b[0m \u001b[43m\u001b[49m\u001b[43m)\u001b[49m\n\u001b[1;32m    358\u001b[0m plot_df \u001b[38;5;241m=\u001b[39m plot_df\u001b[38;5;241m.\u001b[39mT\n\u001b[1;32m    359\u001b[0m plot_df[\u001b[38;5;124m\"\u001b[39m\u001b[38;5;124m_row_sum\u001b[39m\u001b[38;5;124m\"\u001b[39m] \u001b[38;5;241m=\u001b[39m plot_df\u001b[38;5;241m.\u001b[39msum(axis\u001b[38;5;241m=\u001b[39m\u001b[38;5;241m1\u001b[39m)\n",
      "File \u001b[0;32m~/miniconda3/envs/capstone-dev/lib/python3.9/site-packages/pandas/core/frame.py:694\u001b[0m, in \u001b[0;36mDataFrame.__init__\u001b[0;34m(self, data, index, columns, dtype, copy)\u001b[0m\n\u001b[1;32m    684\u001b[0m         mgr \u001b[38;5;241m=\u001b[39m dict_to_mgr(\n\u001b[1;32m    685\u001b[0m             \u001b[38;5;66;03m# error: Item \"ndarray\" of \"Union[ndarray, Series, Index]\" has no\u001b[39;00m\n\u001b[1;32m    686\u001b[0m             \u001b[38;5;66;03m# attribute \"name\"\u001b[39;00m\n\u001b[0;32m   (...)\u001b[0m\n\u001b[1;32m    691\u001b[0m             typ\u001b[38;5;241m=\u001b[39mmanager,\n\u001b[1;32m    692\u001b[0m         )\n\u001b[1;32m    693\u001b[0m     \u001b[38;5;28;01melse\u001b[39;00m:\n\u001b[0;32m--> 694\u001b[0m         mgr \u001b[38;5;241m=\u001b[39m \u001b[43mndarray_to_mgr\u001b[49m\u001b[43m(\u001b[49m\n\u001b[1;32m    695\u001b[0m \u001b[43m            \u001b[49m\u001b[43mdata\u001b[49m\u001b[43m,\u001b[49m\n\u001b[1;32m    696\u001b[0m \u001b[43m            \u001b[49m\u001b[43mindex\u001b[49m\u001b[43m,\u001b[49m\n\u001b[1;32m    697\u001b[0m \u001b[43m            \u001b[49m\u001b[43mcolumns\u001b[49m\u001b[43m,\u001b[49m\n\u001b[1;32m    698\u001b[0m \u001b[43m            \u001b[49m\u001b[43mdtype\u001b[49m\u001b[38;5;241;43m=\u001b[39;49m\u001b[43mdtype\u001b[49m\u001b[43m,\u001b[49m\n\u001b[1;32m    699\u001b[0m \u001b[43m            \u001b[49m\u001b[43mcopy\u001b[49m\u001b[38;5;241;43m=\u001b[39;49m\u001b[43mcopy\u001b[49m\u001b[43m,\u001b[49m\n\u001b[1;32m    700\u001b[0m \u001b[43m            \u001b[49m\u001b[43mtyp\u001b[49m\u001b[38;5;241;43m=\u001b[39;49m\u001b[43mmanager\u001b[49m\u001b[43m,\u001b[49m\n\u001b[1;32m    701\u001b[0m \u001b[43m        \u001b[49m\u001b[43m)\u001b[49m\n\u001b[1;32m    703\u001b[0m \u001b[38;5;66;03m# For data is list-like, or Iterable (will consume into list)\u001b[39;00m\n\u001b[1;32m    704\u001b[0m \u001b[38;5;28;01melif\u001b[39;00m is_list_like(data):\n",
      "File \u001b[0;32m~/miniconda3/envs/capstone-dev/lib/python3.9/site-packages/pandas/core/internals/construction.py:351\u001b[0m, in \u001b[0;36mndarray_to_mgr\u001b[0;34m(values, index, columns, dtype, copy, typ)\u001b[0m\n\u001b[1;32m    346\u001b[0m \u001b[38;5;66;03m# _prep_ndarray ensures that values.ndim == 2 at this point\u001b[39;00m\n\u001b[1;32m    347\u001b[0m index, columns \u001b[38;5;241m=\u001b[39m _get_axes(\n\u001b[1;32m    348\u001b[0m     values\u001b[38;5;241m.\u001b[39mshape[\u001b[38;5;241m0\u001b[39m], values\u001b[38;5;241m.\u001b[39mshape[\u001b[38;5;241m1\u001b[39m], index\u001b[38;5;241m=\u001b[39mindex, columns\u001b[38;5;241m=\u001b[39mcolumns\n\u001b[1;32m    349\u001b[0m )\n\u001b[0;32m--> 351\u001b[0m \u001b[43m_check_values_indices_shape_match\u001b[49m\u001b[43m(\u001b[49m\u001b[43mvalues\u001b[49m\u001b[43m,\u001b[49m\u001b[43m \u001b[49m\u001b[43mindex\u001b[49m\u001b[43m,\u001b[49m\u001b[43m \u001b[49m\u001b[43mcolumns\u001b[49m\u001b[43m)\u001b[49m\n\u001b[1;32m    353\u001b[0m \u001b[38;5;28;01mif\u001b[39;00m typ \u001b[38;5;241m==\u001b[39m \u001b[38;5;124m\"\u001b[39m\u001b[38;5;124marray\u001b[39m\u001b[38;5;124m\"\u001b[39m:\n\u001b[1;32m    355\u001b[0m     \u001b[38;5;28;01mif\u001b[39;00m \u001b[38;5;28missubclass\u001b[39m(values\u001b[38;5;241m.\u001b[39mdtype\u001b[38;5;241m.\u001b[39mtype, \u001b[38;5;28mstr\u001b[39m):\n",
      "File \u001b[0;32m~/miniconda3/envs/capstone-dev/lib/python3.9/site-packages/pandas/core/internals/construction.py:422\u001b[0m, in \u001b[0;36m_check_values_indices_shape_match\u001b[0;34m(values, index, columns)\u001b[0m\n\u001b[1;32m    420\u001b[0m passed \u001b[38;5;241m=\u001b[39m values\u001b[38;5;241m.\u001b[39mshape\n\u001b[1;32m    421\u001b[0m implied \u001b[38;5;241m=\u001b[39m (\u001b[38;5;28mlen\u001b[39m(index), \u001b[38;5;28mlen\u001b[39m(columns))\n\u001b[0;32m--> 422\u001b[0m \u001b[38;5;28;01mraise\u001b[39;00m \u001b[38;5;167;01mValueError\u001b[39;00m(\u001b[38;5;124mf\u001b[39m\u001b[38;5;124m\"\u001b[39m\u001b[38;5;124mShape of passed values is \u001b[39m\u001b[38;5;132;01m{\u001b[39;00mpassed\u001b[38;5;132;01m}\u001b[39;00m\u001b[38;5;124m, indices imply \u001b[39m\u001b[38;5;132;01m{\u001b[39;00mimplied\u001b[38;5;132;01m}\u001b[39;00m\u001b[38;5;124m\"\u001b[39m)\n",
      "\u001b[0;31mValueError\u001b[0m: Shape of passed values is (4128, 1), indices imply (4128, 14)"
     ]
    }
   ],
   "source": [
    "model_pipelines = [reg_ppln,dtree_ppln,xgb_pipeline_final]\n",
    "model_comparison_report = RegressionComparison(models=model_pipelines,x=housing_prepared, y=train_y.values,refit=True)\n",
    "metrics = model_comparison_report.get_report(file_path='./reports/model_experimenting/regression_comparison')\n"
   ]
  },
  {
   "cell_type": "code",
   "execution_count": null,
   "metadata": {},
   "outputs": [],
   "source": [
    "model_comparison_report.performance_metrics"
   ]
  },
  {
   "cell_type": "markdown",
   "metadata": {},
   "source": [
    "##4.2 RANDOM FOREST"
   ]
  },
  {
   "cell_type": "code",
   "execution_count": 52,
   "metadata": {},
   "outputs": [
    {
     "name": "stderr",
     "output_type": "stream",
     "text": [
      "A column-vector y was passed when a 1d array was expected. Please change the shape of y to (n_samples,), for example using ravel().\n"
     ]
    },
    {
     "data": {
      "text/html": [
       "<style>#sk-container-id-5 {color: black;background-color: white;}#sk-container-id-5 pre{padding: 0;}#sk-container-id-5 div.sk-toggleable {background-color: white;}#sk-container-id-5 label.sk-toggleable__label {cursor: pointer;display: block;width: 100%;margin-bottom: 0;padding: 0.3em;box-sizing: border-box;text-align: center;}#sk-container-id-5 label.sk-toggleable__label-arrow:before {content: \"▸\";float: left;margin-right: 0.25em;color: #696969;}#sk-container-id-5 label.sk-toggleable__label-arrow:hover:before {color: black;}#sk-container-id-5 div.sk-estimator:hover label.sk-toggleable__label-arrow:before {color: black;}#sk-container-id-5 div.sk-toggleable__content {max-height: 0;max-width: 0;overflow: hidden;text-align: left;background-color: #f0f8ff;}#sk-container-id-5 div.sk-toggleable__content pre {margin: 0.2em;color: black;border-radius: 0.25em;background-color: #f0f8ff;}#sk-container-id-5 input.sk-toggleable__control:checked~div.sk-toggleable__content {max-height: 200px;max-width: 100%;overflow: auto;}#sk-container-id-5 input.sk-toggleable__control:checked~label.sk-toggleable__label-arrow:before {content: \"▾\";}#sk-container-id-5 div.sk-estimator input.sk-toggleable__control:checked~label.sk-toggleable__label {background-color: #d4ebff;}#sk-container-id-5 div.sk-label input.sk-toggleable__control:checked~label.sk-toggleable__label {background-color: #d4ebff;}#sk-container-id-5 input.sk-hidden--visually {border: 0;clip: rect(1px 1px 1px 1px);clip: rect(1px, 1px, 1px, 1px);height: 1px;margin: -1px;overflow: hidden;padding: 0;position: absolute;width: 1px;}#sk-container-id-5 div.sk-estimator {font-family: monospace;background-color: #f0f8ff;border: 1px dotted black;border-radius: 0.25em;box-sizing: border-box;margin-bottom: 0.5em;}#sk-container-id-5 div.sk-estimator:hover {background-color: #d4ebff;}#sk-container-id-5 div.sk-parallel-item::after {content: \"\";width: 100%;border-bottom: 1px solid gray;flex-grow: 1;}#sk-container-id-5 div.sk-label:hover label.sk-toggleable__label {background-color: #d4ebff;}#sk-container-id-5 div.sk-serial::before {content: \"\";position: absolute;border-left: 1px solid gray;box-sizing: border-box;top: 0;bottom: 0;left: 50%;z-index: 0;}#sk-container-id-5 div.sk-serial {display: flex;flex-direction: column;align-items: center;background-color: white;padding-right: 0.2em;padding-left: 0.2em;position: relative;}#sk-container-id-5 div.sk-item {position: relative;z-index: 1;}#sk-container-id-5 div.sk-parallel {display: flex;align-items: stretch;justify-content: center;background-color: white;position: relative;}#sk-container-id-5 div.sk-item::before, #sk-container-id-5 div.sk-parallel-item::before {content: \"\";position: absolute;border-left: 1px solid gray;box-sizing: border-box;top: 0;bottom: 0;left: 50%;z-index: -1;}#sk-container-id-5 div.sk-parallel-item {display: flex;flex-direction: column;z-index: 1;position: relative;background-color: white;}#sk-container-id-5 div.sk-parallel-item:first-child::after {align-self: flex-end;width: 50%;}#sk-container-id-5 div.sk-parallel-item:last-child::after {align-self: flex-start;width: 50%;}#sk-container-id-5 div.sk-parallel-item:only-child::after {width: 0;}#sk-container-id-5 div.sk-dashed-wrapped {border: 1px dashed gray;margin: 0 0.4em 0.5em 0.4em;box-sizing: border-box;padding-bottom: 0.4em;background-color: white;}#sk-container-id-5 div.sk-label label {font-family: monospace;font-weight: bold;display: inline-block;line-height: 1.2em;}#sk-container-id-5 div.sk-label-container {text-align: center;}#sk-container-id-5 div.sk-container {/* jupyter's `normalize.less` sets `[hidden] { display: none; }` but bootstrap.min.css set `[hidden] { display: none !important; }` so we also need the `!important` here to be able to override the default hidden behavior on the sphinx rendered scikit-learn.org. See: https://github.com/scikit-learn/scikit-learn/issues/21755 */display: inline-block !important;position: relative;}#sk-container-id-5 div.sk-text-repr-fallback {display: none;}</style><div id=\"sk-container-id-5\" class=\"sk-top-container\"><div class=\"sk-text-repr-fallback\"><pre>Pipeline(steps=[(&#x27;ran_forest&#x27;, RandomForestRegressor())])</pre><b>In a Jupyter environment, please rerun this cell to show the HTML representation or trust the notebook. <br />On GitHub, the HTML representation is unable to render, please try loading this page with nbviewer.org.</b></div><div class=\"sk-container\" hidden><div class=\"sk-item sk-dashed-wrapped\"><div class=\"sk-label-container\"><div class=\"sk-label sk-toggleable\"><input class=\"sk-toggleable__control sk-hidden--visually\" id=\"sk-estimator-id-11\" type=\"checkbox\" ><label for=\"sk-estimator-id-11\" class=\"sk-toggleable__label sk-toggleable__label-arrow\">Pipeline</label><div class=\"sk-toggleable__content\"><pre>Pipeline(steps=[(&#x27;ran_forest&#x27;, RandomForestRegressor())])</pre></div></div></div><div class=\"sk-serial\"><div class=\"sk-item\"><div class=\"sk-estimator sk-toggleable\"><input class=\"sk-toggleable__control sk-hidden--visually\" id=\"sk-estimator-id-12\" type=\"checkbox\" ><label for=\"sk-estimator-id-12\" class=\"sk-toggleable__label sk-toggleable__label-arrow\">RandomForestRegressor</label><div class=\"sk-toggleable__content\"><pre>RandomForestRegressor()</pre></div></div></div></div></div></div></div>"
      ],
      "text/plain": [
       "Pipeline(steps=[('ran_forest', RandomForestRegressor())])"
      ]
     },
     "execution_count": 52,
     "metadata": {},
     "output_type": "execute_result"
    }
   ],
   "source": [
    "estimator = RandomForestRegressor()\n",
    "rf_training_pipe_init = Pipeline([\n",
    "    ('ran_forest', RandomForestRegressor())\n",
    "])\n",
    "rf_training_pipe_init.fit(housing_prepared, train_y)"
   ]
  },
  {
   "cell_type": "code",
   "execution_count": 55,
   "metadata": {},
   "outputs": [],
   "source": [
    "import optuna\n"
   ]
  },
  {
   "cell_type": "code",
   "execution_count": 58,
   "metadata": {},
   "outputs": [],
   "source": [
    "import mlflow\n",
    "from optuna.integration.mlflow import MLflowCallback"
   ]
  },
  {
   "cell_type": "code",
   "execution_count": 60,
   "metadata": {},
   "outputs": [
    {
     "name": "stderr",
     "output_type": "stream",
     "text": [
      "MLflowCallback is experimental (supported from v1.4.0). The interface can change in the future.\n",
      "\u001b[32m[I 2023-03-08 19:17:19,603]\u001b[0m A new study created in memory with name: RandomForest\u001b[0m\n",
      "\u001b[32m[I 2023-03-08 19:17:20,971]\u001b[0m Trial 0 finished with value: 0.637518267890137 and parameters: {'n_estimators': 3, 'max_depth': 5.722066855086019, 'max_features': 5}. Best is trial 0 with value: 0.637518267890137.\u001b[0m\n",
      "2023/03/08 19:17:21 INFO mlflow.tracking.fluent: Experiment with name 'RandomForest' does not exist. Creating a new experiment.\n",
      "\u001b[32m[I 2023-03-08 19:17:23,313]\u001b[0m Trial 1 finished with value: 0.7537601395710231 and parameters: {'n_estimators': 13, 'max_depth': 17.992416621931067, 'max_features': 5}. Best is trial 1 with value: 0.7537601395710231.\u001b[0m\n",
      "\u001b[32m[I 2023-03-08 19:17:24,586]\u001b[0m Trial 2 finished with value: 0.3481933643538956 and parameters: {'n_estimators': 8, 'max_depth': 1.53357765988187, 'max_features': 6}. Best is trial 1 with value: 0.7537601395710231.\u001b[0m\n",
      "\u001b[32m[I 2023-03-08 19:17:26,251]\u001b[0m Trial 3 finished with value: 0.5242118353853262 and parameters: {'n_estimators': 8, 'max_depth': 2.177670915522039, 'max_features': 8}. Best is trial 1 with value: 0.7537601395710231.\u001b[0m\n",
      "\u001b[32m[I 2023-03-08 19:17:27,929]\u001b[0m Trial 4 finished with value: 0.757948845296244 and parameters: {'n_estimators': 14, 'max_depth': 28.771159139740178, 'max_features': 4}. Best is trial 4 with value: 0.757948845296244.\u001b[0m\n"
     ]
    },
    {
     "name": "stdout",
     "output_type": "stream",
     "text": [
      "Accuracy: 0.757948845296244\n",
      "Best hyperparameters: {'n_estimators': 14, 'max_depth': 28.771159139740178, 'max_features': 4}\n"
     ]
    }
   ],
   "source": [
    "from sklearn.model_selection import cross_val_score\n",
    "mlflc = MLflowCallback(\n",
    "    tracking_uri=\"/d/regression_py/regression-py/mlruns\",\n",
    "    metric_name=\"Accuracy\",\n",
    "    mlflow_kwargs={\"nested\": True}\n",
    ")\n",
    "\n",
    "def objective(trial):\n",
    "    data = func_wrap()\n",
    "    n_estimators = trial.suggest_int('n_estimators', 2, 20)\n",
    "    max_depth = int(trial.suggest_float('max_depth', 1, 32, log=True))\n",
    "    max_features = trial.suggest_int('max_features', 2, 8)\n",
    "    \n",
    "    clf = RandomForestRegressor(n_estimators=n_estimators, max_depth=max_depth, max_features = max_features)\n",
    "    \n",
    "    return cross_val_score(clf, data[0], data[1], n_jobs=-1, cv=5).mean()\n",
    "\n",
    "data_op = [housing_prepared, np.array(train_y[\"median_house_value\"])]\n",
    "\n",
    "def func_wrap(d = data_op):\n",
    "    return d\n",
    "    \n",
    "study = optuna.create_study(study_name=\"RandomForest\",direction='maximize')\n",
    "study.optimize(objective, n_trials=5, callbacks=[mlflc])\n",
    "\n",
    "trial = study.best_trial\n",
    "\n",
    "print('Accuracy: {}'.format(trial.value))\n",
    "print(\"Best hyperparameters: {}\".format(trial.params))"
   ]
  },
  {
   "cell_type": "code",
   "execution_count": null,
   "metadata": {},
   "outputs": [],
   "source": []
  },
  {
   "cell_type": "code",
   "execution_count": null,
   "metadata": {},
   "outputs": [],
   "source": []
  },
  {
   "cell_type": "code",
   "execution_count": null,
   "metadata": {},
   "outputs": [],
   "source": []
  },
  {
   "cell_type": "markdown",
   "metadata": {},
   "source": [
    "A report comparing the performance, metrics between Linear model and Tree model are available [here](https://drive.google.com/file/d/1LDibiFap9K4DKME-Y0S0mtI_05lTdaJF/view?usp=sharing)"
   ]
  },
  {
   "cell_type": "markdown",
   "metadata": {},
   "source": [
    "**Dev NOTES**\n",
    "<details>\n",
    "\n",
    "the above metrics are absolute nos and not %ges"
   ]
  },
  {
   "cell_type": "markdown",
   "metadata": {},
   "source": [
    "In this example we are choosing LM model for pipelining. General criteria for choosing production models is:\n",
    "\n",
    "- Parametric models (aka whitebox models) such as Linear Regression are easier to explain to non-technical audience.\n",
    "- Generally these are accepted fast and adoption is quicker.\n",
    "- If the downstream calls for optimization using these models parametric models are easier to implement.\n",
    "- When accuracy is primary goal without explainability, the above two takes a backseat"
   ]
  }
 ],
 "metadata": {
  "kernelspec": {
   "display_name": "Python 3 (ipykernel)",
   "language": "python",
   "name": "python3"
  },
  "language_info": {
   "codemirror_mode": {
    "name": "ipython",
    "version": 3
   },
   "file_extension": ".py",
   "mimetype": "text/x-python",
   "name": "python",
   "nbconvert_exporter": "python",
   "pygments_lexer": "ipython3",
   "version": "3.9.15"
  },
  "vscode": {
   "interpreter": {
    "hash": "0008e8a255aee32177113cd1866a2c4b246af9a4b3b46533d1e8da79147543bb"
   }
  }
 },
 "nbformat": 4,
 "nbformat_minor": 4
}
